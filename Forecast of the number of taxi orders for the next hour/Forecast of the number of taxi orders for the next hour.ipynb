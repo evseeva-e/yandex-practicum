{
 "cells": [
  {
   "cell_type": "markdown",
   "metadata": {},
   "source": [
    "#  Прогнозирование заказов такси"
   ]
  },
  {
   "cell_type": "markdown",
   "metadata": {},
   "source": [
    "Компания «Чётенькое такси» собрала исторические данные о заказах такси в аэропортах. Чтобы привлекать больше водителей в период пиковой нагрузки, нужно спрогнозировать количество заказов такси на следующий час"
   ]
  },
  {
   "cell_type": "markdown",
   "metadata": {},
   "source": [
    "## Подготовка"
   ]
  },
  {
   "cell_type": "markdown",
   "metadata": {},
   "source": [
    "### Импорт библиотек"
   ]
  },
  {
   "cell_type": "code",
   "execution_count": 2,
   "metadata": {},
   "outputs": [],
   "source": [
    "import time\n",
    "import numpy as np\n",
    "\n",
    "import pandas as pd\n",
    "import seaborn as sns\n",
    "import matplotlib\n",
    "from matplotlib import pyplot as plt\n",
    "import lightgbm as lgb\n",
    "\n",
    "from sklearn.model_selection import (GridSearchCV, RandomizedSearchCV, train_test_split, cross_val_score, \n",
    "                                      TimeSeriesSplit)\n",
    "\n",
    "from sklearn.linear_model import (LinearRegression, Ridge)\n",
    "from sklearn.ensemble import (RandomForestRegressor, GradientBoostingRegressor)\n",
    "from sklearn.tree import DecisionTreeRegressor\n",
    "from catboost import CatBoostRegressor\n",
    "from lightgbm import LGBMRegressor\n",
    "from sklearn.dummy import DummyRegressor\n",
    "\n",
    "from sklearn.metrics import mean_squared_error, make_scorer\n",
    "from statsmodels.tsa.seasonal import seasonal_decompose\n",
    "\n",
    "from phik import phik_matrix\n",
    "from phik.report import plot_correlation_matrix"
   ]
  },
  {
   "cell_type": "markdown",
   "metadata": {},
   "source": [
    "### Подготовка данных "
   ]
  },
  {
   "cell_type": "code",
   "execution_count": 4,
   "metadata": {
    "scrolled": false
   },
   "outputs": [
    {
     "name": "stdout",
     "output_type": "stream",
     "text": [
      "<class 'pandas.core.frame.DataFrame'>\n",
      "DatetimeIndex: 26496 entries, 2018-03-01 00:00:00 to 2018-08-31 23:50:00\n",
      "Data columns (total 1 columns):\n",
      " #   Column      Non-Null Count  Dtype\n",
      "---  ------      --------------  -----\n",
      " 0   num_orders  26496 non-null  int64\n",
      "dtypes: int64(1)\n",
      "memory usage: 414.0 KB\n"
     ]
    },
    {
     "data": {
      "text/plain": [
       "None"
      ]
     },
     "metadata": {},
     "output_type": "display_data"
    },
    {
     "data": {
      "text/html": [
       "<div>\n",
       "<style scoped>\n",
       "    .dataframe tbody tr th:only-of-type {\n",
       "        vertical-align: middle;\n",
       "    }\n",
       "\n",
       "    .dataframe tbody tr th {\n",
       "        vertical-align: top;\n",
       "    }\n",
       "\n",
       "    .dataframe thead th {\n",
       "        text-align: right;\n",
       "    }\n",
       "</style>\n",
       "<table border=\"1\" class=\"dataframe\">\n",
       "  <thead>\n",
       "    <tr style=\"text-align: right;\">\n",
       "      <th></th>\n",
       "      <th>num_orders</th>\n",
       "    </tr>\n",
       "    <tr>\n",
       "      <th>datetime</th>\n",
       "      <th></th>\n",
       "    </tr>\n",
       "  </thead>\n",
       "  <tbody>\n",
       "    <tr>\n",
       "      <th>2018-03-01 00:00:00</th>\n",
       "      <td>9</td>\n",
       "    </tr>\n",
       "    <tr>\n",
       "      <th>2018-03-01 00:10:00</th>\n",
       "      <td>14</td>\n",
       "    </tr>\n",
       "    <tr>\n",
       "      <th>2018-03-01 00:20:00</th>\n",
       "      <td>28</td>\n",
       "    </tr>\n",
       "    <tr>\n",
       "      <th>2018-03-01 00:30:00</th>\n",
       "      <td>20</td>\n",
       "    </tr>\n",
       "    <tr>\n",
       "      <th>2018-03-01 00:40:00</th>\n",
       "      <td>32</td>\n",
       "    </tr>\n",
       "  </tbody>\n",
       "</table>\n",
       "</div>"
      ],
      "text/plain": [
       "                     num_orders\n",
       "datetime                       \n",
       "2018-03-01 00:00:00           9\n",
       "2018-03-01 00:10:00          14\n",
       "2018-03-01 00:20:00          28\n",
       "2018-03-01 00:30:00          20\n",
       "2018-03-01 00:40:00          32"
      ]
     },
     "execution_count": 4,
     "metadata": {},
     "output_type": "execute_result"
    }
   ],
   "source": [
    "display(data.info())\n",
    "data.head()"
   ]
  },
  {
   "cell_type": "code",
   "execution_count": 5,
   "metadata": {},
   "outputs": [
    {
     "data": {
      "text/plain": [
       "num_orders    0\n",
       "dtype: int64"
      ]
     },
     "execution_count": 5,
     "metadata": {},
     "output_type": "execute_result"
    }
   ],
   "source": [
    "data.isnull().sum()"
   ]
  },
  {
   "cell_type": "code",
   "execution_count": 6,
   "metadata": {},
   "outputs": [
    {
     "data": {
      "text/plain": [
       "True"
      ]
     },
     "execution_count": 6,
     "metadata": {},
     "output_type": "execute_result"
    }
   ],
   "source": [
    "data.index.is_monotonic"
   ]
  },
  {
   "cell_type": "code",
   "execution_count": 7,
   "metadata": {},
   "outputs": [
    {
     "data": {
      "text/plain": [
       "(Timestamp('2018-03-01 00:00:00'), Timestamp('2018-08-31 23:50:00'))"
      ]
     },
     "execution_count": 7,
     "metadata": {},
     "output_type": "execute_result"
    }
   ],
   "source": [
    "data.index.min(), data.index.max()"
   ]
  },
  {
   "cell_type": "markdown",
   "metadata": {},
   "source": [
    "Для работы предоставлены данные за полгода: с 1 марта по 31 августа. Данные расположены в хронологическом порядке, пропуски отсутствуют.\n",
    "В процессе загрузки датасета мы привели дату к корректному типу и вынесли в индексы. Исходный датасет имеет 26496 строк с разбиением количества заказов на каждые 10 минут.\n",
    "\n",
    "Теперь выполним ресемплирование данных с агрегированием по одному часу:"
   ]
  },
  {
   "cell_type": "code",
   "execution_count": 8,
   "metadata": {},
   "outputs": [],
   "source": [
    "data = data.resample('1H').sum()"
   ]
  },
  {
   "cell_type": "markdown",
   "metadata": {},
   "source": [
    "В целях дополнительной экономии памяти, снизим разрядность у признака num_orders с int64 до int32"
   ]
  },
  {
   "cell_type": "code",
   "execution_count": 9,
   "metadata": {},
   "outputs": [],
   "source": [
    "data['num_orders'] = data['num_orders'].astype('int32') "
   ]
  },
  {
   "cell_type": "code",
   "execution_count": 10,
   "metadata": {
    "scrolled": false
   },
   "outputs": [
    {
     "name": "stdout",
     "output_type": "stream",
     "text": [
      "<class 'pandas.core.frame.DataFrame'>\n",
      "DatetimeIndex: 4416 entries, 2018-03-01 00:00:00 to 2018-08-31 23:00:00\n",
      "Freq: H\n",
      "Data columns (total 1 columns):\n",
      " #   Column      Non-Null Count  Dtype\n",
      "---  ------      --------------  -----\n",
      " 0   num_orders  4416 non-null   int32\n",
      "dtypes: int32(1)\n",
      "memory usage: 51.8 KB\n"
     ]
    },
    {
     "data": {
      "text/plain": [
       "None"
      ]
     },
     "metadata": {},
     "output_type": "display_data"
    },
    {
     "data": {
      "text/html": [
       "<div>\n",
       "<style scoped>\n",
       "    .dataframe tbody tr th:only-of-type {\n",
       "        vertical-align: middle;\n",
       "    }\n",
       "\n",
       "    .dataframe tbody tr th {\n",
       "        vertical-align: top;\n",
       "    }\n",
       "\n",
       "    .dataframe thead th {\n",
       "        text-align: right;\n",
       "    }\n",
       "</style>\n",
       "<table border=\"1\" class=\"dataframe\">\n",
       "  <thead>\n",
       "    <tr style=\"text-align: right;\">\n",
       "      <th></th>\n",
       "      <th>num_orders</th>\n",
       "    </tr>\n",
       "    <tr>\n",
       "      <th>datetime</th>\n",
       "      <th></th>\n",
       "    </tr>\n",
       "  </thead>\n",
       "  <tbody>\n",
       "    <tr>\n",
       "      <th>2018-03-01 00:00:00</th>\n",
       "      <td>124</td>\n",
       "    </tr>\n",
       "    <tr>\n",
       "      <th>2018-03-01 01:00:00</th>\n",
       "      <td>85</td>\n",
       "    </tr>\n",
       "    <tr>\n",
       "      <th>2018-03-01 02:00:00</th>\n",
       "      <td>71</td>\n",
       "    </tr>\n",
       "    <tr>\n",
       "      <th>2018-03-01 03:00:00</th>\n",
       "      <td>66</td>\n",
       "    </tr>\n",
       "    <tr>\n",
       "      <th>2018-03-01 04:00:00</th>\n",
       "      <td>43</td>\n",
       "    </tr>\n",
       "  </tbody>\n",
       "</table>\n",
       "</div>"
      ],
      "text/plain": [
       "                     num_orders\n",
       "datetime                       \n",
       "2018-03-01 00:00:00         124\n",
       "2018-03-01 01:00:00          85\n",
       "2018-03-01 02:00:00          71\n",
       "2018-03-01 03:00:00          66\n",
       "2018-03-01 04:00:00          43"
      ]
     },
     "execution_count": 10,
     "metadata": {},
     "output_type": "execute_result"
    }
   ],
   "source": [
    "display(data.info())\n",
    "data.head()"
   ]
  },
  {
   "cell_type": "markdown",
   "metadata": {},
   "source": [
    "Полученный датасет содержит 4416 строк и готов к анализу. "
   ]
  },
  {
   "cell_type": "markdown",
   "metadata": {},
   "source": [
    "## Анализ"
   ]
  },
  {
   "cell_type": "markdown",
   "metadata": {},
   "source": [
    "Посмотрим на исходный график временного ряда и график скользящего среднего. Отмечаем постепенный рост количества заказов к осени."
   ]
  },
  {
   "cell_type": "code",
   "execution_count": 11,
   "metadata": {
    "scrolled": false
   },
   "outputs": [
    {
     "data": {
      "image/png": "[encoded data removed]",
      "text/plain": [
       "<Figure size 1080x432 with 1 Axes>"
      ]
     },
     "metadata": {
      "needs_background": "light"
     },
     "output_type": "display_data"
    }
   ],
   "source": [
    "df = data.copy() \n",
    "df['rolling_mean'] = df.rolling(100).mean() \n",
    "df.plot(figsize=(15, 6), title='Распределение заказов по времени')\n",
    "None"
   ]
  },
  {
   "cell_type": "markdown",
   "metadata": {},
   "source": [
    "### Тренд"
   ]
  },
  {
   "cell_type": "code",
   "execution_count": 12,
   "metadata": {
    "scrolled": false
   },
   "outputs": [
    {
     "data": {
      "text/plain": [
       "Text(0.5, 1.0, 'Trend')"
      ]
     },
     "execution_count": 12,
     "metadata": {},
     "output_type": "execute_result"
    },
    {
     "data": {
      "image/png": "[encoded data removed]",
      "text/plain": [
       "<Figure size 1080x432 with 1 Axes>"
      ]
     },
     "metadata": {
      "needs_background": "light"
     },
     "output_type": "display_data"
    }
   ],
   "source": [
    "# Декомпозиция временного ряда\n",
    "decomposed = seasonal_decompose(data) \n",
    "\n",
    "# Построение графика\n",
    "plt.figure(figsize=(15, 6))\n",
    "decomposed.trend.plot()\n",
    "plt.title('Trend')\n"
   ]
  },
  {
   "cell_type": "markdown",
   "metadata": {},
   "source": [
    "### Сезонность"
   ]
  },
  {
   "cell_type": "markdown",
   "metadata": {},
   "source": [
    "#### Дневная сезонность"
   ]
  },
  {
   "cell_type": "code",
   "execution_count": 13,
   "metadata": {
    "scrolled": false
   },
   "outputs": [
    {
     "data": {
      "image/png": "[encoded data removed]",
      "text/plain": [
       "<Figure size 1080x432 with 1 Axes>"
      ]
     },
     "metadata": {
      "needs_background": "light"
     },
     "output_type": "display_data"
    }
   ],
   "source": [
    "# Декомпозиция временного ряда\n",
    "decomposed = seasonal_decompose(data)\n",
    "\n",
    "# Извлечение сезонной компоненты\n",
    "seasonal_component = decomposed.seasonal['2018-08-20':'2018-08-26']\n",
    "\n",
    "# Построение графика\n",
    "plt.figure(figsize=(15, 6))\n",
    "seasonal_component.plot()\n",
    "None"
   ]
  },
  {
   "cell_type": "code",
   "execution_count": 14,
   "metadata": {},
   "outputs": [
    {
     "data": {
      "image/png": "[encoded data removed]",
      "text/plain": [
       "<Figure size 1080x432 with 1 Axes>"
      ]
     },
     "metadata": {
      "needs_background": "light"
     },
     "output_type": "display_data"
    }
   ],
   "source": [
    "# Извлечение сезонной компоненты\n",
    "seasonal_component = decomposed.seasonal['2018-08-25':'2018-08-26']\n",
    "\n",
    "# Построение графика\n",
    "plt.figure(figsize=(15, 6))\n",
    "seasonal_component.plot()\n",
    "None"
   ]
  },
  {
   "cell_type": "markdown",
   "metadata": {},
   "source": [
    "Прослеживается явная дневная сезонность. Можем увидеть, что больше всего заказов поступает в полночь, а с 6 до 7 принимается наименьшее количество заказов. "
   ]
  },
  {
   "cell_type": "markdown",
   "metadata": {},
   "source": [
    "#### Недельная сезонность"
   ]
  },
  {
   "cell_type": "code",
   "execution_count": 15,
   "metadata": {},
   "outputs": [
    {
     "data": {
      "image/png": "[encoded data removed]",
      "text/plain": [
       "<Figure size 1080x432 with 1 Axes>"
      ]
     },
     "metadata": {
      "needs_background": "light"
     },
     "output_type": "display_data"
    }
   ],
   "source": [
    "# Ресемплирование данных с агрегированием по дням\n",
    "data_week = data.resample('1D').sum()\n",
    "\n",
    "\n",
    "# Декомпозиция временного ряда\n",
    "decomposed = seasonal_decompose(data_week)\n",
    "\n",
    "# Извлечение сезонной компоненты\n",
    "seasonal_component = decomposed.seasonal['2018-07-01':'2018-08-26']\n",
    "\n",
    "# Построение графика\n",
    "plt.figure(figsize=(15, 6))\n",
    "plt.title('Недельная сезонность')\n",
    "seasonal_component.plot()\n",
    "None"
   ]
  },
  {
   "cell_type": "markdown",
   "metadata": {},
   "source": [
    "На графике прослеживается наличие недельной сезонности."
   ]
  },
  {
   "cell_type": "code",
   "execution_count": 16,
   "metadata": {
    "scrolled": false
   },
   "outputs": [
    {
     "data": {
      "image/png": "[encoded data removed]",
      "text/plain": [
       "<Figure size 1080x432 with 1 Axes>"
      ]
     },
     "metadata": {
      "needs_background": "light"
     },
     "output_type": "display_data"
    }
   ],
   "source": [
    "seasonal_component = decomposed.seasonal['2018-08-20':'2018-08-26']\n",
    "\n",
    "# Добавление столбца с днем недели\n",
    "data_week['day_of_week'] = data_week.index.day_name()\n",
    "\n",
    "# Декомпозиция временного ряда (анализируем столбец 'num_orders')\n",
    "decomposed = seasonal_decompose(data_week['num_orders'], period=7)\n",
    "\n",
    "# Извлечение сезонной компоненты\n",
    "seasonal_component = decomposed.seasonal['2018-08-20':'2018-08-26']\n",
    "\n",
    "# Создание DataFrame для сезонной компоненты и добавление дней недели\n",
    "seasonal_df = pd.DataFrame(seasonal_component)\n",
    "seasonal_df['day_of_week'] = seasonal_df.index.day_name()\n",
    "\n",
    "# Построение графика\n",
    "plt.figure(figsize=(15, 6))\n",
    "plt.plot(seasonal_df.index, seasonal_df['seasonal'])\n",
    "plt.xticks(seasonal_df.index, seasonal_df['day_of_week'], rotation=45)\n",
    "plt.title('Недельная сезонность')\n",
    "\n",
    "plt.show()"
   ]
  },
  {
   "cell_type": "markdown",
   "metadata": {},
   "source": [
    "Больше всего такси заказывают в понедельник и пятницу. Реже всего — во вторник."
   ]
  },
  {
   "cell_type": "markdown",
   "metadata": {},
   "source": [
    "### Создание признаков и корреляционный анализ"
   ]
  },
  {
   "cell_type": "markdown",
   "metadata": {},
   "source": [
    "Добавим новые признаки в датасет"
   ]
  },
  {
   "cell_type": "code",
   "execution_count": 17,
   "metadata": {
    "scrolled": false
   },
   "outputs": [],
   "source": [
    "def make_features(dataframe, max_lag, rolling_mean_size):\n",
    "    data = dataframe.copy(deep=True)\n",
    "    data['day'] = data.index.day\n",
    "    data['dayofweek'] = data.index.dayofweek\n",
    "    \n",
    "    for lag in range(1, max_lag + 1):\n",
    "        data['lag_{}'.format(lag)] = data['num_orders'].shift(lag)\n",
    "\n",
    "    data['rolling_mean'] = data['num_orders'].shift().rolling(rolling_mean_size).mean()\n",
    "    return data\n",
    "\n",
    "data = make_features(data, 28, 7)"
   ]
  },
  {
   "cell_type": "code",
   "execution_count": 18,
   "metadata": {},
   "outputs": [
    {
     "data": {
      "text/html": [
       "<div>\n",
       "<style scoped>\n",
       "    .dataframe tbody tr th:only-of-type {\n",
       "        vertical-align: middle;\n",
       "    }\n",
       "\n",
       "    .dataframe tbody tr th {\n",
       "        vertical-align: top;\n",
       "    }\n",
       "\n",
       "    .dataframe thead th {\n",
       "        text-align: right;\n",
       "    }\n",
       "</style>\n",
       "<table border=\"1\" class=\"dataframe\">\n",
       "  <thead>\n",
       "    <tr style=\"text-align: right;\">\n",
       "      <th></th>\n",
       "      <th>num_orders</th>\n",
       "      <th>day</th>\n",
       "      <th>dayofweek</th>\n",
       "      <th>lag_1</th>\n",
       "      <th>lag_2</th>\n",
       "      <th>lag_3</th>\n",
       "      <th>lag_4</th>\n",
       "      <th>lag_5</th>\n",
       "      <th>lag_6</th>\n",
       "      <th>lag_7</th>\n",
       "      <th>...</th>\n",
       "      <th>lag_20</th>\n",
       "      <th>lag_21</th>\n",
       "      <th>lag_22</th>\n",
       "      <th>lag_23</th>\n",
       "      <th>lag_24</th>\n",
       "      <th>lag_25</th>\n",
       "      <th>lag_26</th>\n",
       "      <th>lag_27</th>\n",
       "      <th>lag_28</th>\n",
       "      <th>rolling_mean</th>\n",
       "    </tr>\n",
       "    <tr>\n",
       "      <th>datetime</th>\n",
       "      <th></th>\n",
       "      <th></th>\n",
       "      <th></th>\n",
       "      <th></th>\n",
       "      <th></th>\n",
       "      <th></th>\n",
       "      <th></th>\n",
       "      <th></th>\n",
       "      <th></th>\n",
       "      <th></th>\n",
       "      <th></th>\n",
       "      <th></th>\n",
       "      <th></th>\n",
       "      <th></th>\n",
       "      <th></th>\n",
       "      <th></th>\n",
       "      <th></th>\n",
       "      <th></th>\n",
       "      <th></th>\n",
       "      <th></th>\n",
       "      <th></th>\n",
       "    </tr>\n",
       "  </thead>\n",
       "  <tbody>\n",
       "    <tr>\n",
       "      <th>2018-03-01 00:00:00</th>\n",
       "      <td>124</td>\n",
       "      <td>1</td>\n",
       "      <td>3</td>\n",
       "      <td>NaN</td>\n",
       "      <td>NaN</td>\n",
       "      <td>NaN</td>\n",
       "      <td>NaN</td>\n",
       "      <td>NaN</td>\n",
       "      <td>NaN</td>\n",
       "      <td>NaN</td>\n",
       "      <td>...</td>\n",
       "      <td>NaN</td>\n",
       "      <td>NaN</td>\n",
       "      <td>NaN</td>\n",
       "      <td>NaN</td>\n",
       "      <td>NaN</td>\n",
       "      <td>NaN</td>\n",
       "      <td>NaN</td>\n",
       "      <td>NaN</td>\n",
       "      <td>NaN</td>\n",
       "      <td>NaN</td>\n",
       "    </tr>\n",
       "    <tr>\n",
       "      <th>2018-03-01 01:00:00</th>\n",
       "      <td>85</td>\n",
       "      <td>1</td>\n",
       "      <td>3</td>\n",
       "      <td>124.0</td>\n",
       "      <td>NaN</td>\n",
       "      <td>NaN</td>\n",
       "      <td>NaN</td>\n",
       "      <td>NaN</td>\n",
       "      <td>NaN</td>\n",
       "      <td>NaN</td>\n",
       "      <td>...</td>\n",
       "      <td>NaN</td>\n",
       "      <td>NaN</td>\n",
       "      <td>NaN</td>\n",
       "      <td>NaN</td>\n",
       "      <td>NaN</td>\n",
       "      <td>NaN</td>\n",
       "      <td>NaN</td>\n",
       "      <td>NaN</td>\n",
       "      <td>NaN</td>\n",
       "      <td>NaN</td>\n",
       "    </tr>\n",
       "    <tr>\n",
       "      <th>2018-03-01 02:00:00</th>\n",
       "      <td>71</td>\n",
       "      <td>1</td>\n",
       "      <td>3</td>\n",
       "      <td>85.0</td>\n",
       "      <td>124.0</td>\n",
       "      <td>NaN</td>\n",
       "      <td>NaN</td>\n",
       "      <td>NaN</td>\n",
       "      <td>NaN</td>\n",
       "      <td>NaN</td>\n",
       "      <td>...</td>\n",
       "      <td>NaN</td>\n",
       "      <td>NaN</td>\n",
       "      <td>NaN</td>\n",
       "      <td>NaN</td>\n",
       "      <td>NaN</td>\n",
       "      <td>NaN</td>\n",
       "      <td>NaN</td>\n",
       "      <td>NaN</td>\n",
       "      <td>NaN</td>\n",
       "      <td>NaN</td>\n",
       "    </tr>\n",
       "    <tr>\n",
       "      <th>2018-03-01 03:00:00</th>\n",
       "      <td>66</td>\n",
       "      <td>1</td>\n",
       "      <td>3</td>\n",
       "      <td>71.0</td>\n",
       "      <td>85.0</td>\n",
       "      <td>124.0</td>\n",
       "      <td>NaN</td>\n",
       "      <td>NaN</td>\n",
       "      <td>NaN</td>\n",
       "      <td>NaN</td>\n",
       "      <td>...</td>\n",
       "      <td>NaN</td>\n",
       "      <td>NaN</td>\n",
       "      <td>NaN</td>\n",
       "      <td>NaN</td>\n",
       "      <td>NaN</td>\n",
       "      <td>NaN</td>\n",
       "      <td>NaN</td>\n",
       "      <td>NaN</td>\n",
       "      <td>NaN</td>\n",
       "      <td>NaN</td>\n",
       "    </tr>\n",
       "    <tr>\n",
       "      <th>2018-03-01 04:00:00</th>\n",
       "      <td>43</td>\n",
       "      <td>1</td>\n",
       "      <td>3</td>\n",
       "      <td>66.0</td>\n",
       "      <td>71.0</td>\n",
       "      <td>85.0</td>\n",
       "      <td>124.0</td>\n",
       "      <td>NaN</td>\n",
       "      <td>NaN</td>\n",
       "      <td>NaN</td>\n",
       "      <td>...</td>\n",
       "      <td>NaN</td>\n",
       "      <td>NaN</td>\n",
       "      <td>NaN</td>\n",
       "      <td>NaN</td>\n",
       "      <td>NaN</td>\n",
       "      <td>NaN</td>\n",
       "      <td>NaN</td>\n",
       "      <td>NaN</td>\n",
       "      <td>NaN</td>\n",
       "      <td>NaN</td>\n",
       "    </tr>\n",
       "  </tbody>\n",
       "</table>\n",
       "<p>5 rows × 32 columns</p>\n",
       "</div>"
      ],
      "text/plain": [
       "                     num_orders  day  dayofweek  lag_1  lag_2  lag_3  lag_4  \\\n",
       "datetime                                                                      \n",
       "2018-03-01 00:00:00         124    1          3    NaN    NaN    NaN    NaN   \n",
       "2018-03-01 01:00:00          85    1          3  124.0    NaN    NaN    NaN   \n",
       "2018-03-01 02:00:00          71    1          3   85.0  124.0    NaN    NaN   \n",
       "2018-03-01 03:00:00          66    1          3   71.0   85.0  124.0    NaN   \n",
       "2018-03-01 04:00:00          43    1          3   66.0   71.0   85.0  124.0   \n",
       "\n",
       "                     lag_5  lag_6  lag_7  ...  lag_20  lag_21  lag_22  lag_23  \\\n",
       "datetime                                  ...                                   \n",
       "2018-03-01 00:00:00    NaN    NaN    NaN  ...     NaN     NaN     NaN     NaN   \n",
       "2018-03-01 01:00:00    NaN    NaN    NaN  ...     NaN     NaN     NaN     NaN   \n",
       "2018-03-01 02:00:00    NaN    NaN    NaN  ...     NaN     NaN     NaN     NaN   \n",
       "2018-03-01 03:00:00    NaN    NaN    NaN  ...     NaN     NaN     NaN     NaN   \n",
       "2018-03-01 04:00:00    NaN    NaN    NaN  ...     NaN     NaN     NaN     NaN   \n",
       "\n",
       "                     lag_24  lag_25  lag_26  lag_27  lag_28  rolling_mean  \n",
       "datetime                                                                   \n",
       "2018-03-01 00:00:00     NaN     NaN     NaN     NaN     NaN           NaN  \n",
       "2018-03-01 01:00:00     NaN     NaN     NaN     NaN     NaN           NaN  \n",
       "2018-03-01 02:00:00     NaN     NaN     NaN     NaN     NaN           NaN  \n",
       "2018-03-01 03:00:00     NaN     NaN     NaN     NaN     NaN           NaN  \n",
       "2018-03-01 04:00:00     NaN     NaN     NaN     NaN     NaN           NaN  \n",
       "\n",
       "[5 rows x 32 columns]"
      ]
     },
     "execution_count": 18,
     "metadata": {},
     "output_type": "execute_result"
    }
   ],
   "source": [
    "data.head()"
   ]
  },
  {
   "cell_type": "markdown",
   "metadata": {},
   "source": [
    "### Выводы\n"
   ]
  },
  {
   "cell_type": "markdown",
   "metadata": {},
   "source": [
    "1. В работе имеется датасет с данными за полгода с марта по август.\n",
    "2. В распределении заказов прослеживается растущий тренд: ближе к осени клиенты делают больше заказов.\n",
    "3. Имеется дневная и недельная сезонность. Чаще всего такси заказывают в полночь, реже всего — в 6 часов утра. Наибольшая загруженность в такси выпадает на понедельник и пятницу, меньше всего заказов принимается во вторник и субботу.\n",
    "4. С учетом сезонности созданы дополнительные признаки. После анализа корреляций избыточные признаки удалены из датасета.\n"
   ]
  },
  {
   "cell_type": "code",
   "execution_count": 19,
   "metadata": {},
   "outputs": [
    {
     "data": {
      "text/plain": [
       "(4416, 32)"
      ]
     },
     "execution_count": 19,
     "metadata": {},
     "output_type": "execute_result"
    }
   ],
   "source": [
    "data.shape"
   ]
  },
  {
   "cell_type": "markdown",
   "metadata": {},
   "source": [
    "## Обучение"
   ]
  },
  {
   "cell_type": "markdown",
   "metadata": {},
   "source": [
    "### Подготовка к обучению"
   ]
  },
  {
   "cell_type": "code",
   "execution_count": 20,
   "metadata": {},
   "outputs": [],
   "source": [
    "train, test = train_test_split(data, shuffle=False, test_size=0.1)\n",
    "train = train.dropna()"
   ]
  },
  {
   "cell_type": "code",
   "execution_count": 21,
   "metadata": {},
   "outputs": [],
   "source": [
    "X_train = train.drop('num_orders', axis=1)\n",
    "y_train = train['num_orders']\n",
    "X_test = test.drop('num_orders', axis=1)\n",
    "y_test = test['num_orders']\n"
   ]
  },
  {
   "cell_type": "code",
   "execution_count": 22,
   "metadata": {},
   "outputs": [],
   "source": [
    "def rmse(y_train, y_pred):\n",
    "    return (mean_squared_error(y_train, y_pred))**0.5\n",
    "\n",
    "rmse_score = make_scorer(rmse, greater_is_better=False)"
   ]
  },
  {
   "cell_type": "code",
   "execution_count": 23,
   "metadata": {},
   "outputs": [],
   "source": [
    "# TimeSeriesSplit для корректной кроссвалидации временного ряда\n",
    "tscv = TimeSeriesSplit(n_splits=5)\n"
   ]
  },
  {
   "cell_type": "markdown",
   "metadata": {},
   "source": [
    "### Ridge"
   ]
  },
  {
   "cell_type": "code",
   "execution_count": 24,
   "metadata": {
    "scrolled": true
   },
   "outputs": [
    {
     "name": "stdout",
     "output_type": "stream",
     "text": [
      "Результаты на валидационной выборке для Ridge Regressor:\n",
      "Лучшие параметры: {'alpha': 10.0}\n",
      "RMSE: 26.94\n",
      "Время обучения: 0.0593\n",
      "Время предсказания: 0.021\n"
     ]
    }
   ],
   "source": [
    "# Словарь гиперпараметров\n",
    "param_grid_ridge = {'alpha': [0.01, 0.1, 1.0, 10.0]}\n",
    "\n",
    "#Инициализация модели\n",
    "ridge = Ridge(random_state=12345)\n",
    "\n",
    "# Инициализация GridSearchCV и запуск поиска\n",
    "grid_ridge = GridSearchCV(estimator=ridge, param_grid=param_grid_ridge, cv=tscv, scoring='neg_root_mean_squared_error', return_train_score=True)\n",
    "grid_ridge.fit(X_train, y_train)\n",
    "\n",
    "# Лучшие параметры и метрики\n",
    "best_params_ridge = grid_ridge.best_params_\n",
    "best_score_ridge = -grid_ridge.best_score_\n",
    "cv_results_ridge = pd.DataFrame(grid_ridge.cv_results_)\n",
    "\n",
    "# Вывод результатов\n",
    "print(\"Результаты на валидационной выборке для Ridge Regressor:\")\n",
    "print(\"Лучшие параметры:\", best_params_ridge)\n",
    "print(\"RMSE:\", best_score_ridge.round(2))\n",
    "print(\"Время обучения:\", cv_results_ridge['mean_fit_time'].min().round(4))\n",
    "print(\"Время предсказания:\", cv_results_ridge['mean_score_time'].min().round(4))"
   ]
  },
  {
   "cell_type": "markdown",
   "metadata": {},
   "source": [
    "### RandomForestRegressor"
   ]
  },
  {
   "cell_type": "code",
   "execution_count": 25,
   "metadata": {},
   "outputs": [
    {
     "name": "stdout",
     "output_type": "stream",
     "text": [
      "Результаты на валидационной выборке RandomForest Regressor:\n",
      "Лучшие параметры: {'max_depth': 20, 'max_features': 6, 'n_estimators': 20}\n",
      "RMSE: 25.94\n",
      "Время обучения: 0.027\n",
      "Время предсказания: 0.0035\n"
     ]
    }
   ],
   "source": [
    "# Словарь гиперпараметров\n",
    "param_grid_rf = {\n",
    "    'n_estimators': [10, 15, 20],\n",
    "    'max_depth': [5, 10, 20],\n",
    "    'max_features': [3, 6, 9]\n",
    "}\n",
    "\n",
    "#Инициализация модели\n",
    "rf = RandomForestRegressor(random_state=12345)\n",
    "\n",
    "# Инициализация GridSearchCV и запуск поиска\n",
    "grid_rf = GridSearchCV(estimator=rf, \n",
    "                       param_grid=param_grid_rf, \n",
    "                       cv=tscv, \n",
    "                       scoring='neg_root_mean_squared_error', \n",
    "                       return_train_score=True)\n",
    "grid_rf.fit(X_train, y_train)\n",
    "\n",
    "# Лучшие параметры и метрики\n",
    "best_params_rf = grid_rf.best_params_\n",
    "best_score_rf = -grid_rf.best_score_\n",
    "cv_results_rf = pd.DataFrame(grid_rf.cv_results_)\n",
    "\n",
    "# Вывод результатов\n",
    "print(\"Результаты на валидационной выборке RandomForest Regressor:\")\n",
    "print(\"Лучшие параметры:\", best_params_rf)\n",
    "print(\"RMSE:\", best_score_rf.round(2))\n",
    "print(\"Время обучения:\", cv_results_rf['mean_fit_time'].min().round(4))\n",
    "print(\"Время предсказания:\", cv_results_rf['mean_score_time'].min().round(4))"
   ]
  },
  {
   "cell_type": "markdown",
   "metadata": {},
   "source": [
    "### GradientBoostingRegressor"
   ]
  },
  {
   "cell_type": "code",
   "execution_count": 26,
   "metadata": {},
   "outputs": [
    {
     "name": "stdout",
     "output_type": "stream",
     "text": [
      "Результаты на валидационной выборке GradientBoosting Regressor:\n",
      "Лучшие параметры: {'learning_rate': 0.1, 'max_depth': 5, 'n_estimators': 100}\n",
      "RMSE: 25.51\n",
      "Время обучения: 0.4896\n",
      "Время предсказания: 0.0028\n"
     ]
    }
   ],
   "source": [
    "# Словарь гиперпараметров\n",
    "param_grid_gb = {\n",
    "    'n_estimators': [50, 100],\n",
    "    'learning_rate': [0.01, 0.1],\n",
    "    'max_depth': [3, 5, 7]\n",
    "}\n",
    "\n",
    "#Инициализация модели\n",
    "gb = GradientBoostingRegressor()\n",
    "\n",
    "# Инициализация GridSearchCV и запуск поиска\n",
    "grid_gb = GridSearchCV(estimator=gb, param_grid=param_grid_gb, cv=tscv, scoring='neg_root_mean_squared_error', return_train_score=True)\n",
    "grid_gb.fit(X_train, y_train)\n",
    "\n",
    "# Лучшие параметры и метрики\n",
    "best_params_gb = grid_gb.best_params_\n",
    "best_score_gb = -grid_gb.best_score_\n",
    "cv_results_gb = pd.DataFrame(grid_gb.cv_results_)\n",
    "\n",
    "# Вывод результатов для GradientBoosting\n",
    "print(\"Результаты на валидационной выборке GradientBoosting Regressor:\")\n",
    "print(\"Лучшие параметры:\", best_params_gb)\n",
    "print(\"RMSE:\", best_score_gb.round(2))\n",
    "print(\"Время обучения:\", cv_results_gb['mean_fit_time'].min().round(4))\n",
    "print(\"Время предсказания:\", cv_results_gb['mean_score_time'].min().round(4))"
   ]
  },
  {
   "cell_type": "markdown",
   "metadata": {},
   "source": [
    "### DecisionTreeRegressor"
   ]
  },
  {
   "cell_type": "code",
   "execution_count": 27,
   "metadata": {},
   "outputs": [
    {
     "name": "stdout",
     "output_type": "stream",
     "text": [
      "Результаты на валидационной выборке DecisionTree Regressor:\n",
      "Лучшие параметры: {'max_depth': 5, 'min_samples_leaf': 4, 'min_samples_split': 2}\n",
      "RMSE: 29.57\n",
      "Время обучения: 0.0187\n",
      "Время предсказания: 0.0019\n"
     ]
    }
   ],
   "source": [
    "# Словарь гиперпараметров\n",
    "param_grid_dt = {\n",
    "    'max_depth': [5, 10, 15],\n",
    "    'min_samples_split': [2, 4, 6],\n",
    "    'min_samples_leaf': [1, 2, 4]\n",
    "}\n",
    "\n",
    "#Инициализация модели\n",
    "dt = DecisionTreeRegressor(random_state=12345)\n",
    "\n",
    "# Инициализация GridSearchCV и запуск поиска\n",
    "grid_dt = GridSearchCV(estimator=dt, param_grid=param_grid_dt, cv=tscv, scoring='neg_root_mean_squared_error', return_train_score=True)\n",
    "grid_dt.fit(X_train, y_train)\n",
    "\n",
    "# Лучшие параметры и метрики\n",
    "best_params_dt = grid_dt.best_params_\n",
    "best_score_dt = -grid_dt.best_score_\n",
    "cv_results_dt = pd.DataFrame(grid_dt.cv_results_)\n",
    "\n",
    "# Вывод результатов для DecisionTree\n",
    "print(\"Результаты на валидационной выборке DecisionTree Regressor:\")\n",
    "print(\"Лучшие параметры:\", best_params_dt)\n",
    "print(\"RMSE:\", best_score_dt.round(2))\n",
    "print(\"Время обучения:\", cv_results_dt['mean_fit_time'].min().round(4))\n",
    "print(\"Время предсказания:\", cv_results_dt['mean_score_time'].min().round(4))"
   ]
  },
  {
   "cell_type": "markdown",
   "metadata": {},
   "source": [
    "### LGBMRegressor"
   ]
  },
  {
   "cell_type": "code",
   "execution_count": 28,
   "metadata": {},
   "outputs": [
    {
     "name": "stdout",
     "output_type": "stream",
     "text": [
      "Результаты на валидационной выборке LGBM Regressor:\n",
      "Лучшие параметры: {'learning_rate': 0.1, 'n_estimators': 70, 'num_leaves': 20}\n",
      "RMSE: 25.4\n",
      "Время обучения: 0.4144\n",
      "Время предсказания: 0.0034\n"
     ]
    }
   ],
   "source": [
    "# Словарь гиперпараметров\n",
    "param_grid_lgb = {\n",
    "    'num_leaves': [20, 30],\n",
    "    'learning_rate': [0.01, 0.05, 0.1],\n",
    "    'n_estimators': [30, 50, 70]\n",
    "}\n",
    "\n",
    "#Инициализация модели\n",
    "lgbm = lgb.LGBMRegressor(random_state=12345)\n",
    "\n",
    "# Инициализация GridSearchCV и запуск поиска\n",
    "grid_lgb = GridSearchCV(estimator=lgbm, param_grid=param_grid_lgb, cv=tscv, scoring='neg_root_mean_squared_error', return_train_score=True)\n",
    "grid_lgb.fit(X_train, y_train)\n",
    "\n",
    "# Лучшие параметры и метрики\n",
    "best_params_lgb = grid_lgb.best_params_\n",
    "best_score_lgb = -grid_lgb.best_score_\n",
    "cv_results_lgb = pd.DataFrame(grid_lgb.cv_results_)\n",
    "\n",
    "# Вывод результатов \n",
    "print(\"Результаты на валидационной выборке LGBM Regressor:\")\n",
    "print(\"Лучшие параметры:\", best_params_lgb)\n",
    "print(\"RMSE:\", best_score_lgb.round(2))\n",
    "print(\"Время обучения:\", cv_results_lgb['mean_fit_time'].min().round(4))\n",
    "print(\"Время предсказания:\", cv_results_lgb['mean_score_time'].min().round(4))"
   ]
  },
  {
   "cell_type": "code",
   "execution_count": 29,
   "metadata": {},
   "outputs": [
    {
     "data": {
      "text/html": [
       "<div>\n",
       "<style scoped>\n",
       "    .dataframe tbody tr th:only-of-type {\n",
       "        vertical-align: middle;\n",
       "    }\n",
       "\n",
       "    .dataframe tbody tr th {\n",
       "        vertical-align: top;\n",
       "    }\n",
       "\n",
       "    .dataframe thead th {\n",
       "        text-align: right;\n",
       "    }\n",
       "</style>\n",
       "<table border=\"1\" class=\"dataframe\">\n",
       "  <thead>\n",
       "    <tr style=\"text-align: right;\">\n",
       "      <th></th>\n",
       "      <th>Модель</th>\n",
       "      <th>RMSE</th>\n",
       "      <th>Время обучения</th>\n",
       "      <th>Время предсказания</th>\n",
       "    </tr>\n",
       "  </thead>\n",
       "  <tbody>\n",
       "    <tr>\n",
       "      <th>0</th>\n",
       "      <td>Ridge</td>\n",
       "      <td>26.942526</td>\n",
       "      <td>0.059347</td>\n",
       "      <td>0.020995</td>\n",
       "    </tr>\n",
       "    <tr>\n",
       "      <th>1</th>\n",
       "      <td>RandomForest</td>\n",
       "      <td>25.935306</td>\n",
       "      <td>0.027049</td>\n",
       "      <td>0.003480</td>\n",
       "    </tr>\n",
       "    <tr>\n",
       "      <th>2</th>\n",
       "      <td>GradientBoosting</td>\n",
       "      <td>25.505637</td>\n",
       "      <td>0.489639</td>\n",
       "      <td>0.002791</td>\n",
       "    </tr>\n",
       "    <tr>\n",
       "      <th>3</th>\n",
       "      <td>DecisionTree</td>\n",
       "      <td>29.573860</td>\n",
       "      <td>0.018748</td>\n",
       "      <td>0.001882</td>\n",
       "    </tr>\n",
       "    <tr>\n",
       "      <th>4</th>\n",
       "      <td>LGBM</td>\n",
       "      <td>25.403573</td>\n",
       "      <td>0.414431</td>\n",
       "      <td>0.003391</td>\n",
       "    </tr>\n",
       "  </tbody>\n",
       "</table>\n",
       "</div>"
      ],
      "text/plain": [
       "             Модель       RMSE  Время обучения  Время предсказания\n",
       "0             Ridge  26.942526        0.059347            0.020995\n",
       "1      RandomForest  25.935306        0.027049            0.003480\n",
       "2  GradientBoosting  25.505637        0.489639            0.002791\n",
       "3      DecisionTree  29.573860        0.018748            0.001882\n",
       "4              LGBM  25.403573        0.414431            0.003391"
      ]
     },
     "execution_count": 29,
     "metadata": {},
     "output_type": "execute_result"
    }
   ],
   "source": [
    "# Создание таблицы результатов\n",
    "results = pd.DataFrame({\n",
    "    'Модель': ['Ridge', 'RandomForest', 'GradientBoosting', 'DecisionTree', 'LGBM'],\n",
    "    'RMSE': [best_score_ridge, best_score_rf, best_score_gb, best_score_dt, best_score_lgb],\n",
    "    'Время обучения': [\n",
    "        cv_results_ridge['mean_fit_time'].min(),\n",
    "        cv_results_rf['mean_fit_time'].min(),\n",
    "        cv_results_gb['mean_fit_time'].min(),\n",
    "        cv_results_dt['mean_fit_time'].min(),\n",
    "        cv_results_lgb['mean_fit_time'].min()\n",
    "    ],\n",
    "    'Время предсказания': [\n",
    "        cv_results_ridge['mean_score_time'].min(),\n",
    "        cv_results_rf['mean_score_time'].min(),\n",
    "        cv_results_gb['mean_score_time'].min(),\n",
    "        cv_results_dt['mean_score_time'].min(),\n",
    "        cv_results_lgb['mean_score_time'].min()\n",
    "    ]\n",
    "})\n",
    "\n",
    "results"
   ]
  },
  {
   "cell_type": "markdown",
   "metadata": {},
   "source": [
    "## Тестирование"
   ]
  },
  {
   "cell_type": "markdown",
   "metadata": {},
   "source": [
    "Все модели показали хорошую точность, скорость обучения и предсказаний. Наилучший показатель RMSE при незначительной разнице по времени, получен для модели GradientBoosting. Проверим метрику модели на тестовой выборке."
   ]
  },
  {
   "cell_type": "code",
   "execution_count": 30,
   "metadata": {
    "scrolled": true
   },
   "outputs": [
    {
     "name": "stdout",
     "output_type": "stream",
     "text": [
      "RMSE на тестовой выборке: 42.98\n"
     ]
    }
   ],
   "source": [
    "# Получаем лучшую модель из GridSearchCV\n",
    "best_gb = grid_gb.best_estimator_\n",
    "\n",
    "# Предсказание на тестовой выборке\n",
    "y_pred = best_gb.predict(X_test)\n",
    "\n",
    "rmse_test = (mean_squared_error(y_test, y_pred))**0.5\n",
    "\n",
    "print(\"RMSE на тестовой выборке:\", rmse_test.round(2))"
   ]
  },
  {
   "cell_type": "code",
   "execution_count": 31,
   "metadata": {},
   "outputs": [
    {
     "name": "stdout",
     "output_type": "stream",
     "text": [
      "RMSE Dummy модели: 85.0\n"
     ]
    }
   ],
   "source": [
    "model_dr = DummyRegressor()\n",
    "model_dr.fit(X_train, y_train)\n",
    "dumy_pred = model_dr.predict(X_test)\n",
    "dumy_test_rmse = mean_squared_error(y_test, dumy_pred, squared=False)\n",
    "print('RMSE Dummy модели:', np.round(dumy_test_rmse, 0))"
   ]
  },
  {
   "cell_type": "code",
   "execution_count": 32,
   "metadata": {},
   "outputs": [
    {
     "data": {
      "image/png": "[encoded data removed]",
      "text/plain": [
       "<Figure size 720x360 with 1 Axes>"
      ]
     },
     "metadata": {
      "needs_background": "light"
     },
     "output_type": "display_data"
    }
   ],
   "source": [
    "df_result = pd.DataFrame(y_test)\n",
    "df_result['pred'] = np.round(y_pred, 0)\n",
    "df_result.columns = ['true', 'pred']\n",
    "df_result.resample('1D').sum().plot(figsize=(10, 5), grid=True)\n",
    "plt.title('Сравнение реальных и предсказанных значений', fontsize=14)\n",
    "plt.ylabel('count')\n",
    "plt.show()"
   ]
  },
  {
   "cell_type": "markdown",
   "metadata": {},
   "source": [
    "Модель продемонстрировала удовлетворительный результат на тестовой выборке. При этом, модель GradientBoosting показывает значительно лучший результат, чем константная модель. \n",
    "\n",
    "По графику видно, что модель слегка недооценивает значения. Это может быть связано с тем, что модель обучается на данных с растущим трендом. При этом, данных может быть недостаточно, чтобы уловить все закономерности. Расширение выборки, настройка гиперпараметров или добавление новых признаков могли бы улучшить точность модели. \n",
    "\n",
    "Тем не менее, данной точности достаточно по условиям задачи, поэтому она рекомендуется для прогнозирования количества заказов такси. "
   ]
  }
 ],
 "metadata": {
  "ExecuteTimeLog": [
   {
    "duration": 1777,
    "start_time": "2024-08-03T13:03:54.943Z"
   },
   {
    "duration": 113,
    "start_time": "2024-08-03T13:03:56.723Z"
   },
   {
    "duration": 1065,
    "start_time": "2024-08-03T13:03:56.838Z"
   },
   {
    "duration": 0,
    "start_time": "2024-08-03T13:03:57.906Z"
   },
   {
    "duration": 0,
    "start_time": "2024-08-03T13:03:57.907Z"
   },
   {
    "duration": 1478,
    "start_time": "2024-08-03T13:04:30.354Z"
   },
   {
    "duration": 57,
    "start_time": "2024-08-03T13:04:31.834Z"
   },
   {
    "duration": 1300,
    "start_time": "2024-08-03T13:04:31.893Z"
   },
   {
    "duration": 12,
    "start_time": "2024-08-03T13:04:33.194Z"
   },
   {
    "duration": 1152,
    "start_time": "2024-08-03T13:04:33.208Z"
   },
   {
    "duration": 30,
    "start_time": "2024-08-03T13:04:46.543Z"
   },
   {
    "duration": 1503,
    "start_time": "2024-08-03T13:04:59.056Z"
   },
   {
    "duration": 63,
    "start_time": "2024-08-03T13:05:00.561Z"
   },
   {
    "duration": 358,
    "start_time": "2024-08-03T13:05:00.626Z"
   },
   {
    "duration": 15,
    "start_time": "2024-08-03T13:05:00.986Z"
   },
   {
    "duration": 826,
    "start_time": "2024-08-03T13:05:01.004Z"
   },
   {
    "duration": 1331,
    "start_time": "2024-08-03T13:14:09.996Z"
   },
   {
    "duration": 47,
    "start_time": "2024-08-03T13:14:12.553Z"
   },
   {
    "duration": 10,
    "start_time": "2024-08-03T13:14:14.498Z"
   },
   {
    "duration": 11,
    "start_time": "2024-08-03T13:14:15.800Z"
   },
   {
    "duration": 8,
    "start_time": "2024-08-03T13:14:24.712Z"
   },
   {
    "duration": 7,
    "start_time": "2024-08-03T13:14:30.507Z"
   },
   {
    "duration": 8,
    "start_time": "2024-08-03T13:14:40.858Z"
   },
   {
    "duration": 1436,
    "start_time": "2024-08-03T13:40:29.894Z"
   },
   {
    "duration": 377,
    "start_time": "2024-08-03T13:40:31.332Z"
   },
   {
    "duration": 23,
    "start_time": "2024-08-03T13:40:31.711Z"
   },
   {
    "duration": 93,
    "start_time": "2024-08-03T13:40:31.736Z"
   },
   {
    "duration": 1147,
    "start_time": "2024-08-03T13:40:31.830Z"
   },
   {
    "duration": 0,
    "start_time": "2024-08-03T13:40:32.978Z"
   },
   {
    "duration": 1483,
    "start_time": "2024-08-03T13:41:26.262Z"
   },
   {
    "duration": 155,
    "start_time": "2024-08-03T13:41:27.747Z"
   },
   {
    "duration": 13,
    "start_time": "2024-08-03T13:41:27.905Z"
   },
   {
    "duration": 34,
    "start_time": "2024-08-03T13:41:27.920Z"
   },
   {
    "duration": 10,
    "start_time": "2024-08-03T13:41:27.956Z"
   },
   {
    "duration": 1127,
    "start_time": "2024-08-03T13:41:27.967Z"
   },
   {
    "duration": 0,
    "start_time": "2024-08-03T13:41:29.097Z"
   },
   {
    "duration": 6,
    "start_time": "2024-08-03T13:43:49.528Z"
   },
   {
    "duration": 58,
    "start_time": "2024-08-03T13:44:39.349Z"
   },
   {
    "duration": 10,
    "start_time": "2024-08-03T13:45:30.173Z"
   },
   {
    "duration": 8,
    "start_time": "2024-08-03T13:45:42.843Z"
   },
   {
    "duration": 988,
    "start_time": "2024-08-03T13:46:10.190Z"
   },
   {
    "duration": 562,
    "start_time": "2024-08-03T13:46:30.714Z"
   },
   {
    "duration": 482,
    "start_time": "2024-08-03T13:47:09.470Z"
   },
   {
    "duration": 508,
    "start_time": "2024-08-03T13:47:29.537Z"
   },
   {
    "duration": 422,
    "start_time": "2024-08-03T13:47:39.523Z"
   },
   {
    "duration": 387,
    "start_time": "2024-08-03T13:47:46.781Z"
   },
   {
    "duration": 439,
    "start_time": "2024-08-03T13:47:54.543Z"
   },
   {
    "duration": 1488,
    "start_time": "2024-08-03T14:10:20.306Z"
   },
   {
    "duration": 155,
    "start_time": "2024-08-03T14:10:23.680Z"
   },
   {
    "duration": 14,
    "start_time": "2024-08-03T14:10:25.812Z"
   },
   {
    "duration": 22,
    "start_time": "2024-08-03T14:23:30.194Z"
   },
   {
    "duration": 11,
    "start_time": "2024-08-03T14:23:44.717Z"
   },
   {
    "duration": 14,
    "start_time": "2024-08-03T14:23:49.663Z"
   },
   {
    "duration": 11,
    "start_time": "2024-08-03T14:24:18.845Z"
   },
   {
    "duration": 1435,
    "start_time": "2024-08-03T14:24:41.291Z"
   },
   {
    "duration": 154,
    "start_time": "2024-08-03T14:24:42.728Z"
   },
   {
    "duration": 16,
    "start_time": "2024-08-03T14:24:42.883Z"
   },
   {
    "duration": 11,
    "start_time": "2024-08-03T14:24:42.900Z"
   },
   {
    "duration": 41,
    "start_time": "2024-08-03T14:24:42.913Z"
   },
   {
    "duration": 7,
    "start_time": "2024-08-03T14:24:42.956Z"
   },
   {
    "duration": 8,
    "start_time": "2024-08-03T14:24:42.965Z"
   },
   {
    "duration": 524,
    "start_time": "2024-08-03T14:24:42.975Z"
   },
   {
    "duration": 16,
    "start_time": "2024-08-03T14:24:43.501Z"
   },
   {
    "duration": 20,
    "start_time": "2024-08-03T14:25:10.667Z"
   },
   {
    "duration": 1505,
    "start_time": "2024-08-03T14:25:17.747Z"
   },
   {
    "duration": 165,
    "start_time": "2024-08-03T14:25:19.255Z"
   },
   {
    "duration": 27,
    "start_time": "2024-08-03T14:25:19.422Z"
   },
   {
    "duration": 7,
    "start_time": "2024-08-03T14:25:19.451Z"
   },
   {
    "duration": 54,
    "start_time": "2024-08-03T14:25:19.460Z"
   },
   {
    "duration": 29,
    "start_time": "2024-08-03T14:25:19.516Z"
   },
   {
    "duration": 488,
    "start_time": "2024-08-03T14:25:19.547Z"
   },
   {
    "duration": 17,
    "start_time": "2024-08-03T14:25:20.037Z"
   },
   {
    "duration": 1454,
    "start_time": "2024-08-03T14:26:03.481Z"
   },
   {
    "duration": 155,
    "start_time": "2024-08-03T14:26:04.937Z"
   },
   {
    "duration": 22,
    "start_time": "2024-08-03T14:26:05.093Z"
   },
   {
    "duration": 8,
    "start_time": "2024-08-03T14:26:05.116Z"
   },
   {
    "duration": 37,
    "start_time": "2024-08-03T14:26:05.147Z"
   },
   {
    "duration": 9,
    "start_time": "2024-08-03T14:26:05.185Z"
   },
   {
    "duration": 507,
    "start_time": "2024-08-03T14:26:05.195Z"
   },
   {
    "duration": 15,
    "start_time": "2024-08-03T14:26:05.704Z"
   },
   {
    "duration": 51,
    "start_time": "2024-08-03T14:27:28.908Z"
   },
   {
    "duration": 15,
    "start_time": "2024-08-03T14:27:29.527Z"
   },
   {
    "duration": 1421,
    "start_time": "2024-08-03T14:27:37.502Z"
   },
   {
    "duration": 52,
    "start_time": "2024-08-03T14:27:38.924Z"
   },
   {
    "duration": 21,
    "start_time": "2024-08-03T14:27:38.977Z"
   },
   {
    "duration": 7,
    "start_time": "2024-08-03T14:27:39.000Z"
   },
   {
    "duration": 9,
    "start_time": "2024-08-03T14:27:39.009Z"
   },
   {
    "duration": 134,
    "start_time": "2024-08-03T14:27:39.019Z"
   },
   {
    "duration": 1064,
    "start_time": "2024-08-03T14:27:39.155Z"
   },
   {
    "duration": 0,
    "start_time": "2024-08-03T14:27:40.221Z"
   },
   {
    "duration": 965,
    "start_time": "2024-08-03T14:28:14.813Z"
   },
   {
    "duration": 336,
    "start_time": "2024-08-03T14:28:24.579Z"
   },
   {
    "duration": 1449,
    "start_time": "2024-08-03T14:30:09.370Z"
   },
   {
    "duration": 53,
    "start_time": "2024-08-03T14:30:10.821Z"
   },
   {
    "duration": 19,
    "start_time": "2024-08-03T14:30:10.875Z"
   },
   {
    "duration": 9,
    "start_time": "2024-08-03T14:30:10.896Z"
   },
   {
    "duration": 10,
    "start_time": "2024-08-03T14:30:10.907Z"
   },
   {
    "duration": 311,
    "start_time": "2024-08-03T14:30:10.918Z"
   },
   {
    "duration": 135,
    "start_time": "2024-08-03T14:30:11.230Z"
   },
   {
    "duration": 11,
    "start_time": "2024-08-03T14:30:17.421Z"
   },
   {
    "duration": 16,
    "start_time": "2024-08-03T14:32:05.841Z"
   },
   {
    "duration": 1481,
    "start_time": "2024-08-03T14:32:21.407Z"
   },
   {
    "duration": 51,
    "start_time": "2024-08-03T14:32:22.890Z"
   },
   {
    "duration": 20,
    "start_time": "2024-08-03T14:32:22.943Z"
   },
   {
    "duration": 13,
    "start_time": "2024-08-03T14:32:22.965Z"
   },
   {
    "duration": 30,
    "start_time": "2024-08-03T14:32:22.980Z"
   },
   {
    "duration": 385,
    "start_time": "2024-08-03T14:32:23.012Z"
   },
   {
    "duration": 11,
    "start_time": "2024-08-03T14:32:23.398Z"
   },
   {
    "duration": 7,
    "start_time": "2024-08-03T14:33:37.070Z"
   },
   {
    "duration": 16,
    "start_time": "2024-08-03T14:33:37.382Z"
   },
   {
    "duration": 1494,
    "start_time": "2024-08-03T14:44:22.470Z"
   },
   {
    "duration": 52,
    "start_time": "2024-08-03T14:44:23.966Z"
   },
   {
    "duration": 21,
    "start_time": "2024-08-03T14:44:25.993Z"
   },
   {
    "duration": 14,
    "start_time": "2024-08-03T14:44:29.009Z"
   },
   {
    "duration": 4,
    "start_time": "2024-08-03T14:44:29.397Z"
   },
   {
    "duration": 15,
    "start_time": "2024-08-03T14:44:29.825Z"
   },
   {
    "duration": 1493,
    "start_time": "2024-08-03T14:51:58.384Z"
   },
   {
    "duration": 52,
    "start_time": "2024-08-03T14:51:59.879Z"
   },
   {
    "duration": 19,
    "start_time": "2024-08-03T14:51:59.933Z"
   },
   {
    "duration": 29,
    "start_time": "2024-08-03T14:51:59.953Z"
   },
   {
    "duration": 4,
    "start_time": "2024-08-03T14:51:59.983Z"
   },
   {
    "duration": 63,
    "start_time": "2024-08-03T14:51:59.988Z"
   },
   {
    "duration": 365,
    "start_time": "2024-08-03T14:52:00.052Z"
   },
   {
    "duration": 11,
    "start_time": "2024-08-03T14:52:00.418Z"
   },
   {
    "duration": 1487,
    "start_time": "2024-08-03T14:52:13.757Z"
   },
   {
    "duration": 52,
    "start_time": "2024-08-03T14:52:15.247Z"
   },
   {
    "duration": 91,
    "start_time": "2024-08-03T14:52:15.301Z"
   },
   {
    "duration": 8,
    "start_time": "2024-08-03T14:52:15.393Z"
   },
   {
    "duration": 4,
    "start_time": "2024-08-03T14:52:15.403Z"
   },
   {
    "duration": 16,
    "start_time": "2024-08-03T14:52:15.408Z"
   },
   {
    "duration": 307,
    "start_time": "2024-08-03T14:52:15.426Z"
   },
   {
    "duration": 11,
    "start_time": "2024-08-03T14:52:15.734Z"
   },
   {
    "duration": 4,
    "start_time": "2024-08-03T14:52:52.507Z"
   },
   {
    "duration": 13,
    "start_time": "2024-08-03T14:52:53.638Z"
   },
   {
    "duration": 13,
    "start_time": "2024-08-03T14:54:47.589Z"
   },
   {
    "duration": 826,
    "start_time": "2024-08-03T15:24:12.903Z"
   },
   {
    "duration": 809,
    "start_time": "2024-08-03T15:24:23.826Z"
   },
   {
    "duration": 649,
    "start_time": "2024-08-03T15:24:43.777Z"
   },
   {
    "duration": 1165,
    "start_time": "2024-08-03T15:24:59.769Z"
   },
   {
    "duration": 889,
    "start_time": "2024-08-03T15:25:11.572Z"
   },
   {
    "duration": 996,
    "start_time": "2024-08-03T15:25:15.220Z"
   },
   {
    "duration": 1073,
    "start_time": "2024-08-03T15:25:24.605Z"
   },
   {
    "duration": 814,
    "start_time": "2024-08-03T15:25:29.511Z"
   },
   {
    "duration": 1017,
    "start_time": "2024-08-03T15:25:33.913Z"
   },
   {
    "duration": 1025,
    "start_time": "2024-08-03T15:25:39.442Z"
   },
   {
    "duration": 217,
    "start_time": "2024-08-03T15:36:45.041Z"
   },
   {
    "duration": 444,
    "start_time": "2024-08-03T15:37:14.504Z"
   },
   {
    "duration": 265,
    "start_time": "2024-08-03T15:37:23.496Z"
   },
   {
    "duration": 279,
    "start_time": "2024-08-03T15:37:26.634Z"
   },
   {
    "duration": 253,
    "start_time": "2024-08-03T15:37:35.694Z"
   },
   {
    "duration": 263,
    "start_time": "2024-08-03T15:37:41.419Z"
   },
   {
    "duration": 384,
    "start_time": "2024-08-03T15:38:39.799Z"
   },
   {
    "duration": 164,
    "start_time": "2024-08-03T15:39:06.256Z"
   },
   {
    "duration": 172,
    "start_time": "2024-08-03T15:41:18.715Z"
   },
   {
    "duration": 171,
    "start_time": "2024-08-03T15:41:59.562Z"
   },
   {
    "duration": 278,
    "start_time": "2024-08-03T15:42:46.049Z"
   },
   {
    "duration": 174,
    "start_time": "2024-08-03T15:42:54.890Z"
   },
   {
    "duration": 249,
    "start_time": "2024-08-03T15:44:34.865Z"
   },
   {
    "duration": 175,
    "start_time": "2024-08-03T15:49:31.299Z"
   },
   {
    "duration": 179,
    "start_time": "2024-08-03T15:49:50.820Z"
   },
   {
    "duration": 180,
    "start_time": "2024-08-03T15:49:57.652Z"
   },
   {
    "duration": 1513,
    "start_time": "2024-08-03T15:50:13.105Z"
   },
   {
    "duration": 59,
    "start_time": "2024-08-03T15:50:14.620Z"
   },
   {
    "duration": 19,
    "start_time": "2024-08-03T15:50:14.680Z"
   },
   {
    "duration": 8,
    "start_time": "2024-08-03T15:50:14.701Z"
   },
   {
    "duration": 3,
    "start_time": "2024-08-03T15:50:14.711Z"
   },
   {
    "duration": 40,
    "start_time": "2024-08-03T15:50:14.715Z"
   },
   {
    "duration": 64,
    "start_time": "2024-08-03T15:50:14.757Z"
   },
   {
    "duration": 0,
    "start_time": "2024-08-03T15:50:14.823Z"
   },
   {
    "duration": 0,
    "start_time": "2024-08-03T15:50:14.824Z"
   },
   {
    "duration": 0,
    "start_time": "2024-08-03T15:50:14.825Z"
   },
   {
    "duration": 0,
    "start_time": "2024-08-03T15:50:14.826Z"
   },
   {
    "duration": 353,
    "start_time": "2024-08-03T15:50:25.728Z"
   },
   {
    "duration": 1029,
    "start_time": "2024-08-03T15:50:28.693Z"
   },
   {
    "duration": 172,
    "start_time": "2024-08-03T15:50:34.247Z"
   },
   {
    "duration": 177,
    "start_time": "2024-08-03T15:50:38.898Z"
   },
   {
    "duration": 245,
    "start_time": "2024-08-03T15:50:52.708Z"
   },
   {
    "duration": 220,
    "start_time": "2024-08-03T15:52:22.104Z"
   },
   {
    "duration": 181,
    "start_time": "2024-08-03T15:52:46.245Z"
   },
   {
    "duration": 729,
    "start_time": "2024-08-03T15:52:57.700Z"
   },
   {
    "duration": 198,
    "start_time": "2024-08-03T15:53:01.772Z"
   },
   {
    "duration": 345,
    "start_time": "2024-08-03T15:53:10.805Z"
   },
   {
    "duration": 227,
    "start_time": "2024-08-03T15:53:29.626Z"
   },
   {
    "duration": 300,
    "start_time": "2024-08-03T15:54:36.989Z"
   },
   {
    "duration": 203,
    "start_time": "2024-08-03T15:58:28.123Z"
   },
   {
    "duration": 168,
    "start_time": "2024-08-03T15:58:41.313Z"
   },
   {
    "duration": 212,
    "start_time": "2024-08-03T16:00:01.624Z"
   },
   {
    "duration": 175,
    "start_time": "2024-08-03T16:00:13.295Z"
   },
   {
    "duration": 172,
    "start_time": "2024-08-03T16:00:48.811Z"
   },
   {
    "duration": 163,
    "start_time": "2024-08-03T16:01:52.358Z"
   },
   {
    "duration": 172,
    "start_time": "2024-08-03T16:02:45.852Z"
   },
   {
    "duration": 210,
    "start_time": "2024-08-03T16:04:00.504Z"
   },
   {
    "duration": 17,
    "start_time": "2024-08-03T16:04:21.476Z"
   },
   {
    "duration": 16,
    "start_time": "2024-08-03T16:04:48.543Z"
   },
   {
    "duration": 24,
    "start_time": "2024-08-03T16:05:21.272Z"
   },
   {
    "duration": 259,
    "start_time": "2024-08-03T16:05:27.564Z"
   },
   {
    "duration": 251,
    "start_time": "2024-08-03T16:05:37.181Z"
   },
   {
    "duration": 261,
    "start_time": "2024-08-03T16:05:46.666Z"
   },
   {
    "duration": 989,
    "start_time": "2024-08-03T16:05:51.557Z"
   },
   {
    "duration": 274,
    "start_time": "2024-08-03T16:05:55.189Z"
   },
   {
    "duration": 22,
    "start_time": "2024-08-03T16:06:00.823Z"
   },
   {
    "duration": 16,
    "start_time": "2024-08-03T16:06:50.218Z"
   },
   {
    "duration": 395,
    "start_time": "2024-08-03T16:07:19.557Z"
   },
   {
    "duration": 251,
    "start_time": "2024-08-03T16:07:36.230Z"
   },
   {
    "duration": 1443,
    "start_time": "2024-08-03T16:15:05.577Z"
   },
   {
    "duration": 51,
    "start_time": "2024-08-03T16:15:07.023Z"
   },
   {
    "duration": 19,
    "start_time": "2024-08-03T16:15:07.075Z"
   },
   {
    "duration": 10,
    "start_time": "2024-08-03T16:15:07.095Z"
   },
   {
    "duration": 5,
    "start_time": "2024-08-03T16:15:07.106Z"
   },
   {
    "duration": 48,
    "start_time": "2024-08-03T16:15:07.113Z"
   },
   {
    "duration": 303,
    "start_time": "2024-08-03T16:15:07.162Z"
   },
   {
    "duration": 323,
    "start_time": "2024-08-03T16:15:07.466Z"
   },
   {
    "duration": 391,
    "start_time": "2024-08-03T16:15:07.791Z"
   },
   {
    "duration": 401,
    "start_time": "2024-08-03T16:15:08.184Z"
   },
   {
    "duration": 303,
    "start_time": "2024-08-03T16:15:08.587Z"
   },
   {
    "duration": 0,
    "start_time": "2024-08-03T16:15:08.946Z"
   },
   {
    "duration": 252,
    "start_time": "2024-08-03T16:15:12.172Z"
   },
   {
    "duration": 239,
    "start_time": "2024-08-03T16:15:20.913Z"
   },
   {
    "duration": 238,
    "start_time": "2024-08-03T16:24:54.283Z"
   },
   {
    "duration": 212,
    "start_time": "2024-08-03T16:29:43.177Z"
   },
   {
    "duration": 202,
    "start_time": "2024-08-03T16:30:04.013Z"
   },
   {
    "duration": 166,
    "start_time": "2024-08-03T16:30:19.687Z"
   },
   {
    "duration": 2537,
    "start_time": "2024-08-03T16:31:17.261Z"
   },
   {
    "duration": 1332,
    "start_time": "2024-08-03T16:31:47.845Z"
   },
   {
    "duration": 892,
    "start_time": "2024-08-03T16:31:53.067Z"
   },
   {
    "duration": 282,
    "start_time": "2024-08-03T16:32:01.009Z"
   },
   {
    "duration": 248,
    "start_time": "2024-08-03T16:32:08.810Z"
   },
   {
    "duration": 823,
    "start_time": "2024-08-03T16:32:15.126Z"
   },
   {
    "duration": 197,
    "start_time": "2024-08-03T16:32:29.567Z"
   },
   {
    "duration": 1278,
    "start_time": "2024-08-03T16:34:51.554Z"
   },
   {
    "duration": 1737,
    "start_time": "2024-08-03T16:35:12.934Z"
   },
   {
    "duration": 52,
    "start_time": "2024-08-03T16:35:14.673Z"
   },
   {
    "duration": 19,
    "start_time": "2024-08-03T16:35:14.726Z"
   },
   {
    "duration": 9,
    "start_time": "2024-08-03T16:35:14.747Z"
   },
   {
    "duration": 3,
    "start_time": "2024-08-03T16:35:14.758Z"
   },
   {
    "duration": 15,
    "start_time": "2024-08-03T16:35:14.763Z"
   },
   {
    "duration": 330,
    "start_time": "2024-08-03T16:35:14.779Z"
   },
   {
    "duration": 263,
    "start_time": "2024-08-03T16:35:15.110Z"
   },
   {
    "duration": 251,
    "start_time": "2024-08-03T16:35:15.374Z"
   },
   {
    "duration": 180,
    "start_time": "2024-08-03T16:35:15.626Z"
   },
   {
    "duration": 196,
    "start_time": "2024-08-03T16:35:15.808Z"
   },
   {
    "duration": 1338,
    "start_time": "2024-08-03T16:35:16.006Z"
   },
   {
    "duration": 26,
    "start_time": "2024-08-03T16:38:15.888Z"
   },
   {
    "duration": 23,
    "start_time": "2024-08-03T16:40:50.409Z"
   },
   {
    "duration": 21,
    "start_time": "2024-08-03T16:41:12.700Z"
   },
   {
    "duration": 280,
    "start_time": "2024-08-03T16:42:13.056Z"
   },
   {
    "duration": 22,
    "start_time": "2024-08-03T16:42:44.160Z"
   },
   {
    "duration": 1222,
    "start_time": "2024-08-03T16:42:51.503Z"
   },
   {
    "duration": 1259,
    "start_time": "2024-08-03T16:43:05.266Z"
   },
   {
    "duration": 1524,
    "start_time": "2024-08-03T16:43:36.380Z"
   },
   {
    "duration": 52,
    "start_time": "2024-08-03T16:43:37.905Z"
   },
   {
    "duration": 18,
    "start_time": "2024-08-03T16:43:37.959Z"
   },
   {
    "duration": 11,
    "start_time": "2024-08-03T16:43:37.979Z"
   },
   {
    "duration": 6,
    "start_time": "2024-08-03T16:43:37.993Z"
   },
   {
    "duration": 20,
    "start_time": "2024-08-03T16:43:38.000Z"
   },
   {
    "duration": 344,
    "start_time": "2024-08-03T16:43:38.045Z"
   },
   {
    "duration": 288,
    "start_time": "2024-08-03T16:43:38.391Z"
   },
   {
    "duration": 251,
    "start_time": "2024-08-03T16:43:38.681Z"
   },
   {
    "duration": 179,
    "start_time": "2024-08-03T16:43:38.933Z"
   },
   {
    "duration": 1311,
    "start_time": "2024-08-03T16:43:39.114Z"
   },
   {
    "duration": 0,
    "start_time": "2024-08-03T16:43:40.426Z"
   },
   {
    "duration": 0,
    "start_time": "2024-08-03T16:43:40.427Z"
   },
   {
    "duration": 18,
    "start_time": "2024-08-03T16:44:51.933Z"
   },
   {
    "duration": 19,
    "start_time": "2024-08-03T16:45:01.426Z"
   },
   {
    "duration": 141,
    "start_time": "2024-08-03T16:45:05.877Z"
   },
   {
    "duration": 1414,
    "start_time": "2024-08-03T16:45:26.209Z"
   },
   {
    "duration": 842,
    "start_time": "2024-08-03T16:45:46.354Z"
   },
   {
    "duration": 170,
    "start_time": "2024-08-03T16:46:02.617Z"
   },
   {
    "duration": 231,
    "start_time": "2024-08-03T16:46:14.518Z"
   },
   {
    "duration": 312,
    "start_time": "2024-08-03T16:46:26.600Z"
   },
   {
    "duration": 164,
    "start_time": "2024-08-03T16:47:24.622Z"
   },
   {
    "duration": 224,
    "start_time": "2024-08-03T16:47:35.718Z"
   },
   {
    "duration": 341,
    "start_time": "2024-08-03T16:47:40.296Z"
   },
   {
    "duration": 217,
    "start_time": "2024-08-03T16:47:50.585Z"
   },
   {
    "duration": 284,
    "start_time": "2024-08-03T16:48:13.716Z"
   },
   {
    "duration": 298,
    "start_time": "2024-08-03T16:48:25.757Z"
   },
   {
    "duration": 156,
    "start_time": "2024-08-03T16:48:36.172Z"
   },
   {
    "duration": 192,
    "start_time": "2024-08-03T16:48:49.991Z"
   },
   {
    "duration": 302,
    "start_time": "2024-08-03T16:48:59.454Z"
   },
   {
    "duration": 188,
    "start_time": "2024-08-03T16:55:44.291Z"
   },
   {
    "duration": 346,
    "start_time": "2024-08-03T16:56:36.446Z"
   },
   {
    "duration": 337,
    "start_time": "2024-08-03T16:58:57.996Z"
   },
   {
    "duration": 350,
    "start_time": "2024-08-03T16:59:30.723Z"
   },
   {
    "duration": 502,
    "start_time": "2024-08-03T17:01:34.655Z"
   },
   {
    "duration": 208,
    "start_time": "2024-08-03T17:02:29.413Z"
   },
   {
    "duration": 181,
    "start_time": "2024-08-03T17:02:45.930Z"
   },
   {
    "duration": 271,
    "start_time": "2024-08-03T17:02:50.156Z"
   },
   {
    "duration": 322,
    "start_time": "2024-08-03T17:04:12.955Z"
   },
   {
    "duration": 339,
    "start_time": "2024-08-03T17:04:21.285Z"
   },
   {
    "duration": 291,
    "start_time": "2024-08-03T17:04:51.696Z"
   },
   {
    "duration": 175,
    "start_time": "2024-08-03T17:04:55.551Z"
   },
   {
    "duration": 277,
    "start_time": "2024-08-03T17:06:37.471Z"
   },
   {
    "duration": 266,
    "start_time": "2024-08-03T17:14:57.490Z"
   },
   {
    "duration": 348,
    "start_time": "2024-08-03T17:15:07.773Z"
   },
   {
    "duration": 239,
    "start_time": "2024-08-03T17:15:17.600Z"
   },
   {
    "duration": 236,
    "start_time": "2024-08-03T17:16:01.517Z"
   },
   {
    "duration": 320,
    "start_time": "2024-08-03T17:16:28.538Z"
   },
   {
    "duration": 295,
    "start_time": "2024-08-03T17:16:34.381Z"
   },
   {
    "duration": 461,
    "start_time": "2024-08-03T17:17:05.482Z"
   },
   {
    "duration": 1465,
    "start_time": "2024-08-03T17:17:22.164Z"
   },
   {
    "duration": 52,
    "start_time": "2024-08-03T17:17:23.631Z"
   },
   {
    "duration": 19,
    "start_time": "2024-08-03T17:17:23.684Z"
   },
   {
    "duration": 27,
    "start_time": "2024-08-03T17:17:23.705Z"
   },
   {
    "duration": 17,
    "start_time": "2024-08-03T17:17:23.734Z"
   },
   {
    "duration": 30,
    "start_time": "2024-08-03T17:17:23.753Z"
   },
   {
    "duration": 313,
    "start_time": "2024-08-03T17:17:23.784Z"
   },
   {
    "duration": 241,
    "start_time": "2024-08-03T17:17:24.098Z"
   },
   {
    "duration": 126,
    "start_time": "2024-08-03T17:17:24.340Z"
   },
   {
    "duration": 0,
    "start_time": "2024-08-03T17:17:24.468Z"
   },
   {
    "duration": 0,
    "start_time": "2024-08-03T17:17:24.470Z"
   },
   {
    "duration": 0,
    "start_time": "2024-08-03T17:17:24.471Z"
   },
   {
    "duration": 0,
    "start_time": "2024-08-03T17:17:24.472Z"
   },
   {
    "duration": 0,
    "start_time": "2024-08-03T17:17:24.473Z"
   },
   {
    "duration": 352,
    "start_time": "2024-08-03T17:19:02.006Z"
   },
   {
    "duration": 290,
    "start_time": "2024-08-03T17:19:08.577Z"
   },
   {
    "duration": 1488,
    "start_time": "2024-08-03T17:20:18.408Z"
   },
   {
    "duration": 50,
    "start_time": "2024-08-03T17:20:19.898Z"
   },
   {
    "duration": 31,
    "start_time": "2024-08-03T17:20:19.950Z"
   },
   {
    "duration": 9,
    "start_time": "2024-08-03T17:20:19.986Z"
   },
   {
    "duration": 42,
    "start_time": "2024-08-03T17:20:19.997Z"
   },
   {
    "duration": 22,
    "start_time": "2024-08-03T17:20:20.040Z"
   },
   {
    "duration": 349,
    "start_time": "2024-08-03T17:20:20.064Z"
   },
   {
    "duration": 284,
    "start_time": "2024-08-03T17:20:20.415Z"
   },
   {
    "duration": 327,
    "start_time": "2024-08-03T17:20:20.701Z"
   },
   {
    "duration": 176,
    "start_time": "2024-08-03T17:20:21.030Z"
   },
   {
    "duration": 183,
    "start_time": "2024-08-03T17:20:21.208Z"
   },
   {
    "duration": 307,
    "start_time": "2024-08-03T17:20:21.393Z"
   },
   {
    "duration": 169,
    "start_time": "2024-08-03T17:20:21.702Z"
   },
   {
    "duration": 276,
    "start_time": "2024-08-03T17:20:21.873Z"
   },
   {
    "duration": 297,
    "start_time": "2024-08-03T17:26:48.042Z"
   },
   {
    "duration": 381,
    "start_time": "2024-08-03T17:26:52.992Z"
   },
   {
    "duration": 281,
    "start_time": "2024-08-03T17:26:58.003Z"
   },
   {
    "duration": 340,
    "start_time": "2024-08-03T17:28:41.200Z"
   },
   {
    "duration": 301,
    "start_time": "2024-08-03T17:28:46.148Z"
   },
   {
    "duration": 296,
    "start_time": "2024-08-03T17:28:55.151Z"
   },
   {
    "duration": 378,
    "start_time": "2024-08-03T17:29:03.541Z"
   },
   {
    "duration": 292,
    "start_time": "2024-08-03T17:29:09.848Z"
   },
   {
    "duration": 310,
    "start_time": "2024-08-03T17:29:17.159Z"
   },
   {
    "duration": 281,
    "start_time": "2024-08-03T17:29:24.804Z"
   },
   {
    "duration": 292,
    "start_time": "2024-08-03T17:29:29.059Z"
   },
   {
    "duration": 292,
    "start_time": "2024-08-03T17:29:40.017Z"
   },
   {
    "duration": 6,
    "start_time": "2024-08-03T17:38:16.676Z"
   },
   {
    "duration": 3,
    "start_time": "2024-08-03T17:39:33.986Z"
   },
   {
    "duration": 4,
    "start_time": "2024-08-03T17:40:17.015Z"
   },
   {
    "duration": 426,
    "start_time": "2024-08-03T17:42:52.441Z"
   },
   {
    "duration": 7,
    "start_time": "2024-08-03T17:48:49.748Z"
   },
   {
    "duration": 1073,
    "start_time": "2024-08-03T17:54:03.362Z"
   },
   {
    "duration": 24,
    "start_time": "2024-08-03T17:54:12.053Z"
   },
   {
    "duration": 1501,
    "start_time": "2024-08-03T17:56:17.549Z"
   },
   {
    "duration": 53,
    "start_time": "2024-08-03T17:56:19.052Z"
   },
   {
    "duration": 20,
    "start_time": "2024-08-03T17:56:19.107Z"
   },
   {
    "duration": 5,
    "start_time": "2024-08-03T17:56:19.128Z"
   },
   {
    "duration": 20,
    "start_time": "2024-08-03T17:56:19.135Z"
   },
   {
    "duration": 32,
    "start_time": "2024-08-03T17:56:19.157Z"
   },
   {
    "duration": 4,
    "start_time": "2024-08-03T17:56:19.191Z"
   },
   {
    "duration": 29,
    "start_time": "2024-08-03T17:56:19.197Z"
   },
   {
    "duration": 326,
    "start_time": "2024-08-03T17:56:19.227Z"
   },
   {
    "duration": 312,
    "start_time": "2024-08-03T17:56:19.555Z"
   },
   {
    "duration": 170,
    "start_time": "2024-08-03T17:56:19.869Z"
   },
   {
    "duration": 176,
    "start_time": "2024-08-03T17:56:20.041Z"
   },
   {
    "duration": 304,
    "start_time": "2024-08-03T17:56:20.219Z"
   },
   {
    "duration": 180,
    "start_time": "2024-08-03T17:56:20.525Z"
   },
   {
    "duration": 29,
    "start_time": "2024-08-03T17:56:20.706Z"
   },
   {
    "duration": 7,
    "start_time": "2024-08-03T17:59:05.039Z"
   },
   {
    "duration": 7,
    "start_time": "2024-08-03T17:59:05.699Z"
   },
   {
    "duration": 7,
    "start_time": "2024-08-03T17:59:06.199Z"
   },
   {
    "duration": 1562,
    "start_time": "2024-08-03T18:06:38.143Z"
   },
   {
    "duration": 50,
    "start_time": "2024-08-03T18:06:39.707Z"
   },
   {
    "duration": 19,
    "start_time": "2024-08-03T18:06:39.761Z"
   },
   {
    "duration": 5,
    "start_time": "2024-08-03T18:06:39.782Z"
   },
   {
    "duration": 6,
    "start_time": "2024-08-03T18:06:39.789Z"
   },
   {
    "duration": 9,
    "start_time": "2024-08-03T18:06:39.797Z"
   },
   {
    "duration": 14,
    "start_time": "2024-08-03T18:06:39.807Z"
   },
   {
    "duration": 25,
    "start_time": "2024-08-03T18:06:39.823Z"
   },
   {
    "duration": 15,
    "start_time": "2024-08-03T18:06:39.850Z"
   },
   {
    "duration": 356,
    "start_time": "2024-08-03T18:06:39.866Z"
   },
   {
    "duration": 322,
    "start_time": "2024-08-03T18:06:40.224Z"
   },
   {
    "duration": 179,
    "start_time": "2024-08-03T18:06:40.548Z"
   },
   {
    "duration": 186,
    "start_time": "2024-08-03T18:06:40.729Z"
   },
   {
    "duration": 326,
    "start_time": "2024-08-03T18:06:40.917Z"
   },
   {
    "duration": 171,
    "start_time": "2024-08-03T18:06:41.246Z"
   },
   {
    "duration": 34,
    "start_time": "2024-08-03T18:06:41.419Z"
   },
   {
    "duration": 7,
    "start_time": "2024-08-03T18:06:41.455Z"
   },
   {
    "duration": 8,
    "start_time": "2024-08-03T18:06:41.464Z"
   },
   {
    "duration": 7,
    "start_time": "2024-08-03T18:06:41.474Z"
   },
   {
    "duration": 1551,
    "start_time": "2024-08-03T18:09:00.657Z"
   },
   {
    "duration": 53,
    "start_time": "2024-08-03T18:09:02.209Z"
   },
   {
    "duration": 365,
    "start_time": "2024-08-03T18:09:02.265Z"
   },
   {
    "duration": 170,
    "start_time": "2024-08-03T18:09:02.632Z"
   },
   {
    "duration": 53,
    "start_time": "2024-08-03T18:09:02.804Z"
   },
   {
    "duration": 152,
    "start_time": "2024-08-03T18:09:02.859Z"
   },
   {
    "duration": 87,
    "start_time": "2024-08-03T18:09:03.012Z"
   },
   {
    "duration": 44,
    "start_time": "2024-08-03T18:09:03.100Z"
   },
   {
    "duration": 70,
    "start_time": "2024-08-03T18:09:03.145Z"
   },
   {
    "duration": 367,
    "start_time": "2024-08-03T18:09:03.218Z"
   },
   {
    "duration": 316,
    "start_time": "2024-08-03T18:09:03.587Z"
   },
   {
    "duration": 196,
    "start_time": "2024-08-03T18:09:03.905Z"
   },
   {
    "duration": 183,
    "start_time": "2024-08-03T18:09:04.102Z"
   },
   {
    "duration": 317,
    "start_time": "2024-08-03T18:09:04.286Z"
   },
   {
    "duration": 175,
    "start_time": "2024-08-03T18:09:04.605Z"
   },
   {
    "duration": 25,
    "start_time": "2024-08-03T18:09:04.782Z"
   },
   {
    "duration": 128,
    "start_time": "2024-08-03T18:09:04.809Z"
   },
   {
    "duration": 0,
    "start_time": "2024-08-03T18:09:04.939Z"
   },
   {
    "duration": 0,
    "start_time": "2024-08-03T18:09:04.946Z"
   },
   {
    "duration": 15,
    "start_time": "2024-08-03T18:10:19.327Z"
   },
   {
    "duration": 10,
    "start_time": "2024-08-03T18:10:20.385Z"
   },
   {
    "duration": 1481,
    "start_time": "2024-08-03T18:10:27.591Z"
   },
   {
    "duration": 52,
    "start_time": "2024-08-03T18:10:29.074Z"
   },
   {
    "duration": 24,
    "start_time": "2024-08-03T18:10:29.129Z"
   },
   {
    "duration": 7,
    "start_time": "2024-08-03T18:10:29.155Z"
   },
   {
    "duration": 4,
    "start_time": "2024-08-03T18:10:29.165Z"
   },
   {
    "duration": 16,
    "start_time": "2024-08-03T18:10:29.171Z"
   },
   {
    "duration": 10,
    "start_time": "2024-08-03T18:10:29.189Z"
   },
   {
    "duration": 3,
    "start_time": "2024-08-03T18:10:29.201Z"
   },
   {
    "duration": 43,
    "start_time": "2024-08-03T18:10:29.206Z"
   },
   {
    "duration": 334,
    "start_time": "2024-08-03T18:10:29.251Z"
   },
   {
    "duration": 311,
    "start_time": "2024-08-03T18:10:29.587Z"
   },
   {
    "duration": 173,
    "start_time": "2024-08-03T18:10:29.900Z"
   },
   {
    "duration": 285,
    "start_time": "2024-08-03T18:10:30.075Z"
   },
   {
    "duration": 684,
    "start_time": "2024-08-03T18:10:30.362Z"
   },
   {
    "duration": 315,
    "start_time": "2024-08-03T18:10:31.048Z"
   },
   {
    "duration": 82,
    "start_time": "2024-08-03T18:10:31.365Z"
   },
   {
    "duration": 7,
    "start_time": "2024-08-03T18:10:31.448Z"
   },
   {
    "duration": 47,
    "start_time": "2024-08-03T18:10:31.457Z"
   },
   {
    "duration": 57,
    "start_time": "2024-08-03T18:10:31.506Z"
   },
   {
    "duration": 5,
    "start_time": "2024-08-03T18:12:48.580Z"
   },
   {
    "duration": 3719,
    "start_time": "2024-08-03T18:21:02.939Z"
   },
   {
    "duration": 1444,
    "start_time": "2024-08-03T18:31:56.574Z"
   },
   {
    "duration": 53,
    "start_time": "2024-08-03T18:31:58.020Z"
   },
   {
    "duration": 19,
    "start_time": "2024-08-03T18:31:58.074Z"
   },
   {
    "duration": 33,
    "start_time": "2024-08-03T18:31:58.096Z"
   },
   {
    "duration": 7,
    "start_time": "2024-08-03T18:31:58.131Z"
   },
   {
    "duration": 7,
    "start_time": "2024-08-03T18:31:58.140Z"
   },
   {
    "duration": 13,
    "start_time": "2024-08-03T18:31:58.149Z"
   },
   {
    "duration": 4,
    "start_time": "2024-08-03T18:31:58.163Z"
   },
   {
    "duration": 19,
    "start_time": "2024-08-03T18:31:58.168Z"
   },
   {
    "duration": 358,
    "start_time": "2024-08-03T18:31:58.189Z"
   },
   {
    "duration": 360,
    "start_time": "2024-08-03T18:31:58.549Z"
   },
   {
    "duration": 175,
    "start_time": "2024-08-03T18:31:58.911Z"
   },
   {
    "duration": 176,
    "start_time": "2024-08-03T18:31:59.087Z"
   },
   {
    "duration": 334,
    "start_time": "2024-08-03T18:31:59.266Z"
   },
   {
    "duration": 174,
    "start_time": "2024-08-03T18:31:59.602Z"
   },
   {
    "duration": 28,
    "start_time": "2024-08-03T18:31:59.778Z"
   },
   {
    "duration": 7,
    "start_time": "2024-08-03T18:31:59.807Z"
   },
   {
    "duration": 5,
    "start_time": "2024-08-03T18:31:59.816Z"
   },
   {
    "duration": 7,
    "start_time": "2024-08-03T18:31:59.847Z"
   },
   {
    "duration": 189585,
    "start_time": "2024-08-03T18:31:59.856Z"
   },
   {
    "duration": 1442,
    "start_time": "2024-08-03T18:36:43.785Z"
   },
   {
    "duration": 54,
    "start_time": "2024-08-03T18:36:45.230Z"
   },
   {
    "duration": 20,
    "start_time": "2024-08-03T18:36:45.286Z"
   },
   {
    "duration": 84,
    "start_time": "2024-08-03T18:36:45.307Z"
   },
   {
    "duration": 50,
    "start_time": "2024-08-03T18:36:45.393Z"
   },
   {
    "duration": 6,
    "start_time": "2024-08-03T18:36:45.444Z"
   },
   {
    "duration": 11,
    "start_time": "2024-08-03T18:36:45.452Z"
   },
   {
    "duration": 8,
    "start_time": "2024-08-03T18:36:45.464Z"
   },
   {
    "duration": 19,
    "start_time": "2024-08-03T18:36:45.474Z"
   },
   {
    "duration": 342,
    "start_time": "2024-08-03T18:36:45.495Z"
   },
   {
    "duration": 310,
    "start_time": "2024-08-03T18:36:45.838Z"
   },
   {
    "duration": 169,
    "start_time": "2024-08-03T18:36:46.149Z"
   },
   {
    "duration": 197,
    "start_time": "2024-08-03T18:36:46.320Z"
   },
   {
    "duration": 314,
    "start_time": "2024-08-03T18:36:46.520Z"
   },
   {
    "duration": 177,
    "start_time": "2024-08-03T18:36:46.836Z"
   },
   {
    "duration": 40,
    "start_time": "2024-08-03T18:36:47.014Z"
   },
   {
    "duration": 6,
    "start_time": "2024-08-03T18:36:47.056Z"
   },
   {
    "duration": 9,
    "start_time": "2024-08-03T18:36:47.064Z"
   },
   {
    "duration": 6,
    "start_time": "2024-08-03T18:36:47.074Z"
   },
   {
    "duration": 357768,
    "start_time": "2024-08-03T18:36:47.082Z"
   },
   {
    "duration": 130,
    "start_time": "2024-08-03T19:11:42.904Z"
   },
   {
    "duration": 4,
    "start_time": "2024-08-03T19:12:05.163Z"
   },
   {
    "duration": 10,
    "start_time": "2024-08-03T19:12:09.408Z"
   },
   {
    "duration": 3,
    "start_time": "2024-08-03T19:12:32.853Z"
   },
   {
    "duration": 4,
    "start_time": "2024-08-03T19:16:45.244Z"
   },
   {
    "duration": 42,
    "start_time": "2024-08-03T19:16:45.586Z"
   },
   {
    "duration": 9,
    "start_time": "2024-08-03T19:18:21.062Z"
   },
   {
    "duration": 42,
    "start_time": "2024-08-03T19:18:21.341Z"
   },
   {
    "duration": 3,
    "start_time": "2024-08-03T19:18:34.675Z"
   },
   {
    "duration": 31,
    "start_time": "2024-08-03T19:18:35.111Z"
   },
   {
    "duration": 3,
    "start_time": "2024-08-03T19:20:04.667Z"
   },
   {
    "duration": 31,
    "start_time": "2024-08-03T19:20:05.020Z"
   },
   {
    "duration": 534,
    "start_time": "2024-08-03T19:25:46.919Z"
   },
   {
    "duration": 33,
    "start_time": "2024-08-03T19:27:49.628Z"
   },
   {
    "duration": 1201,
    "start_time": "2024-08-03T19:39:54.651Z"
   },
   {
    "duration": 1251,
    "start_time": "2024-08-03T19:40:49.896Z"
   },
   {
    "duration": 22623,
    "start_time": "2024-08-03T19:41:35.015Z"
   },
   {
    "duration": 1488,
    "start_time": "2024-08-03T19:46:03.232Z"
   },
   {
    "duration": 52,
    "start_time": "2024-08-03T19:46:04.722Z"
   },
   {
    "duration": 19,
    "start_time": "2024-08-03T19:46:04.775Z"
   },
   {
    "duration": 104,
    "start_time": "2024-08-03T19:46:04.796Z"
   },
   {
    "duration": 19,
    "start_time": "2024-08-03T19:46:04.903Z"
   },
   {
    "duration": 12,
    "start_time": "2024-08-03T19:46:04.923Z"
   },
   {
    "duration": 44,
    "start_time": "2024-08-03T19:46:04.936Z"
   },
   {
    "duration": 72,
    "start_time": "2024-08-03T19:46:04.981Z"
   },
   {
    "duration": 208,
    "start_time": "2024-08-03T19:46:05.055Z"
   },
   {
    "duration": 359,
    "start_time": "2024-08-03T19:46:05.265Z"
   },
   {
    "duration": 311,
    "start_time": "2024-08-03T19:46:05.626Z"
   },
   {
    "duration": 170,
    "start_time": "2024-08-03T19:46:05.938Z"
   },
   {
    "duration": 183,
    "start_time": "2024-08-03T19:46:06.110Z"
   },
   {
    "duration": 313,
    "start_time": "2024-08-03T19:46:06.294Z"
   },
   {
    "duration": 176,
    "start_time": "2024-08-03T19:46:06.608Z"
   },
   {
    "duration": 28,
    "start_time": "2024-08-03T19:46:06.785Z"
   },
   {
    "duration": 97,
    "start_time": "2024-08-03T19:46:06.815Z"
   },
   {
    "duration": 16,
    "start_time": "2024-08-03T19:46:06.914Z"
   },
   {
    "duration": 8,
    "start_time": "2024-08-03T19:46:06.932Z"
   },
   {
    "duration": 4,
    "start_time": "2024-08-03T19:46:06.941Z"
   },
   {
    "duration": 6,
    "start_time": "2024-08-03T19:46:06.946Z"
   },
   {
    "duration": 36,
    "start_time": "2024-08-03T19:46:06.953Z"
   },
   {
    "duration": 1209,
    "start_time": "2024-08-03T19:46:07.045Z"
   },
   {
    "duration": 21820,
    "start_time": "2024-08-03T19:46:08.257Z"
   },
   {
    "duration": 9580,
    "start_time": "2024-08-03T19:46:30.079Z"
   },
   {
    "duration": 341,
    "start_time": "2024-08-03T19:46:39.661Z"
   },
   {
    "duration": 134,
    "start_time": "2024-08-03T19:46:40.004Z"
   },
   {
    "duration": 10,
    "start_time": "2024-08-03T19:48:32.737Z"
   },
   {
    "duration": 4,
    "start_time": "2024-08-03T19:48:37.773Z"
   },
   {
    "duration": 49859,
    "start_time": "2024-08-03T19:48:40.398Z"
   },
   {
    "duration": 9,
    "start_time": "2024-08-03T19:49:30.259Z"
   },
   {
    "duration": 11,
    "start_time": "2024-08-03T19:50:38.355Z"
   },
   {
    "duration": 1588,
    "start_time": "2024-08-03T19:52:40.226Z"
   },
   {
    "duration": 52,
    "start_time": "2024-08-03T19:52:41.816Z"
   },
   {
    "duration": 20,
    "start_time": "2024-08-03T19:52:41.873Z"
   },
   {
    "duration": 6,
    "start_time": "2024-08-03T19:52:41.894Z"
   },
   {
    "duration": 22,
    "start_time": "2024-08-03T19:52:41.901Z"
   },
   {
    "duration": 9,
    "start_time": "2024-08-03T19:52:41.925Z"
   },
   {
    "duration": 15,
    "start_time": "2024-08-03T19:52:41.936Z"
   },
   {
    "duration": 17,
    "start_time": "2024-08-03T19:52:41.953Z"
   },
   {
    "duration": 17,
    "start_time": "2024-08-03T19:52:41.973Z"
   },
   {
    "duration": 370,
    "start_time": "2024-08-03T19:52:41.991Z"
   },
   {
    "duration": 348,
    "start_time": "2024-08-03T19:52:42.363Z"
   },
   {
    "duration": 214,
    "start_time": "2024-08-03T19:52:42.714Z"
   },
   {
    "duration": 196,
    "start_time": "2024-08-03T19:52:42.930Z"
   },
   {
    "duration": 324,
    "start_time": "2024-08-03T19:52:43.128Z"
   },
   {
    "duration": 164,
    "start_time": "2024-08-03T19:52:43.454Z"
   },
   {
    "duration": 41,
    "start_time": "2024-08-03T19:52:43.620Z"
   },
   {
    "duration": 6,
    "start_time": "2024-08-03T19:52:43.662Z"
   },
   {
    "duration": 21,
    "start_time": "2024-08-03T19:52:43.670Z"
   },
   {
    "duration": 16,
    "start_time": "2024-08-03T19:52:43.692Z"
   },
   {
    "duration": 13,
    "start_time": "2024-08-03T19:52:43.710Z"
   },
   {
    "duration": 91,
    "start_time": "2024-08-03T19:52:43.724Z"
   },
   {
    "duration": 71,
    "start_time": "2024-08-03T19:52:43.817Z"
   },
   {
    "duration": 2298,
    "start_time": "2024-08-03T19:52:43.947Z"
   },
   {
    "duration": 146012,
    "start_time": "2024-08-03T19:52:46.251Z"
   },
   {
    "duration": 0,
    "start_time": "2024-08-03T19:55:12.265Z"
   },
   {
    "duration": 0,
    "start_time": "2024-08-03T19:55:12.267Z"
   },
   {
    "duration": 0,
    "start_time": "2024-08-03T19:55:12.268Z"
   },
   {
    "duration": 0,
    "start_time": "2024-08-03T19:55:12.269Z"
   },
   {
    "duration": 1538,
    "start_time": "2024-08-03T19:55:37.415Z"
   },
   {
    "duration": 52,
    "start_time": "2024-08-03T19:55:38.955Z"
   },
   {
    "duration": 18,
    "start_time": "2024-08-03T19:55:39.011Z"
   },
   {
    "duration": 5,
    "start_time": "2024-08-03T19:55:39.031Z"
   },
   {
    "duration": 8,
    "start_time": "2024-08-03T19:55:39.038Z"
   },
   {
    "duration": 9,
    "start_time": "2024-08-03T19:55:39.047Z"
   },
   {
    "duration": 15,
    "start_time": "2024-08-03T19:55:39.057Z"
   },
   {
    "duration": 4,
    "start_time": "2024-08-03T19:55:39.073Z"
   },
   {
    "duration": 22,
    "start_time": "2024-08-03T19:55:39.079Z"
   },
   {
    "duration": 374,
    "start_time": "2024-08-03T19:55:39.103Z"
   },
   {
    "duration": 318,
    "start_time": "2024-08-03T19:55:39.478Z"
   },
   {
    "duration": 173,
    "start_time": "2024-08-03T19:55:39.797Z"
   },
   {
    "duration": 179,
    "start_time": "2024-08-03T19:55:39.972Z"
   },
   {
    "duration": 310,
    "start_time": "2024-08-03T19:55:40.153Z"
   },
   {
    "duration": 202,
    "start_time": "2024-08-03T19:55:40.465Z"
   },
   {
    "duration": 31,
    "start_time": "2024-08-03T19:55:40.669Z"
   },
   {
    "duration": 10,
    "start_time": "2024-08-03T19:55:40.702Z"
   },
   {
    "duration": 5,
    "start_time": "2024-08-03T19:55:40.714Z"
   },
   {
    "duration": 27,
    "start_time": "2024-08-03T19:55:40.721Z"
   },
   {
    "duration": 3,
    "start_time": "2024-08-03T19:55:40.749Z"
   },
   {
    "duration": 4,
    "start_time": "2024-08-03T19:55:40.754Z"
   },
   {
    "duration": 88,
    "start_time": "2024-08-03T19:55:40.759Z"
   },
   {
    "duration": 2097,
    "start_time": "2024-08-03T19:55:40.850Z"
   },
   {
    "duration": 128520,
    "start_time": "2024-08-03T19:55:42.949Z"
   },
   {
    "duration": 0,
    "start_time": "2024-08-03T19:57:51.471Z"
   },
   {
    "duration": 0,
    "start_time": "2024-08-03T19:57:51.472Z"
   },
   {
    "duration": 0,
    "start_time": "2024-08-03T19:57:51.473Z"
   },
   {
    "duration": 0,
    "start_time": "2024-08-03T19:57:51.474Z"
   },
   {
    "duration": 13,
    "start_time": "2024-08-03T20:00:47.716Z"
   },
   {
    "duration": 4,
    "start_time": "2024-08-03T20:00:51.767Z"
   },
   {
    "duration": 146281,
    "start_time": "2024-08-03T20:00:54.422Z"
   },
   {
    "duration": 226802,
    "start_time": "2024-08-03T20:03:56.314Z"
   },
   {
    "duration": 320589,
    "start_time": "2024-08-03T20:08:02.627Z"
   },
   {
    "duration": 68067,
    "start_time": "2024-08-03T20:13:39.493Z"
   },
   {
    "duration": 36,
    "start_time": "2024-08-03T20:14:57.370Z"
   },
   {
    "duration": 31,
    "start_time": "2024-08-03T20:19:33.601Z"
   },
   {
    "duration": 1484,
    "start_time": "2024-08-03T20:25:16.924Z"
   },
   {
    "duration": 53,
    "start_time": "2024-08-03T20:25:18.410Z"
   },
   {
    "duration": 19,
    "start_time": "2024-08-03T20:25:18.465Z"
   },
   {
    "duration": 5,
    "start_time": "2024-08-03T20:25:18.485Z"
   },
   {
    "duration": 20,
    "start_time": "2024-08-03T20:25:18.492Z"
   },
   {
    "duration": 6,
    "start_time": "2024-08-03T20:25:18.513Z"
   },
   {
    "duration": 11,
    "start_time": "2024-08-03T20:25:18.521Z"
   },
   {
    "duration": 4,
    "start_time": "2024-08-03T20:25:18.547Z"
   },
   {
    "duration": 44,
    "start_time": "2024-08-03T20:25:18.553Z"
   },
   {
    "duration": 342,
    "start_time": "2024-08-03T20:25:18.599Z"
   },
   {
    "duration": 322,
    "start_time": "2024-08-03T20:25:18.942Z"
   },
   {
    "duration": 170,
    "start_time": "2024-08-03T20:25:19.266Z"
   },
   {
    "duration": 181,
    "start_time": "2024-08-03T20:25:19.438Z"
   },
   {
    "duration": 322,
    "start_time": "2024-08-03T20:25:19.622Z"
   },
   {
    "duration": 179,
    "start_time": "2024-08-03T20:25:19.946Z"
   },
   {
    "duration": 52,
    "start_time": "2024-08-03T20:25:20.127Z"
   },
   {
    "duration": 7,
    "start_time": "2024-08-03T20:25:20.180Z"
   },
   {
    "duration": 15,
    "start_time": "2024-08-03T20:25:20.189Z"
   },
   {
    "duration": 7,
    "start_time": "2024-08-03T20:25:20.205Z"
   },
   {
    "duration": 4,
    "start_time": "2024-08-03T20:25:20.213Z"
   },
   {
    "duration": 4,
    "start_time": "2024-08-03T20:25:20.218Z"
   },
   {
    "duration": 1728,
    "start_time": "2024-08-03T20:25:20.223Z"
   },
   {
    "duration": 23811,
    "start_time": "2024-08-03T20:25:21.953Z"
   },
   {
    "duration": 0,
    "start_time": "2024-08-03T20:25:45.766Z"
   },
   {
    "duration": 0,
    "start_time": "2024-08-03T20:25:45.767Z"
   },
   {
    "duration": 0,
    "start_time": "2024-08-03T20:25:45.768Z"
   },
   {
    "duration": 0,
    "start_time": "2024-08-03T20:25:45.769Z"
   },
   {
    "duration": 11,
    "start_time": "2024-08-03T20:27:09.158Z"
   },
   {
    "duration": 78641,
    "start_time": "2024-08-03T20:27:26.819Z"
   },
   {
    "duration": 77655,
    "start_time": "2024-08-03T20:30:32.187Z"
   },
   {
    "duration": 1422,
    "start_time": "2024-08-03T20:32:10.493Z"
   },
   {
    "duration": 52,
    "start_time": "2024-08-03T20:32:11.916Z"
   },
   {
    "duration": 22,
    "start_time": "2024-08-03T20:32:11.970Z"
   },
   {
    "duration": 5,
    "start_time": "2024-08-03T20:32:11.993Z"
   },
   {
    "duration": 4,
    "start_time": "2024-08-03T20:32:12.000Z"
   },
   {
    "duration": 5,
    "start_time": "2024-08-03T20:32:12.005Z"
   },
   {
    "duration": 36,
    "start_time": "2024-08-03T20:32:12.011Z"
   },
   {
    "duration": 4,
    "start_time": "2024-08-03T20:32:12.048Z"
   },
   {
    "duration": 16,
    "start_time": "2024-08-03T20:32:12.053Z"
   },
   {
    "duration": 374,
    "start_time": "2024-08-03T20:32:12.071Z"
   },
   {
    "duration": 319,
    "start_time": "2024-08-03T20:32:12.446Z"
   },
   {
    "duration": 170,
    "start_time": "2024-08-03T20:32:12.767Z"
   },
   {
    "duration": 171,
    "start_time": "2024-08-03T20:32:12.939Z"
   },
   {
    "duration": 311,
    "start_time": "2024-08-03T20:32:13.112Z"
   },
   {
    "duration": 175,
    "start_time": "2024-08-03T20:32:13.425Z"
   },
   {
    "duration": 30,
    "start_time": "2024-08-03T20:32:13.601Z"
   },
   {
    "duration": 18,
    "start_time": "2024-08-03T20:32:13.633Z"
   },
   {
    "duration": 9,
    "start_time": "2024-08-03T20:32:13.652Z"
   },
   {
    "duration": 7,
    "start_time": "2024-08-03T20:32:13.663Z"
   },
   {
    "duration": 12,
    "start_time": "2024-08-03T20:32:13.671Z"
   },
   {
    "duration": 28,
    "start_time": "2024-08-03T20:32:13.685Z"
   },
   {
    "duration": 1347,
    "start_time": "2024-08-03T20:32:13.716Z"
   },
   {
    "duration": 79240,
    "start_time": "2024-08-03T20:32:15.147Z"
   },
   {
    "duration": 2175,
    "start_time": "2024-08-03T20:33:34.389Z"
   },
   {
    "duration": 0,
    "start_time": "2024-08-03T20:33:36.566Z"
   },
   {
    "duration": 0,
    "start_time": "2024-08-03T20:33:36.567Z"
   },
   {
    "duration": 0,
    "start_time": "2024-08-03T20:33:36.568Z"
   },
   {
    "duration": 1454,
    "start_time": "2024-08-03T20:37:26.856Z"
   },
   {
    "duration": 59,
    "start_time": "2024-08-03T20:37:28.311Z"
   },
   {
    "duration": 19,
    "start_time": "2024-08-03T20:37:28.372Z"
   },
   {
    "duration": 7,
    "start_time": "2024-08-03T20:37:28.393Z"
   },
   {
    "duration": 7,
    "start_time": "2024-08-03T20:37:28.402Z"
   },
   {
    "duration": 13,
    "start_time": "2024-08-03T20:37:28.411Z"
   },
   {
    "duration": 25,
    "start_time": "2024-08-03T20:37:28.426Z"
   },
   {
    "duration": 3,
    "start_time": "2024-08-03T20:37:28.453Z"
   },
   {
    "duration": 23,
    "start_time": "2024-08-03T20:37:28.458Z"
   },
   {
    "duration": 390,
    "start_time": "2024-08-03T20:37:28.483Z"
   },
   {
    "duration": 338,
    "start_time": "2024-08-03T20:37:28.874Z"
   },
   {
    "duration": 177,
    "start_time": "2024-08-03T20:37:29.214Z"
   },
   {
    "duration": 179,
    "start_time": "2024-08-03T20:37:29.393Z"
   },
   {
    "duration": 310,
    "start_time": "2024-08-03T20:37:29.575Z"
   },
   {
    "duration": 170,
    "start_time": "2024-08-03T20:37:29.887Z"
   },
   {
    "duration": 28,
    "start_time": "2024-08-03T20:37:30.059Z"
   },
   {
    "duration": 46,
    "start_time": "2024-08-03T20:37:30.088Z"
   },
   {
    "duration": 76,
    "start_time": "2024-08-03T20:37:30.136Z"
   },
   {
    "duration": 84,
    "start_time": "2024-08-03T20:37:30.214Z"
   },
   {
    "duration": 127,
    "start_time": "2024-08-03T20:37:30.300Z"
   },
   {
    "duration": 208,
    "start_time": "2024-08-03T20:37:30.429Z"
   },
   {
    "duration": 1609,
    "start_time": "2024-08-03T20:37:30.639Z"
   },
   {
    "duration": 15345,
    "start_time": "2024-08-03T20:37:32.250Z"
   },
   {
    "duration": 12047,
    "start_time": "2024-08-03T20:37:47.597Z"
   },
   {
    "duration": 551,
    "start_time": "2024-08-03T20:37:59.646Z"
   },
   {
    "duration": 123454,
    "start_time": "2024-08-03T20:38:00.198Z"
   },
   {
    "duration": 11,
    "start_time": "2024-08-03T20:40:03.653Z"
   },
   {
    "duration": 382773,
    "start_time": "2024-08-03T20:41:01.686Z"
   },
   {
    "duration": 14,
    "start_time": "2024-08-03T20:49:35.359Z"
   },
   {
    "duration": 1453,
    "start_time": "2024-08-03T20:51:17.197Z"
   },
   {
    "duration": 51,
    "start_time": "2024-08-03T20:51:18.652Z"
   },
   {
    "duration": 18,
    "start_time": "2024-08-03T20:51:18.705Z"
   },
   {
    "duration": 6,
    "start_time": "2024-08-03T20:51:18.724Z"
   },
   {
    "duration": 91,
    "start_time": "2024-08-03T20:51:18.732Z"
   },
   {
    "duration": 22,
    "start_time": "2024-08-03T20:51:18.824Z"
   },
   {
    "duration": 12,
    "start_time": "2024-08-03T20:51:18.847Z"
   },
   {
    "duration": 6,
    "start_time": "2024-08-03T20:51:18.860Z"
   },
   {
    "duration": 17,
    "start_time": "2024-08-03T20:51:18.867Z"
   },
   {
    "duration": 343,
    "start_time": "2024-08-03T20:51:18.886Z"
   },
   {
    "duration": 312,
    "start_time": "2024-08-03T20:51:19.230Z"
   },
   {
    "duration": 175,
    "start_time": "2024-08-03T20:51:19.545Z"
   },
   {
    "duration": 202,
    "start_time": "2024-08-03T20:51:19.721Z"
   },
   {
    "duration": 343,
    "start_time": "2024-08-03T20:51:19.925Z"
   },
   {
    "duration": 168,
    "start_time": "2024-08-03T20:51:20.270Z"
   },
   {
    "duration": 31,
    "start_time": "2024-08-03T20:51:20.440Z"
   },
   {
    "duration": 9,
    "start_time": "2024-08-03T20:51:20.473Z"
   },
   {
    "duration": 6,
    "start_time": "2024-08-03T20:51:20.483Z"
   },
   {
    "duration": 6,
    "start_time": "2024-08-03T20:51:20.495Z"
   },
   {
    "duration": 8,
    "start_time": "2024-08-03T20:51:20.503Z"
   },
   {
    "duration": 34,
    "start_time": "2024-08-03T20:51:20.513Z"
   },
   {
    "duration": 1300,
    "start_time": "2024-08-03T20:51:20.549Z"
   },
   {
    "duration": 45899,
    "start_time": "2024-08-03T20:51:21.852Z"
   },
   {
    "duration": 43587,
    "start_time": "2024-08-03T20:52:07.752Z"
   },
   {
    "duration": 1960,
    "start_time": "2024-08-03T20:52:51.345Z"
   },
   {
    "duration": 224152,
    "start_time": "2024-08-03T20:52:53.307Z"
   },
   {
    "duration": 11,
    "start_time": "2024-08-03T20:56:37.546Z"
   },
   {
    "duration": 1486,
    "start_time": "2024-08-03T20:56:46.614Z"
   },
   {
    "duration": 52,
    "start_time": "2024-08-03T20:56:48.102Z"
   },
   {
    "duration": 17,
    "start_time": "2024-08-03T20:56:48.156Z"
   },
   {
    "duration": 5,
    "start_time": "2024-08-03T20:56:48.174Z"
   },
   {
    "duration": 7,
    "start_time": "2024-08-03T20:56:48.181Z"
   },
   {
    "duration": 30,
    "start_time": "2024-08-03T20:56:48.189Z"
   },
   {
    "duration": 13,
    "start_time": "2024-08-03T20:56:48.220Z"
   },
   {
    "duration": 7,
    "start_time": "2024-08-03T20:56:48.235Z"
   },
   {
    "duration": 16,
    "start_time": "2024-08-03T20:56:48.244Z"
   },
   {
    "duration": 379,
    "start_time": "2024-08-03T20:56:48.262Z"
   },
   {
    "duration": 350,
    "start_time": "2024-08-03T20:56:48.642Z"
   },
   {
    "duration": 209,
    "start_time": "2024-08-03T20:56:48.994Z"
   },
   {
    "duration": 183,
    "start_time": "2024-08-03T20:56:49.204Z"
   },
   {
    "duration": 306,
    "start_time": "2024-08-03T20:56:49.390Z"
   },
   {
    "duration": 172,
    "start_time": "2024-08-03T20:56:49.697Z"
   },
   {
    "duration": 28,
    "start_time": "2024-08-03T20:56:49.871Z"
   },
   {
    "duration": 7,
    "start_time": "2024-08-03T20:56:49.900Z"
   },
   {
    "duration": 5,
    "start_time": "2024-08-03T20:56:49.908Z"
   },
   {
    "duration": 7,
    "start_time": "2024-08-03T20:56:49.915Z"
   },
   {
    "duration": 3,
    "start_time": "2024-08-03T20:56:49.946Z"
   },
   {
    "duration": 7,
    "start_time": "2024-08-03T20:56:49.950Z"
   },
   {
    "duration": 1689,
    "start_time": "2024-08-03T20:56:49.958Z"
   },
   {
    "duration": 143666,
    "start_time": "2024-08-03T20:56:51.650Z"
   },
   {
    "duration": 188228,
    "start_time": "2024-08-03T20:59:15.318Z"
   },
   {
    "duration": 2004,
    "start_time": "2024-08-03T21:02:23.547Z"
   },
   {
    "duration": 166169,
    "start_time": "2024-08-03T21:02:25.553Z"
   },
   {
    "duration": 0,
    "start_time": "2024-08-03T21:05:11.724Z"
   },
   {
    "duration": 301652,
    "start_time": "2024-08-03T21:05:24.721Z"
   },
   {
    "duration": 0,
    "start_time": "2024-08-03T21:10:26.375Z"
   },
   {
    "duration": 188575,
    "start_time": "2024-08-03T21:10:30.400Z"
   },
   {
    "duration": 68883,
    "start_time": "2024-08-03T21:14:49.874Z"
   },
   {
    "duration": 13,
    "start_time": "2024-08-03T21:16:02.688Z"
   },
   {
    "duration": 20,
    "start_time": "2024-08-03T21:22:52.494Z"
   },
   {
    "duration": 17,
    "start_time": "2024-08-03T21:24:34.188Z"
   },
   {
    "duration": 11,
    "start_time": "2024-08-03T21:24:55.090Z"
   },
   {
    "duration": 11,
    "start_time": "2024-08-03T21:26:18.618Z"
   },
   {
    "duration": 7,
    "start_time": "2024-08-03T21:26:41.102Z"
   },
   {
    "duration": 72,
    "start_time": "2024-08-03T21:31:00.358Z"
   },
   {
    "duration": 48,
    "start_time": "2024-08-03T21:31:07.259Z"
   },
   {
    "duration": 1137,
    "start_time": "2024-08-03T21:32:19.787Z"
   },
   {
    "duration": 3752,
    "start_time": "2024-08-03T21:32:28.793Z"
   },
   {
    "duration": 2557,
    "start_time": "2024-08-03T21:32:35.339Z"
   },
   {
    "duration": 62,
    "start_time": "2024-08-03T21:32:51.949Z"
   },
   {
    "duration": 6119,
    "start_time": "2024-08-03T21:35:01.298Z"
   },
   {
    "duration": 5797,
    "start_time": "2024-08-03T21:35:18.637Z"
   },
   {
    "duration": 6047,
    "start_time": "2024-08-03T21:35:38.609Z"
   },
   {
    "duration": 17,
    "start_time": "2024-08-03T21:38:34.325Z"
   },
   {
    "duration": 6022,
    "start_time": "2024-08-03T21:38:42.764Z"
   },
   {
    "duration": 16,
    "start_time": "2024-08-03T21:39:05.635Z"
   },
   {
    "duration": 3297,
    "start_time": "2024-08-03T21:39:06.530Z"
   },
   {
    "duration": 2594,
    "start_time": "2024-08-03T21:41:33.737Z"
   },
   {
    "duration": 2194,
    "start_time": "2024-08-03T21:41:36.333Z"
   },
   {
    "duration": 60,
    "start_time": "2024-08-03T21:41:38.533Z"
   },
   {
    "duration": 24,
    "start_time": "2024-08-03T21:41:38.596Z"
   },
   {
    "duration": 6,
    "start_time": "2024-08-03T21:41:38.622Z"
   },
   {
    "duration": 14,
    "start_time": "2024-08-03T21:41:38.630Z"
   },
   {
    "duration": 11,
    "start_time": "2024-08-03T21:41:38.646Z"
   },
   {
    "duration": 9,
    "start_time": "2024-08-03T21:41:38.659Z"
   },
   {
    "duration": 4,
    "start_time": "2024-08-03T21:41:38.669Z"
   },
   {
    "duration": 17,
    "start_time": "2024-08-03T21:41:38.676Z"
   },
   {
    "duration": 373,
    "start_time": "2024-08-03T21:41:38.696Z"
   },
   {
    "duration": 316,
    "start_time": "2024-08-03T21:41:39.071Z"
   },
   {
    "duration": 173,
    "start_time": "2024-08-03T21:41:39.390Z"
   },
   {
    "duration": 186,
    "start_time": "2024-08-03T21:41:39.566Z"
   },
   {
    "duration": 332,
    "start_time": "2024-08-03T21:41:39.754Z"
   },
   {
    "duration": 174,
    "start_time": "2024-08-03T21:41:40.088Z"
   },
   {
    "duration": 38,
    "start_time": "2024-08-03T21:41:40.264Z"
   },
   {
    "duration": 153,
    "start_time": "2024-08-03T21:41:40.304Z"
   },
   {
    "duration": 0,
    "start_time": "2024-08-03T21:41:40.458Z"
   },
   {
    "duration": 0,
    "start_time": "2024-08-03T21:41:40.460Z"
   },
   {
    "duration": 0,
    "start_time": "2024-08-03T21:41:40.461Z"
   },
   {
    "duration": 0,
    "start_time": "2024-08-03T21:41:40.461Z"
   },
   {
    "duration": 0,
    "start_time": "2024-08-03T21:41:40.462Z"
   },
   {
    "duration": 0,
    "start_time": "2024-08-03T21:41:40.464Z"
   },
   {
    "duration": 0,
    "start_time": "2024-08-03T21:41:40.464Z"
   },
   {
    "duration": 0,
    "start_time": "2024-08-03T21:41:40.465Z"
   },
   {
    "duration": 0,
    "start_time": "2024-08-03T21:41:40.467Z"
   },
   {
    "duration": 1,
    "start_time": "2024-08-03T21:41:40.467Z"
   },
   {
    "duration": 0,
    "start_time": "2024-08-03T21:41:40.469Z"
   },
   {
    "duration": 0,
    "start_time": "2024-08-03T21:41:40.470Z"
   },
   {
    "duration": 0,
    "start_time": "2024-08-03T21:41:40.471Z"
   },
   {
    "duration": 0,
    "start_time": "2024-08-03T21:41:40.472Z"
   },
   {
    "duration": 3696,
    "start_time": "2024-08-03T21:41:54.147Z"
   },
   {
    "duration": 2456,
    "start_time": "2024-08-03T21:42:11.728Z"
   },
   {
    "duration": 1964,
    "start_time": "2024-08-03T21:42:14.186Z"
   },
   {
    "duration": 99,
    "start_time": "2024-08-03T21:42:16.151Z"
   },
   {
    "duration": 26,
    "start_time": "2024-08-03T21:42:16.253Z"
   },
   {
    "duration": 7,
    "start_time": "2024-08-03T21:42:16.281Z"
   },
   {
    "duration": 57,
    "start_time": "2024-08-03T21:42:16.290Z"
   },
   {
    "duration": 27,
    "start_time": "2024-08-03T21:42:16.349Z"
   },
   {
    "duration": 13,
    "start_time": "2024-08-03T21:42:16.379Z"
   },
   {
    "duration": 4,
    "start_time": "2024-08-03T21:42:16.394Z"
   },
   {
    "duration": 22,
    "start_time": "2024-08-03T21:42:16.445Z"
   },
   {
    "duration": 512,
    "start_time": "2024-08-03T21:42:16.469Z"
   },
   {
    "duration": 318,
    "start_time": "2024-08-03T21:42:16.983Z"
   },
   {
    "duration": 173,
    "start_time": "2024-08-03T21:42:17.303Z"
   },
   {
    "duration": 180,
    "start_time": "2024-08-03T21:42:17.477Z"
   },
   {
    "duration": 300,
    "start_time": "2024-08-03T21:42:17.659Z"
   },
   {
    "duration": 167,
    "start_time": "2024-08-03T21:42:17.960Z"
   },
   {
    "duration": 50,
    "start_time": "2024-08-03T21:42:18.129Z"
   },
   {
    "duration": 3737,
    "start_time": "2024-08-03T21:42:18.180Z"
   },
   {
    "duration": 14,
    "start_time": "2024-08-03T21:42:21.918Z"
   },
   {
    "duration": 155,
    "start_time": "2024-08-03T21:42:21.933Z"
   },
   {
    "duration": 0,
    "start_time": "2024-08-03T21:42:22.090Z"
   },
   {
    "duration": 0,
    "start_time": "2024-08-03T21:42:22.091Z"
   },
   {
    "duration": 0,
    "start_time": "2024-08-03T21:42:22.093Z"
   },
   {
    "duration": 0,
    "start_time": "2024-08-03T21:42:22.094Z"
   },
   {
    "duration": 0,
    "start_time": "2024-08-03T21:42:22.095Z"
   },
   {
    "duration": 0,
    "start_time": "2024-08-03T21:42:22.096Z"
   },
   {
    "duration": 0,
    "start_time": "2024-08-03T21:42:22.097Z"
   },
   {
    "duration": 0,
    "start_time": "2024-08-03T21:42:22.098Z"
   },
   {
    "duration": 0,
    "start_time": "2024-08-03T21:42:22.099Z"
   },
   {
    "duration": 1,
    "start_time": "2024-08-03T21:42:22.100Z"
   },
   {
    "duration": 0,
    "start_time": "2024-08-03T21:42:22.101Z"
   },
   {
    "duration": 0,
    "start_time": "2024-08-03T21:42:22.102Z"
   },
   {
    "duration": 3140,
    "start_time": "2024-08-03T21:42:50.883Z"
   },
   {
    "duration": 2501,
    "start_time": "2024-08-03T21:43:02.209Z"
   },
   {
    "duration": 1495,
    "start_time": "2024-08-03T21:43:04.712Z"
   },
   {
    "duration": 53,
    "start_time": "2024-08-03T21:43:06.209Z"
   },
   {
    "duration": 17,
    "start_time": "2024-08-03T21:43:06.264Z"
   },
   {
    "duration": 5,
    "start_time": "2024-08-03T21:43:06.283Z"
   },
   {
    "duration": 4,
    "start_time": "2024-08-03T21:43:06.290Z"
   },
   {
    "duration": 6,
    "start_time": "2024-08-03T21:43:06.296Z"
   },
   {
    "duration": 10,
    "start_time": "2024-08-03T21:43:06.303Z"
   },
   {
    "duration": 3,
    "start_time": "2024-08-03T21:43:06.314Z"
   },
   {
    "duration": 42,
    "start_time": "2024-08-03T21:43:06.319Z"
   },
   {
    "duration": 387,
    "start_time": "2024-08-03T21:43:06.362Z"
   },
   {
    "duration": 319,
    "start_time": "2024-08-03T21:43:06.751Z"
   },
   {
    "duration": 180,
    "start_time": "2024-08-03T21:43:07.072Z"
   },
   {
    "duration": 192,
    "start_time": "2024-08-03T21:43:07.255Z"
   },
   {
    "duration": 300,
    "start_time": "2024-08-03T21:43:07.449Z"
   },
   {
    "duration": 171,
    "start_time": "2024-08-03T21:43:07.750Z"
   },
   {
    "duration": 48,
    "start_time": "2024-08-03T21:43:07.922Z"
   },
   {
    "duration": 3614,
    "start_time": "2024-08-03T21:43:07.971Z"
   },
   {
    "duration": 13,
    "start_time": "2024-08-03T21:43:11.587Z"
   },
   {
    "duration": 3137,
    "start_time": "2024-08-03T21:43:11.602Z"
   },
   {
    "duration": 11,
    "start_time": "2024-08-03T21:43:14.740Z"
   },
   {
    "duration": 13,
    "start_time": "2024-08-03T21:43:14.752Z"
   },
   {
    "duration": 23,
    "start_time": "2024-08-03T21:43:14.767Z"
   },
   {
    "duration": 26,
    "start_time": "2024-08-03T21:43:14.792Z"
   },
   {
    "duration": 18,
    "start_time": "2024-08-03T21:43:14.819Z"
   },
   {
    "duration": 2106,
    "start_time": "2024-08-03T21:43:14.839Z"
   },
   {
    "duration": 2475,
    "start_time": "2024-08-03T21:45:20.582Z"
   },
   {
    "duration": 1462,
    "start_time": "2024-08-03T21:45:23.059Z"
   },
   {
    "duration": 52,
    "start_time": "2024-08-03T21:45:24.522Z"
   },
   {
    "duration": 18,
    "start_time": "2024-08-03T21:45:24.576Z"
   },
   {
    "duration": 5,
    "start_time": "2024-08-03T21:45:24.596Z"
   },
   {
    "duration": 10,
    "start_time": "2024-08-03T21:45:24.602Z"
   },
   {
    "duration": 6,
    "start_time": "2024-08-03T21:45:24.614Z"
   },
   {
    "duration": 24,
    "start_time": "2024-08-03T21:45:24.622Z"
   },
   {
    "duration": 5,
    "start_time": "2024-08-03T21:45:24.647Z"
   },
   {
    "duration": 15,
    "start_time": "2024-08-03T21:45:24.656Z"
   },
   {
    "duration": 332,
    "start_time": "2024-08-03T21:45:24.673Z"
   },
   {
    "duration": 322,
    "start_time": "2024-08-03T21:45:25.007Z"
   },
   {
    "duration": 172,
    "start_time": "2024-08-03T21:45:25.331Z"
   },
   {
    "duration": 196,
    "start_time": "2024-08-03T21:45:25.505Z"
   },
   {
    "duration": 312,
    "start_time": "2024-08-03T21:45:25.703Z"
   },
   {
    "duration": 184,
    "start_time": "2024-08-03T21:45:26.016Z"
   },
   {
    "duration": 50,
    "start_time": "2024-08-03T21:45:26.202Z"
   },
   {
    "duration": 4749,
    "start_time": "2024-08-03T21:45:26.254Z"
   },
   {
    "duration": 14,
    "start_time": "2024-08-03T21:45:31.005Z"
   },
   {
    "duration": 3370,
    "start_time": "2024-08-03T21:45:31.021Z"
   },
   {
    "duration": 7,
    "start_time": "2024-08-03T21:45:34.393Z"
   },
   {
    "duration": 4,
    "start_time": "2024-08-03T21:45:34.402Z"
   },
   {
    "duration": 31,
    "start_time": "2024-08-03T21:45:34.408Z"
   },
   {
    "duration": 28,
    "start_time": "2024-08-03T21:45:34.446Z"
   },
   {
    "duration": 6,
    "start_time": "2024-08-03T21:45:34.475Z"
   },
   {
    "duration": 2265,
    "start_time": "2024-08-03T21:45:34.483Z"
   },
   {
    "duration": 219195,
    "start_time": "2024-08-03T21:45:36.755Z"
   },
   {
    "duration": 305558,
    "start_time": "2024-08-03T21:49:15.953Z"
   },
   {
    "duration": 2726,
    "start_time": "2024-08-03T21:54:21.513Z"
   },
   {
    "duration": 175313,
    "start_time": "2024-08-03T21:54:24.246Z"
   },
   {
    "duration": 95,
    "start_time": "2024-08-03T21:57:19.561Z"
   },
   {
    "duration": 10,
    "start_time": "2024-08-03T21:57:19.658Z"
   },
   {
    "duration": 2529,
    "start_time": "2024-08-03T22:01:37.043Z"
   },
   {
    "duration": 1460,
    "start_time": "2024-08-03T22:01:39.574Z"
   },
   {
    "duration": 52,
    "start_time": "2024-08-03T22:01:41.036Z"
   },
   {
    "duration": 20,
    "start_time": "2024-08-03T22:01:41.090Z"
   },
   {
    "duration": 6,
    "start_time": "2024-08-03T22:01:41.111Z"
   },
   {
    "duration": 5,
    "start_time": "2024-08-03T22:01:41.119Z"
   },
   {
    "duration": 6,
    "start_time": "2024-08-03T22:01:41.125Z"
   },
   {
    "duration": 18,
    "start_time": "2024-08-03T22:01:41.133Z"
   },
   {
    "duration": 4,
    "start_time": "2024-08-03T22:01:41.153Z"
   },
   {
    "duration": 17,
    "start_time": "2024-08-03T22:01:41.160Z"
   },
   {
    "duration": 366,
    "start_time": "2024-08-03T22:01:41.179Z"
   },
   {
    "duration": 336,
    "start_time": "2024-08-03T22:01:41.546Z"
   },
   {
    "duration": 176,
    "start_time": "2024-08-03T22:01:41.884Z"
   },
   {
    "duration": 170,
    "start_time": "2024-08-03T22:01:42.061Z"
   },
   {
    "duration": 295,
    "start_time": "2024-08-03T22:01:42.232Z"
   },
   {
    "duration": 181,
    "start_time": "2024-08-03T22:01:42.529Z"
   },
   {
    "duration": 55,
    "start_time": "2024-08-03T22:01:42.712Z"
   },
   {
    "duration": 4367,
    "start_time": "2024-08-03T22:01:42.769Z"
   },
   {
    "duration": 22,
    "start_time": "2024-08-03T22:01:47.138Z"
   },
   {
    "duration": 3987,
    "start_time": "2024-08-03T22:01:47.161Z"
   },
   {
    "duration": 7,
    "start_time": "2024-08-03T22:01:51.150Z"
   },
   {
    "duration": 15,
    "start_time": "2024-08-03T22:01:51.159Z"
   },
   {
    "duration": 15,
    "start_time": "2024-08-03T22:01:51.176Z"
   },
   {
    "duration": 13,
    "start_time": "2024-08-03T22:01:51.192Z"
   },
   {
    "duration": 6,
    "start_time": "2024-08-03T22:01:51.206Z"
   },
   {
    "duration": 1539,
    "start_time": "2024-08-03T22:01:51.214Z"
   },
   {
    "duration": 7339,
    "start_time": "2024-08-03T22:01:52.755Z"
   },
   {
    "duration": 0,
    "start_time": "2024-08-03T22:02:00.096Z"
   },
   {
    "duration": 0,
    "start_time": "2024-08-03T22:02:00.098Z"
   },
   {
    "duration": 0,
    "start_time": "2024-08-03T22:02:00.099Z"
   },
   {
    "duration": 0,
    "start_time": "2024-08-03T22:02:00.100Z"
   },
   {
    "duration": 0,
    "start_time": "2024-08-03T22:02:00.101Z"
   },
   {
    "duration": 3252,
    "start_time": "2024-08-03T22:02:51.870Z"
   },
   {
    "duration": 1518,
    "start_time": "2024-08-03T22:02:55.126Z"
   },
   {
    "duration": 54,
    "start_time": "2024-08-03T22:02:56.646Z"
   },
   {
    "duration": 19,
    "start_time": "2024-08-03T22:02:56.701Z"
   },
   {
    "duration": 32,
    "start_time": "2024-08-03T22:02:56.722Z"
   },
   {
    "duration": 36,
    "start_time": "2024-08-03T22:02:56.756Z"
   },
   {
    "duration": 4,
    "start_time": "2024-08-03T22:02:56.794Z"
   },
   {
    "duration": 12,
    "start_time": "2024-08-03T22:02:56.800Z"
   },
   {
    "duration": 7,
    "start_time": "2024-08-03T22:02:56.815Z"
   },
   {
    "duration": 23,
    "start_time": "2024-08-03T22:02:56.823Z"
   },
   {
    "duration": 432,
    "start_time": "2024-08-03T22:02:56.848Z"
   },
   {
    "duration": 312,
    "start_time": "2024-08-03T22:02:57.282Z"
   },
   {
    "duration": 169,
    "start_time": "2024-08-03T22:02:57.596Z"
   },
   {
    "duration": 175,
    "start_time": "2024-08-03T22:02:57.767Z"
   },
   {
    "duration": 298,
    "start_time": "2024-08-03T22:02:57.945Z"
   },
   {
    "duration": 169,
    "start_time": "2024-08-03T22:02:58.246Z"
   },
   {
    "duration": 53,
    "start_time": "2024-08-03T22:02:58.417Z"
   },
   {
    "duration": 4449,
    "start_time": "2024-08-03T22:02:58.472Z"
   },
   {
    "duration": 25,
    "start_time": "2024-08-03T22:03:02.923Z"
   },
   {
    "duration": 4428,
    "start_time": "2024-08-03T22:03:02.949Z"
   },
   {
    "duration": 7,
    "start_time": "2024-08-03T22:03:07.378Z"
   },
   {
    "duration": 28,
    "start_time": "2024-08-03T22:03:07.387Z"
   },
   {
    "duration": 10,
    "start_time": "2024-08-03T22:03:07.417Z"
   },
   {
    "duration": 3,
    "start_time": "2024-08-03T22:03:07.429Z"
   },
   {
    "duration": 4,
    "start_time": "2024-08-03T22:03:07.434Z"
   },
   {
    "duration": 1809,
    "start_time": "2024-08-03T22:03:07.446Z"
   },
   {
    "duration": 8195,
    "start_time": "2024-08-03T22:03:09.259Z"
   },
   {
    "duration": 0,
    "start_time": "2024-08-03T22:03:17.456Z"
   },
   {
    "duration": 0,
    "start_time": "2024-08-03T22:03:17.457Z"
   },
   {
    "duration": 0,
    "start_time": "2024-08-03T22:03:17.459Z"
   },
   {
    "duration": 0,
    "start_time": "2024-08-03T22:03:17.460Z"
   },
   {
    "duration": 0,
    "start_time": "2024-08-03T22:03:17.461Z"
   },
   {
    "duration": 2515,
    "start_time": "2024-08-03T22:03:47.022Z"
   },
   {
    "duration": 1476,
    "start_time": "2024-08-03T22:03:49.540Z"
   },
   {
    "duration": 56,
    "start_time": "2024-08-03T22:03:51.019Z"
   },
   {
    "duration": 22,
    "start_time": "2024-08-03T22:03:51.077Z"
   },
   {
    "duration": 18,
    "start_time": "2024-08-03T22:03:51.101Z"
   },
   {
    "duration": 34,
    "start_time": "2024-08-03T22:03:51.121Z"
   },
   {
    "duration": 28,
    "start_time": "2024-08-03T22:03:51.157Z"
   },
   {
    "duration": 41,
    "start_time": "2024-08-03T22:03:51.187Z"
   },
   {
    "duration": 29,
    "start_time": "2024-08-03T22:03:51.230Z"
   },
   {
    "duration": 27,
    "start_time": "2024-08-03T22:03:51.261Z"
   },
   {
    "duration": 351,
    "start_time": "2024-08-03T22:03:51.290Z"
   },
   {
    "duration": 324,
    "start_time": "2024-08-03T22:03:51.643Z"
   },
   {
    "duration": 198,
    "start_time": "2024-08-03T22:03:51.969Z"
   },
   {
    "duration": 182,
    "start_time": "2024-08-03T22:03:52.169Z"
   },
   {
    "duration": 515,
    "start_time": "2024-08-03T22:03:52.352Z"
   },
   {
    "duration": 377,
    "start_time": "2024-08-03T22:03:52.869Z"
   },
   {
    "duration": 43,
    "start_time": "2024-08-03T22:03:53.248Z"
   },
   {
    "duration": 4712,
    "start_time": "2024-08-03T22:03:53.293Z"
   },
   {
    "duration": 39,
    "start_time": "2024-08-03T22:03:58.007Z"
   },
   {
    "duration": 3883,
    "start_time": "2024-08-03T22:03:58.048Z"
   },
   {
    "duration": 14,
    "start_time": "2024-08-03T22:04:01.932Z"
   },
   {
    "duration": 49,
    "start_time": "2024-08-03T22:04:01.947Z"
   },
   {
    "duration": 43,
    "start_time": "2024-08-03T22:04:01.998Z"
   },
   {
    "duration": 31,
    "start_time": "2024-08-03T22:04:02.043Z"
   },
   {
    "duration": 48,
    "start_time": "2024-08-03T22:04:02.076Z"
   },
   {
    "duration": 2123,
    "start_time": "2024-08-03T22:04:02.125Z"
   },
   {
    "duration": 69146,
    "start_time": "2024-08-03T22:04:04.251Z"
   },
   {
    "duration": 0,
    "start_time": "2024-08-03T22:05:13.400Z"
   },
   {
    "duration": 0,
    "start_time": "2024-08-03T22:05:13.401Z"
   },
   {
    "duration": 0,
    "start_time": "2024-08-03T22:05:13.401Z"
   },
   {
    "duration": 0,
    "start_time": "2024-08-03T22:05:13.402Z"
   },
   {
    "duration": 0,
    "start_time": "2024-08-03T22:05:13.403Z"
   },
   {
    "duration": 3217,
    "start_time": "2024-08-03T22:06:31.194Z"
   },
   {
    "duration": 1536,
    "start_time": "2024-08-03T22:06:34.414Z"
   },
   {
    "duration": 52,
    "start_time": "2024-08-03T22:06:35.951Z"
   },
   {
    "duration": 135,
    "start_time": "2024-08-03T22:06:36.005Z"
   },
   {
    "duration": 11,
    "start_time": "2024-08-03T22:06:36.142Z"
   },
   {
    "duration": 27,
    "start_time": "2024-08-03T22:06:36.155Z"
   },
   {
    "duration": 19,
    "start_time": "2024-08-03T22:06:36.184Z"
   },
   {
    "duration": 27,
    "start_time": "2024-08-03T22:06:36.204Z"
   },
   {
    "duration": 12,
    "start_time": "2024-08-03T22:06:36.233Z"
   },
   {
    "duration": 17,
    "start_time": "2024-08-03T22:06:36.248Z"
   },
   {
    "duration": 354,
    "start_time": "2024-08-03T22:06:36.267Z"
   },
   {
    "duration": 326,
    "start_time": "2024-08-03T22:06:36.623Z"
   },
   {
    "duration": 198,
    "start_time": "2024-08-03T22:06:36.951Z"
   },
   {
    "duration": 182,
    "start_time": "2024-08-03T22:06:37.151Z"
   },
   {
    "duration": 303,
    "start_time": "2024-08-03T22:06:37.335Z"
   },
   {
    "duration": 169,
    "start_time": "2024-08-03T22:06:37.639Z"
   },
   {
    "duration": 48,
    "start_time": "2024-08-03T22:06:37.810Z"
   },
   {
    "duration": 4398,
    "start_time": "2024-08-03T22:06:37.860Z"
   },
   {
    "duration": 14,
    "start_time": "2024-08-03T22:06:42.260Z"
   },
   {
    "duration": 3873,
    "start_time": "2024-08-03T22:06:42.276Z"
   },
   {
    "duration": 7,
    "start_time": "2024-08-03T22:06:46.150Z"
   },
   {
    "duration": 25,
    "start_time": "2024-08-03T22:06:46.159Z"
   },
   {
    "duration": 17,
    "start_time": "2024-08-03T22:06:46.186Z"
   },
   {
    "duration": 8,
    "start_time": "2024-08-03T22:06:46.205Z"
   },
   {
    "duration": 22,
    "start_time": "2024-08-03T22:06:46.214Z"
   },
   {
    "duration": 2016,
    "start_time": "2024-08-03T22:06:46.238Z"
   },
   {
    "duration": 11547,
    "start_time": "2024-08-03T22:06:48.256Z"
   },
   {
    "duration": 0,
    "start_time": "2024-08-03T22:06:59.805Z"
   },
   {
    "duration": 0,
    "start_time": "2024-08-03T22:06:59.806Z"
   },
   {
    "duration": 0,
    "start_time": "2024-08-03T22:06:59.807Z"
   },
   {
    "duration": 0,
    "start_time": "2024-08-03T22:06:59.808Z"
   },
   {
    "duration": 0,
    "start_time": "2024-08-03T22:06:59.809Z"
   },
   {
    "duration": 2556,
    "start_time": "2024-08-03T22:08:27.946Z"
   },
   {
    "duration": 1708,
    "start_time": "2024-08-03T22:08:30.505Z"
   },
   {
    "duration": 53,
    "start_time": "2024-08-03T22:08:32.215Z"
   },
   {
    "duration": 19,
    "start_time": "2024-08-03T22:08:32.270Z"
   },
   {
    "duration": 10,
    "start_time": "2024-08-03T22:08:32.291Z"
   },
   {
    "duration": 32,
    "start_time": "2024-08-03T22:08:32.302Z"
   },
   {
    "duration": 23,
    "start_time": "2024-08-03T22:08:32.336Z"
   },
   {
    "duration": 9,
    "start_time": "2024-08-03T22:08:35.517Z"
   },
   {
    "duration": 4,
    "start_time": "2024-08-03T22:08:36.091Z"
   },
   {
    "duration": 15,
    "start_time": "2024-08-03T22:08:38.461Z"
   },
   {
    "duration": 373,
    "start_time": "2024-08-03T22:08:43.644Z"
   },
   {
    "duration": 335,
    "start_time": "2024-08-03T22:08:45.745Z"
   },
   {
    "duration": 202,
    "start_time": "2024-08-03T22:08:48.577Z"
   },
   {
    "duration": 174,
    "start_time": "2024-08-03T22:08:50.728Z"
   },
   {
    "duration": 307,
    "start_time": "2024-08-03T22:08:52.656Z"
   },
   {
    "duration": 169,
    "start_time": "2024-08-03T22:08:54.727Z"
   },
   {
    "duration": 43,
    "start_time": "2024-08-03T22:08:57.696Z"
   },
   {
    "duration": 4414,
    "start_time": "2024-08-03T22:09:02.650Z"
   },
   {
    "duration": 27,
    "start_time": "2024-08-03T22:09:10.935Z"
   },
   {
    "duration": 3828,
    "start_time": "2024-08-03T22:09:22.288Z"
   },
   {
    "duration": 40,
    "start_time": "2024-08-03T22:09:44.592Z"
   },
   {
    "duration": 2392,
    "start_time": "2024-08-03T22:12:12.109Z"
   },
   {
    "duration": 2090,
    "start_time": "2024-08-03T22:12:14.503Z"
   },
   {
    "duration": 54,
    "start_time": "2024-08-03T22:12:16.595Z"
   },
   {
    "duration": 19,
    "start_time": "2024-08-03T22:12:16.651Z"
   },
   {
    "duration": 5,
    "start_time": "2024-08-03T22:12:16.672Z"
   },
   {
    "duration": 18,
    "start_time": "2024-08-03T22:12:16.679Z"
   },
   {
    "duration": 9,
    "start_time": "2024-08-03T22:12:16.699Z"
   },
   {
    "duration": 23,
    "start_time": "2024-08-03T22:12:16.710Z"
   },
   {
    "duration": 11,
    "start_time": "2024-08-03T22:12:16.735Z"
   },
   {
    "duration": 15,
    "start_time": "2024-08-03T22:12:16.747Z"
   },
   {
    "duration": 349,
    "start_time": "2024-08-03T22:12:16.764Z"
   },
   {
    "duration": 337,
    "start_time": "2024-08-03T22:12:17.114Z"
   },
   {
    "duration": 176,
    "start_time": "2024-08-03T22:12:17.453Z"
   },
   {
    "duration": 182,
    "start_time": "2024-08-03T22:12:17.632Z"
   },
   {
    "duration": 308,
    "start_time": "2024-08-03T22:12:17.815Z"
   },
   {
    "duration": 171,
    "start_time": "2024-08-03T22:12:18.124Z"
   },
   {
    "duration": 54,
    "start_time": "2024-08-03T22:12:18.297Z"
   },
   {
    "duration": 4997,
    "start_time": "2024-08-03T22:12:18.352Z"
   },
   {
    "duration": 4,
    "start_time": "2024-08-03T22:12:23.350Z"
   },
   {
    "duration": 4104,
    "start_time": "2024-08-03T22:12:23.355Z"
   },
   {
    "duration": 9,
    "start_time": "2024-08-03T22:12:27.461Z"
   },
   {
    "duration": 19,
    "start_time": "2024-08-03T22:12:27.471Z"
   },
   {
    "duration": 8,
    "start_time": "2024-08-03T22:12:27.492Z"
   },
   {
    "duration": 3,
    "start_time": "2024-08-03T22:12:27.502Z"
   },
   {
    "duration": 53,
    "start_time": "2024-08-03T22:12:27.507Z"
   },
   {
    "duration": 2086,
    "start_time": "2024-08-03T22:12:27.562Z"
   },
   {
    "duration": 10155,
    "start_time": "2024-08-03T22:12:29.650Z"
   },
   {
    "duration": 0,
    "start_time": "2024-08-03T22:12:39.808Z"
   },
   {
    "duration": 0,
    "start_time": "2024-08-03T22:12:39.809Z"
   },
   {
    "duration": 0,
    "start_time": "2024-08-03T22:12:39.810Z"
   },
   {
    "duration": 0,
    "start_time": "2024-08-03T22:12:39.811Z"
   },
   {
    "duration": 0,
    "start_time": "2024-08-03T22:12:39.813Z"
   },
   {
    "duration": 1482,
    "start_time": "2024-08-03T22:12:56.299Z"
   },
   {
    "duration": 4480,
    "start_time": "2024-08-03T22:12:57.783Z"
   },
   {
    "duration": 2466,
    "start_time": "2024-08-03T22:14:23.527Z"
   },
   {
    "duration": 1426,
    "start_time": "2024-08-03T22:14:25.995Z"
   },
   {
    "duration": 52,
    "start_time": "2024-08-03T22:14:27.423Z"
   },
   {
    "duration": 19,
    "start_time": "2024-08-03T22:14:27.477Z"
   },
   {
    "duration": 5,
    "start_time": "2024-08-03T22:14:27.498Z"
   },
   {
    "duration": 17,
    "start_time": "2024-08-03T22:14:27.505Z"
   },
   {
    "duration": 6,
    "start_time": "2024-08-03T22:14:27.523Z"
   },
   {
    "duration": 16,
    "start_time": "2024-08-03T22:14:27.531Z"
   },
   {
    "duration": 3,
    "start_time": "2024-08-03T22:14:27.548Z"
   },
   {
    "duration": 42,
    "start_time": "2024-08-03T22:14:27.553Z"
   },
   {
    "duration": 348,
    "start_time": "2024-08-03T22:14:27.597Z"
   },
   {
    "duration": 348,
    "start_time": "2024-08-03T22:14:27.946Z"
   },
   {
    "duration": 174,
    "start_time": "2024-08-03T22:14:28.295Z"
   },
   {
    "duration": 207,
    "start_time": "2024-08-03T22:14:28.472Z"
   },
   {
    "duration": 302,
    "start_time": "2024-08-03T22:14:28.680Z"
   },
   {
    "duration": 168,
    "start_time": "2024-08-03T22:14:28.983Z"
   },
   {
    "duration": 42,
    "start_time": "2024-08-03T22:14:29.152Z"
   },
   {
    "duration": 5199,
    "start_time": "2024-08-03T22:14:29.196Z"
   },
   {
    "duration": 1367,
    "start_time": "2024-08-03T22:14:34.397Z"
   },
   {
    "duration": 3215,
    "start_time": "2024-08-03T22:14:35.766Z"
   },
   {
    "duration": 8,
    "start_time": "2024-08-03T22:14:38.982Z"
   },
   {
    "duration": 28,
    "start_time": "2024-08-03T22:14:38.992Z"
   },
   {
    "duration": 52,
    "start_time": "2024-08-03T22:14:39.022Z"
   },
   {
    "duration": 8,
    "start_time": "2024-08-03T22:14:39.076Z"
   },
   {
    "duration": 4,
    "start_time": "2024-08-03T22:14:39.086Z"
   },
   {
    "duration": 2054,
    "start_time": "2024-08-03T22:14:39.092Z"
   },
   {
    "duration": 212267,
    "start_time": "2024-08-03T22:14:41.147Z"
   },
   {
    "duration": 0,
    "start_time": "2024-08-03T22:18:13.416Z"
   },
   {
    "duration": 0,
    "start_time": "2024-08-03T22:18:13.418Z"
   },
   {
    "duration": 0,
    "start_time": "2024-08-03T22:18:13.419Z"
   },
   {
    "duration": 0,
    "start_time": "2024-08-03T22:18:13.421Z"
   },
   {
    "duration": 0,
    "start_time": "2024-08-03T22:18:13.422Z"
   },
   {
    "duration": 2003,
    "start_time": "2024-08-03T22:18:20.451Z"
   },
   {
    "duration": 6,
    "start_time": "2024-08-03T22:18:26.401Z"
   },
   {
    "duration": 2592,
    "start_time": "2024-08-03T22:21:17.779Z"
   },
   {
    "duration": 1620,
    "start_time": "2024-08-03T22:21:20.373Z"
   },
   {
    "duration": 60,
    "start_time": "2024-08-03T22:21:21.997Z"
   },
   {
    "duration": 20,
    "start_time": "2024-08-03T22:21:22.059Z"
   },
   {
    "duration": 5,
    "start_time": "2024-08-03T22:21:22.081Z"
   },
   {
    "duration": 5,
    "start_time": "2024-08-03T22:21:22.087Z"
   },
   {
    "duration": 8,
    "start_time": "2024-08-03T22:21:22.094Z"
   },
   {
    "duration": 10,
    "start_time": "2024-08-03T22:21:22.104Z"
   },
   {
    "duration": 10,
    "start_time": "2024-08-03T22:21:22.116Z"
   },
   {
    "duration": 39,
    "start_time": "2024-08-03T22:21:22.127Z"
   },
   {
    "duration": 377,
    "start_time": "2024-08-03T22:21:22.168Z"
   },
   {
    "duration": 353,
    "start_time": "2024-08-03T22:21:22.547Z"
   },
   {
    "duration": 182,
    "start_time": "2024-08-03T22:21:22.902Z"
   },
   {
    "duration": 202,
    "start_time": "2024-08-03T22:21:23.087Z"
   },
   {
    "duration": 309,
    "start_time": "2024-08-03T22:21:23.291Z"
   },
   {
    "duration": 195,
    "start_time": "2024-08-03T22:21:23.602Z"
   },
   {
    "duration": 63,
    "start_time": "2024-08-03T22:21:23.799Z"
   },
   {
    "duration": 4424,
    "start_time": "2024-08-03T22:21:23.864Z"
   },
   {
    "duration": 1365,
    "start_time": "2024-08-03T22:21:28.290Z"
   },
   {
    "duration": 3523,
    "start_time": "2024-08-03T22:21:29.656Z"
   },
   {
    "duration": 2,
    "start_time": "2024-08-03T22:21:33.181Z"
   },
   {
    "duration": 68,
    "start_time": "2024-08-03T22:21:33.184Z"
   },
   {
    "duration": 34,
    "start_time": "2024-08-03T22:21:33.253Z"
   },
   {
    "duration": 15,
    "start_time": "2024-08-03T22:21:33.288Z"
   },
   {
    "duration": 45,
    "start_time": "2024-08-03T22:21:33.305Z"
   },
   {
    "duration": 17,
    "start_time": "2024-08-03T22:21:33.352Z"
   },
   {
    "duration": 49,
    "start_time": "2024-08-03T22:21:33.371Z"
   },
   {
    "duration": 2045,
    "start_time": "2024-08-03T22:21:33.422Z"
   },
   {
    "duration": 16052,
    "start_time": "2024-08-03T22:21:35.547Z"
   },
   {
    "duration": 0,
    "start_time": "2024-08-03T22:21:51.601Z"
   },
   {
    "duration": 0,
    "start_time": "2024-08-03T22:21:51.603Z"
   },
   {
    "duration": 0,
    "start_time": "2024-08-03T22:21:51.604Z"
   },
   {
    "duration": 0,
    "start_time": "2024-08-03T22:21:51.605Z"
   },
   {
    "duration": 0,
    "start_time": "2024-08-03T22:21:51.606Z"
   },
   {
    "duration": 7,
    "start_time": "2024-08-03T22:21:59.533Z"
   },
   {
    "duration": 2616,
    "start_time": "2024-08-03T22:22:37.557Z"
   },
   {
    "duration": 1600,
    "start_time": "2024-08-03T22:22:40.176Z"
   },
   {
    "duration": 52,
    "start_time": "2024-08-03T22:22:41.778Z"
   },
   {
    "duration": 19,
    "start_time": "2024-08-03T22:22:41.832Z"
   },
   {
    "duration": 6,
    "start_time": "2024-08-03T22:22:41.852Z"
   },
   {
    "duration": 9,
    "start_time": "2024-08-03T22:22:41.859Z"
   },
   {
    "duration": 5,
    "start_time": "2024-08-03T22:22:41.869Z"
   },
   {
    "duration": 12,
    "start_time": "2024-08-03T22:22:41.875Z"
   },
   {
    "duration": 3,
    "start_time": "2024-08-03T22:22:41.888Z"
   },
   {
    "duration": 63,
    "start_time": "2024-08-03T22:22:41.894Z"
   },
   {
    "duration": 688,
    "start_time": "2024-08-03T22:22:41.958Z"
   },
   {
    "duration": 704,
    "start_time": "2024-08-03T22:22:42.648Z"
   },
   {
    "duration": 257,
    "start_time": "2024-08-03T22:22:43.354Z"
   },
   {
    "duration": 182,
    "start_time": "2024-08-03T22:22:43.612Z"
   },
   {
    "duration": 325,
    "start_time": "2024-08-03T22:22:43.796Z"
   },
   {
    "duration": 178,
    "start_time": "2024-08-03T22:22:44.123Z"
   },
   {
    "duration": 55,
    "start_time": "2024-08-03T22:22:44.302Z"
   },
   {
    "duration": 5400,
    "start_time": "2024-08-03T22:22:44.359Z"
   },
   {
    "duration": 1403,
    "start_time": "2024-08-03T22:22:49.761Z"
   },
   {
    "duration": 4022,
    "start_time": "2024-08-03T22:22:51.166Z"
   },
   {
    "duration": 4,
    "start_time": "2024-08-03T22:22:55.189Z"
   },
   {
    "duration": 11,
    "start_time": "2024-08-03T22:22:55.195Z"
   },
   {
    "duration": 5,
    "start_time": "2024-08-03T22:22:55.208Z"
   },
   {
    "duration": 7,
    "start_time": "2024-08-03T22:22:55.214Z"
   },
   {
    "duration": 26,
    "start_time": "2024-08-03T22:22:55.222Z"
   },
   {
    "duration": 8,
    "start_time": "2024-08-03T22:22:55.249Z"
   },
   {
    "duration": 127,
    "start_time": "2024-08-03T22:22:55.258Z"
   },
   {
    "duration": 0,
    "start_time": "2024-08-03T22:22:55.388Z"
   },
   {
    "duration": 1,
    "start_time": "2024-08-03T22:22:55.388Z"
   },
   {
    "duration": 0,
    "start_time": "2024-08-03T22:22:55.390Z"
   },
   {
    "duration": 0,
    "start_time": "2024-08-03T22:22:55.391Z"
   },
   {
    "duration": 0,
    "start_time": "2024-08-03T22:22:55.392Z"
   },
   {
    "duration": 0,
    "start_time": "2024-08-03T22:22:55.393Z"
   },
   {
    "duration": 0,
    "start_time": "2024-08-03T22:22:55.394Z"
   },
   {
    "duration": 2498,
    "start_time": "2024-08-03T22:25:41.938Z"
   },
   {
    "duration": 1521,
    "start_time": "2024-08-03T22:25:44.438Z"
   },
   {
    "duration": 53,
    "start_time": "2024-08-03T22:25:45.960Z"
   },
   {
    "duration": 20,
    "start_time": "2024-08-03T22:25:46.015Z"
   },
   {
    "duration": 6,
    "start_time": "2024-08-03T22:25:46.037Z"
   },
   {
    "duration": 21,
    "start_time": "2024-08-03T22:25:46.045Z"
   },
   {
    "duration": 7,
    "start_time": "2024-08-03T22:25:46.068Z"
   },
   {
    "duration": 9,
    "start_time": "2024-08-03T22:25:46.077Z"
   },
   {
    "duration": 4,
    "start_time": "2024-08-03T22:25:46.088Z"
   },
   {
    "duration": 15,
    "start_time": "2024-08-03T22:25:46.095Z"
   },
   {
    "duration": 333,
    "start_time": "2024-08-03T22:25:46.112Z"
   },
   {
    "duration": 344,
    "start_time": "2024-08-03T22:25:46.446Z"
   },
   {
    "duration": 180,
    "start_time": "2024-08-03T22:25:46.792Z"
   },
   {
    "duration": 192,
    "start_time": "2024-08-03T22:25:46.974Z"
   },
   {
    "duration": 305,
    "start_time": "2024-08-03T22:25:47.167Z"
   },
   {
    "duration": 209,
    "start_time": "2024-08-03T22:25:47.474Z"
   },
   {
    "duration": 43,
    "start_time": "2024-08-03T22:25:47.685Z"
   },
   {
    "duration": 4394,
    "start_time": "2024-08-03T22:25:47.730Z"
   },
   {
    "duration": 1339,
    "start_time": "2024-08-03T22:25:52.126Z"
   },
   {
    "duration": 4102,
    "start_time": "2024-08-03T22:25:53.467Z"
   },
   {
    "duration": 12,
    "start_time": "2024-08-03T22:25:57.571Z"
   },
   {
    "duration": 79,
    "start_time": "2024-08-03T22:25:57.585Z"
   },
   {
    "duration": 17,
    "start_time": "2024-08-03T22:25:57.667Z"
   },
   {
    "duration": 6,
    "start_time": "2024-08-03T22:25:57.687Z"
   },
   {
    "duration": 41,
    "start_time": "2024-08-03T22:25:57.695Z"
   },
   {
    "duration": 1209,
    "start_time": "2024-08-03T22:25:57.738Z"
   },
   {
    "duration": 10170,
    "start_time": "2024-08-03T22:25:58.950Z"
   },
   {
    "duration": 0,
    "start_time": "2024-08-03T22:26:09.122Z"
   },
   {
    "duration": 0,
    "start_time": "2024-08-03T22:26:09.123Z"
   },
   {
    "duration": 0,
    "start_time": "2024-08-03T22:26:09.124Z"
   },
   {
    "duration": 0,
    "start_time": "2024-08-03T22:26:09.125Z"
   },
   {
    "duration": 0,
    "start_time": "2024-08-03T22:26:09.126Z"
   },
   {
    "duration": 7,
    "start_time": "2024-08-03T22:26:13.410Z"
   },
   {
    "duration": 5,
    "start_time": "2024-08-03T22:26:34.516Z"
   },
   {
    "duration": 3174,
    "start_time": "2024-08-03T22:28:02.137Z"
   },
   {
    "duration": 1533,
    "start_time": "2024-08-03T22:28:05.313Z"
   },
   {
    "duration": 52,
    "start_time": "2024-08-03T22:28:06.848Z"
   },
   {
    "duration": 18,
    "start_time": "2024-08-03T22:28:06.902Z"
   },
   {
    "duration": 5,
    "start_time": "2024-08-03T22:28:06.922Z"
   },
   {
    "duration": 5,
    "start_time": "2024-08-03T22:28:06.928Z"
   },
   {
    "duration": 9,
    "start_time": "2024-08-03T22:28:06.935Z"
   },
   {
    "duration": 19,
    "start_time": "2024-08-03T22:28:06.946Z"
   },
   {
    "duration": 3,
    "start_time": "2024-08-03T22:28:06.967Z"
   },
   {
    "duration": 15,
    "start_time": "2024-08-03T22:28:06.973Z"
   },
   {
    "duration": 334,
    "start_time": "2024-08-03T22:28:06.990Z"
   },
   {
    "duration": 316,
    "start_time": "2024-08-03T22:28:07.326Z"
   },
   {
    "duration": 168,
    "start_time": "2024-08-03T22:28:07.645Z"
   },
   {
    "duration": 176,
    "start_time": "2024-08-03T22:28:07.815Z"
   },
   {
    "duration": 302,
    "start_time": "2024-08-03T22:28:07.993Z"
   },
   {
    "duration": 171,
    "start_time": "2024-08-03T22:28:08.297Z"
   },
   {
    "duration": 43,
    "start_time": "2024-08-03T22:28:08.470Z"
   },
   {
    "duration": 5176,
    "start_time": "2024-08-03T22:28:08.515Z"
   },
   {
    "duration": 1339,
    "start_time": "2024-08-03T22:28:13.693Z"
   },
   {
    "duration": 3150,
    "start_time": "2024-08-03T22:28:15.034Z"
   },
   {
    "duration": 3,
    "start_time": "2024-08-03T22:28:18.186Z"
   },
   {
    "duration": 29,
    "start_time": "2024-08-03T22:28:18.191Z"
   },
   {
    "duration": 12,
    "start_time": "2024-08-03T22:28:18.222Z"
   },
   {
    "duration": 7,
    "start_time": "2024-08-03T22:28:18.236Z"
   },
   {
    "duration": 5,
    "start_time": "2024-08-03T22:28:18.244Z"
   },
   {
    "duration": 7,
    "start_time": "2024-08-03T22:28:18.251Z"
   },
   {
    "duration": 1092,
    "start_time": "2024-08-03T22:28:18.260Z"
   },
   {
    "duration": 889,
    "start_time": "2024-08-03T22:28:19.357Z"
   },
   {
    "duration": 0,
    "start_time": "2024-08-03T22:28:20.248Z"
   },
   {
    "duration": 0,
    "start_time": "2024-08-03T22:28:20.249Z"
   },
   {
    "duration": 0,
    "start_time": "2024-08-03T22:28:20.250Z"
   },
   {
    "duration": 0,
    "start_time": "2024-08-03T22:28:20.251Z"
   },
   {
    "duration": 0,
    "start_time": "2024-08-03T22:28:20.252Z"
   },
   {
    "duration": 7,
    "start_time": "2024-08-03T22:28:28.833Z"
   },
   {
    "duration": 2463,
    "start_time": "2024-08-03T22:34:34.600Z"
   },
   {
    "duration": 1542,
    "start_time": "2024-08-03T22:34:37.066Z"
   },
   {
    "duration": 57,
    "start_time": "2024-08-03T22:34:38.611Z"
   },
   {
    "duration": 22,
    "start_time": "2024-08-03T22:34:38.670Z"
   },
   {
    "duration": 7,
    "start_time": "2024-08-03T22:34:38.695Z"
   },
   {
    "duration": 5,
    "start_time": "2024-08-03T22:34:38.703Z"
   },
   {
    "duration": 8,
    "start_time": "2024-08-03T22:34:38.710Z"
   },
   {
    "duration": 10,
    "start_time": "2024-08-03T22:34:38.745Z"
   },
   {
    "duration": 24,
    "start_time": "2024-08-03T22:34:38.757Z"
   },
   {
    "duration": 60,
    "start_time": "2024-08-03T22:34:38.782Z"
   },
   {
    "duration": 381,
    "start_time": "2024-08-03T22:34:38.844Z"
   },
   {
    "duration": 335,
    "start_time": "2024-08-03T22:34:39.226Z"
   },
   {
    "duration": 170,
    "start_time": "2024-08-03T22:34:39.563Z"
   },
   {
    "duration": 170,
    "start_time": "2024-08-03T22:34:39.745Z"
   },
   {
    "duration": 304,
    "start_time": "2024-08-03T22:34:39.916Z"
   },
   {
    "duration": 170,
    "start_time": "2024-08-03T22:34:40.222Z"
   },
   {
    "duration": 53,
    "start_time": "2024-08-03T22:34:40.394Z"
   },
   {
    "duration": 4423,
    "start_time": "2024-08-03T22:34:40.449Z"
   },
   {
    "duration": 1335,
    "start_time": "2024-08-03T22:34:44.875Z"
   },
   {
    "duration": 3256,
    "start_time": "2024-08-03T22:34:46.212Z"
   },
   {
    "duration": 4,
    "start_time": "2024-08-03T22:34:49.470Z"
   },
   {
    "duration": 14,
    "start_time": "2024-08-03T22:34:49.476Z"
   },
   {
    "duration": 8,
    "start_time": "2024-08-03T22:34:49.491Z"
   },
   {
    "duration": 15,
    "start_time": "2024-08-03T22:34:49.501Z"
   },
   {
    "duration": 5,
    "start_time": "2024-08-03T22:34:49.517Z"
   },
   {
    "duration": 5,
    "start_time": "2024-08-03T22:34:49.523Z"
   },
   {
    "duration": 1202,
    "start_time": "2024-08-03T22:34:49.546Z"
   },
   {
    "duration": 3614,
    "start_time": "2024-08-03T22:34:50.751Z"
   },
   {
    "duration": 0,
    "start_time": "2024-08-03T22:34:54.367Z"
   },
   {
    "duration": 0,
    "start_time": "2024-08-03T22:34:54.368Z"
   },
   {
    "duration": 0,
    "start_time": "2024-08-03T22:34:54.369Z"
   },
   {
    "duration": 0,
    "start_time": "2024-08-03T22:34:54.370Z"
   },
   {
    "duration": 0,
    "start_time": "2024-08-03T22:34:54.371Z"
   },
   {
    "duration": 7,
    "start_time": "2024-08-03T22:35:02.996Z"
   },
   {
    "duration": 1036,
    "start_time": "2024-08-03T22:35:21.812Z"
   },
   {
    "duration": 1081,
    "start_time": "2024-08-03T22:35:52.174Z"
   },
   {
    "duration": 6,
    "start_time": "2024-08-03T22:35:53.347Z"
   },
   {
    "duration": 3,
    "start_time": "2024-08-03T22:36:15.745Z"
   },
   {
    "duration": 3089,
    "start_time": "2024-08-03T22:36:18.264Z"
   },
   {
    "duration": 6,
    "start_time": "2024-08-03T22:36:23.480Z"
   },
   {
    "duration": 3,
    "start_time": "2024-08-03T22:36:29.703Z"
   },
   {
    "duration": 647,
    "start_time": "2024-08-03T22:36:32.016Z"
   },
   {
    "duration": 6,
    "start_time": "2024-08-03T22:36:34.324Z"
   },
   {
    "duration": 2602,
    "start_time": "2024-08-03T22:39:02.123Z"
   },
   {
    "duration": 2389,
    "start_time": "2024-08-03T22:39:04.727Z"
   },
   {
    "duration": 53,
    "start_time": "2024-08-03T22:39:07.118Z"
   },
   {
    "duration": 18,
    "start_time": "2024-08-03T22:39:07.173Z"
   },
   {
    "duration": 6,
    "start_time": "2024-08-03T22:39:07.193Z"
   },
   {
    "duration": 16,
    "start_time": "2024-08-03T22:39:07.201Z"
   },
   {
    "duration": 10,
    "start_time": "2024-08-03T22:39:07.219Z"
   },
   {
    "duration": 20,
    "start_time": "2024-08-03T22:39:07.231Z"
   },
   {
    "duration": 3,
    "start_time": "2024-08-03T22:39:07.253Z"
   },
   {
    "duration": 15,
    "start_time": "2024-08-03T22:39:07.259Z"
   },
   {
    "duration": 353,
    "start_time": "2024-08-03T22:39:07.276Z"
   },
   {
    "duration": 9,
    "start_time": "2024-08-03T22:39:07.631Z"
   },
   {
    "duration": 332,
    "start_time": "2024-08-03T22:39:07.642Z"
   },
   {
    "duration": 178,
    "start_time": "2024-08-03T22:39:07.975Z"
   },
   {
    "duration": 175,
    "start_time": "2024-08-03T22:39:08.155Z"
   },
   {
    "duration": 344,
    "start_time": "2024-08-03T22:39:08.331Z"
   },
   {
    "duration": 163,
    "start_time": "2024-08-03T22:39:08.676Z"
   },
   {
    "duration": 44,
    "start_time": "2024-08-03T22:39:08.841Z"
   },
   {
    "duration": 4396,
    "start_time": "2024-08-03T22:39:08.886Z"
   },
   {
    "duration": 1387,
    "start_time": "2024-08-03T22:39:13.284Z"
   },
   {
    "duration": 4006,
    "start_time": "2024-08-03T22:39:14.672Z"
   },
   {
    "duration": 5,
    "start_time": "2024-08-03T22:39:18.680Z"
   },
   {
    "duration": 41,
    "start_time": "2024-08-03T22:39:18.687Z"
   },
   {
    "duration": 43,
    "start_time": "2024-08-03T22:39:18.731Z"
   },
   {
    "duration": 65,
    "start_time": "2024-08-03T22:39:18.776Z"
   },
   {
    "duration": 8,
    "start_time": "2024-08-03T22:39:18.843Z"
   },
   {
    "duration": 32,
    "start_time": "2024-08-03T22:39:18.853Z"
   },
   {
    "duration": 965,
    "start_time": "2024-08-03T22:39:18.889Z"
   },
   {
    "duration": 94,
    "start_time": "2024-08-03T22:39:19.856Z"
   },
   {
    "duration": 96,
    "start_time": "2024-08-03T22:39:19.952Z"
   },
   {
    "duration": 0,
    "start_time": "2024-08-03T22:39:20.049Z"
   },
   {
    "duration": 0,
    "start_time": "2024-08-03T22:39:20.051Z"
   },
   {
    "duration": 0,
    "start_time": "2024-08-03T22:39:20.052Z"
   },
   {
    "duration": 0,
    "start_time": "2024-08-03T22:39:20.054Z"
   },
   {
    "duration": 0,
    "start_time": "2024-08-03T22:39:20.055Z"
   },
   {
    "duration": 0,
    "start_time": "2024-08-03T22:39:20.056Z"
   },
   {
    "duration": 2445,
    "start_time": "2024-08-03T22:40:34.976Z"
   },
   {
    "duration": 1525,
    "start_time": "2024-08-03T22:40:37.423Z"
   },
   {
    "duration": 53,
    "start_time": "2024-08-03T22:40:38.950Z"
   },
   {
    "duration": 18,
    "start_time": "2024-08-03T22:40:39.005Z"
   },
   {
    "duration": 6,
    "start_time": "2024-08-03T22:40:39.024Z"
   },
   {
    "duration": 10,
    "start_time": "2024-08-03T22:40:39.031Z"
   },
   {
    "duration": 7,
    "start_time": "2024-08-03T22:40:39.042Z"
   },
   {
    "duration": 10,
    "start_time": "2024-08-03T22:40:39.051Z"
   },
   {
    "duration": 4,
    "start_time": "2024-08-03T22:40:39.063Z"
   },
   {
    "duration": 17,
    "start_time": "2024-08-03T22:40:39.069Z"
   },
   {
    "duration": 370,
    "start_time": "2024-08-03T22:40:39.087Z"
   },
   {
    "duration": 12,
    "start_time": "2024-08-03T22:40:39.458Z"
   },
   {
    "duration": 609,
    "start_time": "2024-08-03T22:40:39.472Z"
   },
   {
    "duration": 364,
    "start_time": "2024-08-03T22:40:40.083Z"
   },
   {
    "duration": 313,
    "start_time": "2024-08-03T22:40:40.449Z"
   },
   {
    "duration": 422,
    "start_time": "2024-08-03T22:40:40.764Z"
   },
   {
    "duration": 179,
    "start_time": "2024-08-03T22:40:41.188Z"
   },
   {
    "duration": 42,
    "start_time": "2024-08-03T22:40:41.369Z"
   },
   {
    "duration": 4370,
    "start_time": "2024-08-03T22:40:41.413Z"
   },
   {
    "duration": 1450,
    "start_time": "2024-08-03T22:40:45.785Z"
   },
   {
    "duration": 4001,
    "start_time": "2024-08-03T22:40:47.237Z"
   },
   {
    "duration": 4,
    "start_time": "2024-08-03T22:40:51.245Z"
   },
   {
    "duration": 54,
    "start_time": "2024-08-03T22:40:51.250Z"
   },
   {
    "duration": 40,
    "start_time": "2024-08-03T22:40:51.306Z"
   },
   {
    "duration": 33,
    "start_time": "2024-08-03T22:40:51.348Z"
   },
   {
    "duration": 24,
    "start_time": "2024-08-03T22:40:51.383Z"
   },
   {
    "duration": 27,
    "start_time": "2024-08-03T22:40:51.409Z"
   },
   {
    "duration": 813,
    "start_time": "2024-08-03T22:40:51.441Z"
   },
   {
    "duration": 7,
    "start_time": "2024-08-03T22:40:52.346Z"
   },
   {
    "duration": 92,
    "start_time": "2024-08-03T22:40:52.355Z"
   },
   {
    "duration": 0,
    "start_time": "2024-08-03T22:40:52.449Z"
   },
   {
    "duration": 0,
    "start_time": "2024-08-03T22:40:52.450Z"
   },
   {
    "duration": 0,
    "start_time": "2024-08-03T22:40:52.452Z"
   },
   {
    "duration": 0,
    "start_time": "2024-08-03T22:40:52.453Z"
   },
   {
    "duration": 0,
    "start_time": "2024-08-03T22:40:52.454Z"
   },
   {
    "duration": 0,
    "start_time": "2024-08-03T22:40:52.455Z"
   },
   {
    "duration": 2450,
    "start_time": "2024-08-03T22:41:01.379Z"
   },
   {
    "duration": 1497,
    "start_time": "2024-08-03T22:41:03.832Z"
   },
   {
    "duration": 52,
    "start_time": "2024-08-03T22:41:05.331Z"
   },
   {
    "duration": 17,
    "start_time": "2024-08-03T22:41:05.385Z"
   },
   {
    "duration": 10,
    "start_time": "2024-08-03T22:41:05.404Z"
   },
   {
    "duration": 16,
    "start_time": "2024-08-03T22:41:05.416Z"
   },
   {
    "duration": 8,
    "start_time": "2024-08-03T22:41:05.433Z"
   },
   {
    "duration": 16,
    "start_time": "2024-08-03T22:41:05.443Z"
   },
   {
    "duration": 34,
    "start_time": "2024-08-03T22:41:05.460Z"
   },
   {
    "duration": 69,
    "start_time": "2024-08-03T22:41:05.496Z"
   },
   {
    "duration": 362,
    "start_time": "2024-08-03T22:41:05.567Z"
   },
   {
    "duration": 8,
    "start_time": "2024-08-03T22:41:05.931Z"
   },
   {
    "duration": 342,
    "start_time": "2024-08-03T22:41:05.941Z"
   },
   {
    "duration": 163,
    "start_time": "2024-08-03T22:41:06.286Z"
   },
   {
    "duration": 174,
    "start_time": "2024-08-03T22:41:06.451Z"
   },
   {
    "duration": 303,
    "start_time": "2024-08-03T22:41:06.627Z"
   },
   {
    "duration": 221,
    "start_time": "2024-08-03T22:41:06.932Z"
   },
   {
    "duration": 99,
    "start_time": "2024-08-03T22:41:07.154Z"
   },
   {
    "duration": 5096,
    "start_time": "2024-08-03T22:41:07.254Z"
   },
   {
    "duration": 1382,
    "start_time": "2024-08-03T22:41:12.352Z"
   },
   {
    "duration": 3930,
    "start_time": "2024-08-03T22:41:13.736Z"
   },
   {
    "duration": 4,
    "start_time": "2024-08-03T22:41:17.668Z"
   },
   {
    "duration": 60,
    "start_time": "2024-08-03T22:41:17.673Z"
   },
   {
    "duration": 29,
    "start_time": "2024-08-03T22:41:17.735Z"
   },
   {
    "duration": 7,
    "start_time": "2024-08-03T22:41:17.765Z"
   },
   {
    "duration": 10,
    "start_time": "2024-08-03T22:41:17.774Z"
   },
   {
    "duration": 6,
    "start_time": "2024-08-03T22:41:17.786Z"
   },
   {
    "duration": 855,
    "start_time": "2024-08-03T22:41:17.793Z"
   },
   {
    "duration": 95,
    "start_time": "2024-08-03T22:41:18.650Z"
   },
   {
    "duration": 57,
    "start_time": "2024-08-03T22:41:18.747Z"
   },
   {
    "duration": 0,
    "start_time": "2024-08-03T22:41:18.806Z"
   },
   {
    "duration": 0,
    "start_time": "2024-08-03T22:41:18.807Z"
   },
   {
    "duration": 0,
    "start_time": "2024-08-03T22:41:18.808Z"
   },
   {
    "duration": 0,
    "start_time": "2024-08-03T22:41:18.809Z"
   },
   {
    "duration": 0,
    "start_time": "2024-08-03T22:41:18.810Z"
   },
   {
    "duration": 0,
    "start_time": "2024-08-03T22:41:18.812Z"
   },
   {
    "duration": 7,
    "start_time": "2024-08-03T22:42:18.296Z"
   },
   {
    "duration": 117,
    "start_time": "2024-08-03T22:42:19.876Z"
   },
   {
    "duration": 2511,
    "start_time": "2024-08-03T22:42:36.364Z"
   },
   {
    "duration": 1468,
    "start_time": "2024-08-03T22:42:38.877Z"
   },
   {
    "duration": 52,
    "start_time": "2024-08-03T22:42:40.346Z"
   },
   {
    "duration": 22,
    "start_time": "2024-08-03T22:42:40.400Z"
   },
   {
    "duration": 6,
    "start_time": "2024-08-03T22:42:40.424Z"
   },
   {
    "duration": 5,
    "start_time": "2024-08-03T22:42:40.432Z"
   },
   {
    "duration": 7,
    "start_time": "2024-08-03T22:42:40.439Z"
   },
   {
    "duration": 8,
    "start_time": "2024-08-03T22:42:40.448Z"
   },
   {
    "duration": 3,
    "start_time": "2024-08-03T22:42:40.457Z"
   },
   {
    "duration": 15,
    "start_time": "2024-08-03T22:42:40.464Z"
   },
   {
    "duration": 380,
    "start_time": "2024-08-03T22:42:40.481Z"
   },
   {
    "duration": 10,
    "start_time": "2024-08-03T22:42:40.863Z"
   },
   {
    "duration": 124,
    "start_time": "2024-08-03T22:42:40.875Z"
   },
   {
    "duration": 0,
    "start_time": "2024-08-03T22:42:41.002Z"
   },
   {
    "duration": 0,
    "start_time": "2024-08-03T22:42:41.004Z"
   },
   {
    "duration": 0,
    "start_time": "2024-08-03T22:42:41.005Z"
   },
   {
    "duration": 0,
    "start_time": "2024-08-03T22:42:41.007Z"
   },
   {
    "duration": 0,
    "start_time": "2024-08-03T22:42:41.008Z"
   },
   {
    "duration": 0,
    "start_time": "2024-08-03T22:42:41.009Z"
   },
   {
    "duration": 0,
    "start_time": "2024-08-03T22:42:41.011Z"
   },
   {
    "duration": 0,
    "start_time": "2024-08-03T22:42:41.012Z"
   },
   {
    "duration": 0,
    "start_time": "2024-08-03T22:42:41.014Z"
   },
   {
    "duration": 0,
    "start_time": "2024-08-03T22:42:41.015Z"
   },
   {
    "duration": 0,
    "start_time": "2024-08-03T22:42:41.017Z"
   },
   {
    "duration": 0,
    "start_time": "2024-08-03T22:42:41.046Z"
   },
   {
    "duration": 0,
    "start_time": "2024-08-03T22:42:41.048Z"
   },
   {
    "duration": 0,
    "start_time": "2024-08-03T22:42:41.049Z"
   },
   {
    "duration": 0,
    "start_time": "2024-08-03T22:42:41.051Z"
   },
   {
    "duration": 0,
    "start_time": "2024-08-03T22:42:41.052Z"
   },
   {
    "duration": 0,
    "start_time": "2024-08-03T22:42:41.054Z"
   },
   {
    "duration": 0,
    "start_time": "2024-08-03T22:42:41.055Z"
   },
   {
    "duration": 0,
    "start_time": "2024-08-03T22:42:41.057Z"
   },
   {
    "duration": 0,
    "start_time": "2024-08-03T22:42:41.058Z"
   },
   {
    "duration": 0,
    "start_time": "2024-08-03T22:42:41.060Z"
   },
   {
    "duration": 0,
    "start_time": "2024-08-03T22:42:41.061Z"
   },
   {
    "duration": 0,
    "start_time": "2024-08-03T22:42:41.063Z"
   },
   {
    "duration": 0,
    "start_time": "2024-08-03T22:42:41.065Z"
   },
   {
    "duration": 0,
    "start_time": "2024-08-03T22:42:41.066Z"
   },
   {
    "duration": 2476,
    "start_time": "2024-08-03T22:43:08.631Z"
   },
   {
    "duration": 1485,
    "start_time": "2024-08-03T22:43:11.111Z"
   },
   {
    "duration": 52,
    "start_time": "2024-08-03T22:43:12.598Z"
   },
   {
    "duration": 19,
    "start_time": "2024-08-03T22:43:12.652Z"
   },
   {
    "duration": 5,
    "start_time": "2024-08-03T22:43:12.673Z"
   },
   {
    "duration": 15,
    "start_time": "2024-08-03T22:43:12.679Z"
   },
   {
    "duration": 5,
    "start_time": "2024-08-03T22:43:12.695Z"
   },
   {
    "duration": 13,
    "start_time": "2024-08-03T22:43:12.702Z"
   },
   {
    "duration": 3,
    "start_time": "2024-08-03T22:43:12.717Z"
   },
   {
    "duration": 32,
    "start_time": "2024-08-03T22:43:12.721Z"
   },
   {
    "duration": 386,
    "start_time": "2024-08-03T22:43:12.755Z"
   },
   {
    "duration": 9,
    "start_time": "2024-08-03T22:43:13.143Z"
   },
   {
    "duration": 323,
    "start_time": "2024-08-03T22:43:13.153Z"
   },
   {
    "duration": 157,
    "start_time": "2024-08-03T22:43:13.480Z"
   },
   {
    "duration": 165,
    "start_time": "2024-08-03T22:43:13.639Z"
   },
   {
    "duration": 302,
    "start_time": "2024-08-03T22:43:13.806Z"
   },
   {
    "duration": 161,
    "start_time": "2024-08-03T22:43:14.110Z"
   },
   {
    "duration": 42,
    "start_time": "2024-08-03T22:43:14.273Z"
   },
   {
    "duration": 5242,
    "start_time": "2024-08-03T22:43:14.317Z"
   },
   {
    "duration": 1384,
    "start_time": "2024-08-03T22:43:19.561Z"
   },
   {
    "duration": 3929,
    "start_time": "2024-08-03T22:43:20.947Z"
   },
   {
    "duration": 4,
    "start_time": "2024-08-03T22:43:24.878Z"
   },
   {
    "duration": 18,
    "start_time": "2024-08-03T22:43:24.884Z"
   },
   {
    "duration": 13,
    "start_time": "2024-08-03T22:43:24.904Z"
   },
   {
    "duration": 16,
    "start_time": "2024-08-03T22:43:24.919Z"
   },
   {
    "duration": 14,
    "start_time": "2024-08-03T22:43:24.937Z"
   },
   {
    "duration": 13,
    "start_time": "2024-08-03T22:43:24.952Z"
   },
   {
    "duration": 136,
    "start_time": "2024-08-03T22:43:24.967Z"
   },
   {
    "duration": 0,
    "start_time": "2024-08-03T22:43:25.106Z"
   },
   {
    "duration": 0,
    "start_time": "2024-08-03T22:43:25.107Z"
   },
   {
    "duration": 0,
    "start_time": "2024-08-03T22:43:25.108Z"
   },
   {
    "duration": 0,
    "start_time": "2024-08-03T22:43:25.110Z"
   },
   {
    "duration": 0,
    "start_time": "2024-08-03T22:43:25.111Z"
   },
   {
    "duration": 0,
    "start_time": "2024-08-03T22:43:25.112Z"
   },
   {
    "duration": 1,
    "start_time": "2024-08-03T22:43:25.112Z"
   },
   {
    "duration": 0,
    "start_time": "2024-08-03T22:43:25.114Z"
   },
   {
    "duration": 0,
    "start_time": "2024-08-03T22:43:25.115Z"
   },
   {
    "duration": 2409,
    "start_time": "2024-08-03T22:44:11.601Z"
   },
   {
    "duration": 1737,
    "start_time": "2024-08-03T22:44:14.012Z"
   },
   {
    "duration": 52,
    "start_time": "2024-08-03T22:44:15.751Z"
   },
   {
    "duration": 19,
    "start_time": "2024-08-03T22:44:15.847Z"
   },
   {
    "duration": 5,
    "start_time": "2024-08-03T22:44:15.868Z"
   },
   {
    "duration": 18,
    "start_time": "2024-08-03T22:44:15.874Z"
   },
   {
    "duration": 54,
    "start_time": "2024-08-03T22:44:15.894Z"
   },
   {
    "duration": 9,
    "start_time": "2024-08-03T22:44:15.950Z"
   },
   {
    "duration": 4,
    "start_time": "2024-08-03T22:44:15.961Z"
   },
   {
    "duration": 21,
    "start_time": "2024-08-03T22:44:15.966Z"
   },
   {
    "duration": 695,
    "start_time": "2024-08-03T22:44:15.989Z"
   },
   {
    "duration": 9,
    "start_time": "2024-08-03T22:44:16.686Z"
   },
   {
    "duration": 1242,
    "start_time": "2024-08-03T22:44:16.696Z"
   },
   {
    "duration": 0,
    "start_time": "2024-08-03T22:44:17.941Z"
   },
   {
    "duration": 0,
    "start_time": "2024-08-03T22:44:17.945Z"
   },
   {
    "duration": 0,
    "start_time": "2024-08-03T22:44:17.946Z"
   },
   {
    "duration": 0,
    "start_time": "2024-08-03T22:44:17.947Z"
   },
   {
    "duration": 0,
    "start_time": "2024-08-03T22:44:17.948Z"
   },
   {
    "duration": 0,
    "start_time": "2024-08-03T22:44:17.949Z"
   },
   {
    "duration": 0,
    "start_time": "2024-08-03T22:44:17.950Z"
   },
   {
    "duration": 0,
    "start_time": "2024-08-03T22:44:17.951Z"
   },
   {
    "duration": 0,
    "start_time": "2024-08-03T22:44:17.952Z"
   },
   {
    "duration": 0,
    "start_time": "2024-08-03T22:44:17.952Z"
   },
   {
    "duration": 1,
    "start_time": "2024-08-03T22:44:17.953Z"
   },
   {
    "duration": 0,
    "start_time": "2024-08-03T22:44:17.954Z"
   },
   {
    "duration": 0,
    "start_time": "2024-08-03T22:44:18.055Z"
   },
   {
    "duration": 0,
    "start_time": "2024-08-03T22:44:18.056Z"
   },
   {
    "duration": 0,
    "start_time": "2024-08-03T22:44:18.057Z"
   },
   {
    "duration": 0,
    "start_time": "2024-08-03T22:44:18.058Z"
   },
   {
    "duration": 0,
    "start_time": "2024-08-03T22:44:18.059Z"
   },
   {
    "duration": 0,
    "start_time": "2024-08-03T22:44:18.060Z"
   },
   {
    "duration": 1,
    "start_time": "2024-08-03T22:44:18.061Z"
   },
   {
    "duration": 0,
    "start_time": "2024-08-03T22:44:18.063Z"
   },
   {
    "duration": 0,
    "start_time": "2024-08-03T22:44:18.064Z"
   },
   {
    "duration": 0,
    "start_time": "2024-08-03T22:44:18.065Z"
   },
   {
    "duration": 0,
    "start_time": "2024-08-03T22:44:18.067Z"
   },
   {
    "duration": 0,
    "start_time": "2024-08-03T22:44:18.068Z"
   },
   {
    "duration": 0,
    "start_time": "2024-08-03T22:44:18.070Z"
   },
   {
    "duration": 315,
    "start_time": "2024-08-03T22:44:47.034Z"
   },
   {
    "duration": 2542,
    "start_time": "2024-08-03T22:45:46.931Z"
   },
   {
    "duration": 250,
    "start_time": "2024-08-03T22:45:49.476Z"
   },
   {
    "duration": 0,
    "start_time": "2024-08-03T22:45:49.728Z"
   },
   {
    "duration": 0,
    "start_time": "2024-08-03T22:45:49.730Z"
   },
   {
    "duration": 0,
    "start_time": "2024-08-03T22:45:49.730Z"
   },
   {
    "duration": 0,
    "start_time": "2024-08-03T22:45:49.731Z"
   },
   {
    "duration": 0,
    "start_time": "2024-08-03T22:45:49.732Z"
   },
   {
    "duration": 0,
    "start_time": "2024-08-03T22:45:49.746Z"
   },
   {
    "duration": 0,
    "start_time": "2024-08-03T22:45:49.748Z"
   },
   {
    "duration": 0,
    "start_time": "2024-08-03T22:45:49.749Z"
   },
   {
    "duration": 0,
    "start_time": "2024-08-03T22:45:49.751Z"
   },
   {
    "duration": 0,
    "start_time": "2024-08-03T22:45:49.752Z"
   },
   {
    "duration": 0,
    "start_time": "2024-08-03T22:45:49.753Z"
   },
   {
    "duration": 0,
    "start_time": "2024-08-03T22:45:49.755Z"
   },
   {
    "duration": 0,
    "start_time": "2024-08-03T22:45:49.756Z"
   },
   {
    "duration": 0,
    "start_time": "2024-08-03T22:45:49.758Z"
   },
   {
    "duration": 0,
    "start_time": "2024-08-03T22:45:49.759Z"
   },
   {
    "duration": 0,
    "start_time": "2024-08-03T22:45:49.761Z"
   },
   {
    "duration": 0,
    "start_time": "2024-08-03T22:45:49.762Z"
   },
   {
    "duration": 0,
    "start_time": "2024-08-03T22:45:49.763Z"
   },
   {
    "duration": 0,
    "start_time": "2024-08-03T22:45:49.764Z"
   },
   {
    "duration": 0,
    "start_time": "2024-08-03T22:45:49.766Z"
   },
   {
    "duration": 0,
    "start_time": "2024-08-03T22:45:49.767Z"
   },
   {
    "duration": 0,
    "start_time": "2024-08-03T22:45:49.769Z"
   },
   {
    "duration": 1,
    "start_time": "2024-08-03T22:45:49.770Z"
   },
   {
    "duration": 0,
    "start_time": "2024-08-03T22:45:49.772Z"
   },
   {
    "duration": 0,
    "start_time": "2024-08-03T22:45:49.774Z"
   },
   {
    "duration": 0,
    "start_time": "2024-08-03T22:45:49.775Z"
   },
   {
    "duration": 0,
    "start_time": "2024-08-03T22:45:49.776Z"
   },
   {
    "duration": 0,
    "start_time": "2024-08-03T22:45:49.778Z"
   },
   {
    "duration": 0,
    "start_time": "2024-08-03T22:45:49.779Z"
   },
   {
    "duration": 0,
    "start_time": "2024-08-03T22:45:49.781Z"
   },
   {
    "duration": 0,
    "start_time": "2024-08-03T22:45:49.782Z"
   },
   {
    "duration": 1,
    "start_time": "2024-08-03T22:45:49.783Z"
   },
   {
    "duration": 0,
    "start_time": "2024-08-03T22:45:49.785Z"
   },
   {
    "duration": 0,
    "start_time": "2024-08-03T22:45:49.786Z"
   },
   {
    "duration": 2526,
    "start_time": "2024-08-03T22:45:57.053Z"
   },
   {
    "duration": 1512,
    "start_time": "2024-08-03T22:45:59.582Z"
   },
   {
    "duration": 54,
    "start_time": "2024-08-03T22:46:01.095Z"
   },
   {
    "duration": 18,
    "start_time": "2024-08-03T22:46:01.151Z"
   },
   {
    "duration": 36,
    "start_time": "2024-08-03T22:46:01.171Z"
   },
   {
    "duration": 121,
    "start_time": "2024-08-03T22:46:01.209Z"
   },
   {
    "duration": 234,
    "start_time": "2024-08-03T22:46:01.332Z"
   },
   {
    "duration": 394,
    "start_time": "2024-08-03T22:46:01.568Z"
   },
   {
    "duration": 105,
    "start_time": "2024-08-03T22:46:01.964Z"
   },
   {
    "duration": 75,
    "start_time": "2024-08-03T22:46:02.072Z"
   },
   {
    "duration": 837,
    "start_time": "2024-08-03T22:46:02.148Z"
   },
   {
    "duration": 328,
    "start_time": "2024-08-03T22:46:02.987Z"
   },
   {
    "duration": 173,
    "start_time": "2024-08-03T22:46:03.316Z"
   },
   {
    "duration": 178,
    "start_time": "2024-08-03T22:46:03.490Z"
   },
   {
    "duration": 334,
    "start_time": "2024-08-03T22:46:03.670Z"
   },
   {
    "duration": 174,
    "start_time": "2024-08-03T22:46:04.005Z"
   },
   {
    "duration": 45,
    "start_time": "2024-08-03T22:46:04.180Z"
   },
   {
    "duration": 4420,
    "start_time": "2024-08-03T22:46:04.226Z"
   },
   {
    "duration": 1420,
    "start_time": "2024-08-03T22:46:08.648Z"
   },
   {
    "duration": 3156,
    "start_time": "2024-08-03T22:46:10.070Z"
   },
   {
    "duration": 5,
    "start_time": "2024-08-03T22:46:13.228Z"
   },
   {
    "duration": 18,
    "start_time": "2024-08-03T22:46:13.234Z"
   },
   {
    "duration": 9,
    "start_time": "2024-08-03T22:46:13.254Z"
   },
   {
    "duration": 6,
    "start_time": "2024-08-03T22:46:13.265Z"
   },
   {
    "duration": 3,
    "start_time": "2024-08-03T22:46:13.273Z"
   },
   {
    "duration": 4,
    "start_time": "2024-08-03T22:46:13.278Z"
   },
   {
    "duration": 864,
    "start_time": "2024-08-03T22:46:13.284Z"
   },
   {
    "duration": 94,
    "start_time": "2024-08-03T22:46:14.153Z"
   },
   {
    "duration": 57,
    "start_time": "2024-08-03T22:46:14.249Z"
   },
   {
    "duration": 0,
    "start_time": "2024-08-03T22:46:14.308Z"
   },
   {
    "duration": 0,
    "start_time": "2024-08-03T22:46:14.309Z"
   },
   {
    "duration": 0,
    "start_time": "2024-08-03T22:46:14.310Z"
   },
   {
    "duration": 0,
    "start_time": "2024-08-03T22:46:14.311Z"
   },
   {
    "duration": 0,
    "start_time": "2024-08-03T22:46:14.313Z"
   },
   {
    "duration": 0,
    "start_time": "2024-08-03T22:46:14.315Z"
   },
   {
    "duration": 990,
    "start_time": "2024-08-03T22:48:01.143Z"
   },
   {
    "duration": 2481,
    "start_time": "2024-08-03T22:48:12.391Z"
   },
   {
    "duration": 1456,
    "start_time": "2024-08-03T22:48:14.874Z"
   },
   {
    "duration": 63,
    "start_time": "2024-08-03T22:48:16.332Z"
   },
   {
    "duration": 18,
    "start_time": "2024-08-03T22:48:16.397Z"
   },
   {
    "duration": 39,
    "start_time": "2024-08-03T22:48:16.417Z"
   },
   {
    "duration": 108,
    "start_time": "2024-08-03T22:48:16.458Z"
   },
   {
    "duration": 7,
    "start_time": "2024-08-03T22:48:16.568Z"
   },
   {
    "duration": 18,
    "start_time": "2024-08-03T22:48:16.577Z"
   },
   {
    "duration": 5,
    "start_time": "2024-08-03T22:48:16.597Z"
   },
   {
    "duration": 17,
    "start_time": "2024-08-03T22:48:16.648Z"
   },
   {
    "duration": 710,
    "start_time": "2024-08-03T22:48:16.667Z"
   },
   {
    "duration": 563,
    "start_time": "2024-08-03T22:48:17.378Z"
   },
   {
    "duration": 195,
    "start_time": "2024-08-03T22:48:17.945Z"
   },
   {
    "duration": 182,
    "start_time": "2024-08-03T22:48:18.142Z"
   },
   {
    "duration": 313,
    "start_time": "2024-08-03T22:48:18.326Z"
   },
   {
    "duration": 171,
    "start_time": "2024-08-03T22:48:18.646Z"
   },
   {
    "duration": 53,
    "start_time": "2024-08-03T22:48:18.818Z"
   },
   {
    "duration": 696,
    "start_time": "2024-08-03T22:48:18.873Z"
   },
   {
    "duration": 0,
    "start_time": "2024-08-03T22:48:19.572Z"
   },
   {
    "duration": 0,
    "start_time": "2024-08-03T22:48:19.574Z"
   },
   {
    "duration": 0,
    "start_time": "2024-08-03T22:48:19.575Z"
   },
   {
    "duration": 0,
    "start_time": "2024-08-03T22:48:19.577Z"
   },
   {
    "duration": 0,
    "start_time": "2024-08-03T22:48:19.578Z"
   },
   {
    "duration": 0,
    "start_time": "2024-08-03T22:48:19.580Z"
   },
   {
    "duration": 0,
    "start_time": "2024-08-03T22:48:19.582Z"
   },
   {
    "duration": 0,
    "start_time": "2024-08-03T22:48:19.583Z"
   },
   {
    "duration": 0,
    "start_time": "2024-08-03T22:48:19.584Z"
   },
   {
    "duration": 0,
    "start_time": "2024-08-03T22:48:19.586Z"
   },
   {
    "duration": 0,
    "start_time": "2024-08-03T22:48:19.588Z"
   },
   {
    "duration": 0,
    "start_time": "2024-08-03T22:48:19.589Z"
   },
   {
    "duration": 0,
    "start_time": "2024-08-03T22:48:19.590Z"
   },
   {
    "duration": 0,
    "start_time": "2024-08-03T22:48:19.591Z"
   },
   {
    "duration": 0,
    "start_time": "2024-08-03T22:48:19.592Z"
   },
   {
    "duration": 0,
    "start_time": "2024-08-03T22:48:19.593Z"
   },
   {
    "duration": 0,
    "start_time": "2024-08-03T22:48:19.595Z"
   },
   {
    "duration": 1019,
    "start_time": "2024-08-03T22:48:24.661Z"
   },
   {
    "duration": 2458,
    "start_time": "2024-08-03T22:48:31.573Z"
   },
   {
    "duration": 1514,
    "start_time": "2024-08-03T22:48:34.034Z"
   },
   {
    "duration": 52,
    "start_time": "2024-08-03T22:48:35.550Z"
   },
   {
    "duration": 18,
    "start_time": "2024-08-03T22:48:35.603Z"
   },
   {
    "duration": 4,
    "start_time": "2024-08-03T22:48:35.623Z"
   },
   {
    "duration": 17,
    "start_time": "2024-08-03T22:48:35.629Z"
   },
   {
    "duration": 14,
    "start_time": "2024-08-03T22:48:35.647Z"
   },
   {
    "duration": 21,
    "start_time": "2024-08-03T22:48:35.662Z"
   },
   {
    "duration": 4,
    "start_time": "2024-08-03T22:48:35.684Z"
   },
   {
    "duration": 116,
    "start_time": "2024-08-03T22:48:35.689Z"
   },
   {
    "duration": 310,
    "start_time": "2024-08-03T22:48:35.806Z"
   },
   {
    "duration": 360,
    "start_time": "2024-08-03T22:48:36.117Z"
   },
   {
    "duration": 176,
    "start_time": "2024-08-03T22:48:36.479Z"
   },
   {
    "duration": 179,
    "start_time": "2024-08-03T22:48:36.659Z"
   },
   {
    "duration": 361,
    "start_time": "2024-08-03T22:48:36.840Z"
   },
   {
    "duration": 167,
    "start_time": "2024-08-03T22:48:37.203Z"
   },
   {
    "duration": 44,
    "start_time": "2024-08-03T22:48:37.372Z"
   },
   {
    "duration": 5129,
    "start_time": "2024-08-03T22:48:37.417Z"
   },
   {
    "duration": 1307,
    "start_time": "2024-08-03T22:48:42.548Z"
   },
   {
    "duration": 3236,
    "start_time": "2024-08-03T22:48:43.857Z"
   },
   {
    "duration": 4,
    "start_time": "2024-08-03T22:48:47.096Z"
   },
   {
    "duration": 13,
    "start_time": "2024-08-03T22:48:47.102Z"
   },
   {
    "duration": 29,
    "start_time": "2024-08-03T22:48:47.117Z"
   },
   {
    "duration": 9,
    "start_time": "2024-08-03T22:48:47.148Z"
   },
   {
    "duration": 4,
    "start_time": "2024-08-03T22:48:47.159Z"
   },
   {
    "duration": 13,
    "start_time": "2024-08-03T22:48:47.164Z"
   },
   {
    "duration": 869,
    "start_time": "2024-08-03T22:48:47.178Z"
   },
   {
    "duration": 7,
    "start_time": "2024-08-03T22:48:48.049Z"
   },
   {
    "duration": 89,
    "start_time": "2024-08-03T22:48:48.058Z"
   },
   {
    "duration": 0,
    "start_time": "2024-08-03T22:48:48.149Z"
   },
   {
    "duration": 0,
    "start_time": "2024-08-03T22:48:48.150Z"
   },
   {
    "duration": 0,
    "start_time": "2024-08-03T22:48:48.151Z"
   },
   {
    "duration": 0,
    "start_time": "2024-08-03T22:48:48.152Z"
   },
   {
    "duration": 0,
    "start_time": "2024-08-03T22:48:48.153Z"
   },
   {
    "duration": 0,
    "start_time": "2024-08-03T22:48:48.154Z"
   },
   {
    "duration": 988,
    "start_time": "2024-08-03T22:48:48.584Z"
   },
   {
    "duration": 2992,
    "start_time": "2024-08-03T22:49:33.056Z"
   },
   {
    "duration": 1609,
    "start_time": "2024-08-03T22:49:36.050Z"
   },
   {
    "duration": 53,
    "start_time": "2024-08-03T22:49:37.660Z"
   },
   {
    "duration": 17,
    "start_time": "2024-08-03T22:49:37.715Z"
   },
   {
    "duration": 7,
    "start_time": "2024-08-03T22:49:37.733Z"
   },
   {
    "duration": 6,
    "start_time": "2024-08-03T22:49:37.741Z"
   },
   {
    "duration": 6,
    "start_time": "2024-08-03T22:49:37.748Z"
   },
   {
    "duration": 18,
    "start_time": "2024-08-03T22:49:37.756Z"
   },
   {
    "duration": 4,
    "start_time": "2024-08-03T22:49:37.775Z"
   },
   {
    "duration": 14,
    "start_time": "2024-08-03T22:49:37.781Z"
   },
   {
    "duration": 8,
    "start_time": "2024-08-03T22:49:37.796Z"
   },
   {
    "duration": 36,
    "start_time": "2024-08-03T22:49:37.806Z"
   },
   {
    "duration": 133,
    "start_time": "2024-08-03T22:49:37.843Z"
   },
   {
    "duration": 0,
    "start_time": "2024-08-03T22:49:37.978Z"
   },
   {
    "duration": 0,
    "start_time": "2024-08-03T22:49:37.979Z"
   },
   {
    "duration": 0,
    "start_time": "2024-08-03T22:49:37.980Z"
   },
   {
    "duration": 0,
    "start_time": "2024-08-03T22:49:37.981Z"
   },
   {
    "duration": 0,
    "start_time": "2024-08-03T22:49:37.983Z"
   },
   {
    "duration": 0,
    "start_time": "2024-08-03T22:49:37.984Z"
   },
   {
    "duration": 0,
    "start_time": "2024-08-03T22:49:37.985Z"
   },
   {
    "duration": 0,
    "start_time": "2024-08-03T22:49:37.986Z"
   },
   {
    "duration": 0,
    "start_time": "2024-08-03T22:49:37.987Z"
   },
   {
    "duration": 0,
    "start_time": "2024-08-03T22:49:37.988Z"
   },
   {
    "duration": 0,
    "start_time": "2024-08-03T22:49:37.989Z"
   },
   {
    "duration": 0,
    "start_time": "2024-08-03T22:49:37.990Z"
   },
   {
    "duration": 0,
    "start_time": "2024-08-03T22:49:37.991Z"
   },
   {
    "duration": 0,
    "start_time": "2024-08-03T22:49:37.992Z"
   },
   {
    "duration": 0,
    "start_time": "2024-08-03T22:49:37.993Z"
   },
   {
    "duration": 0,
    "start_time": "2024-08-03T22:49:37.994Z"
   },
   {
    "duration": 0,
    "start_time": "2024-08-03T22:49:37.995Z"
   },
   {
    "duration": 0,
    "start_time": "2024-08-03T22:49:37.997Z"
   },
   {
    "duration": 0,
    "start_time": "2024-08-03T22:49:37.997Z"
   },
   {
    "duration": 1,
    "start_time": "2024-08-03T22:49:37.998Z"
   },
   {
    "duration": 0,
    "start_time": "2024-08-03T22:49:38.000Z"
   },
   {
    "duration": 0,
    "start_time": "2024-08-03T22:49:38.001Z"
   },
   {
    "duration": 0,
    "start_time": "2024-08-03T22:49:38.002Z"
   },
   {
    "duration": 0,
    "start_time": "2024-08-03T22:49:38.003Z"
   },
   {
    "duration": 0,
    "start_time": "2024-08-03T22:49:38.004Z"
   },
   {
    "duration": 5,
    "start_time": "2024-08-03T22:49:51.284Z"
   },
   {
    "duration": 7,
    "start_time": "2024-08-03T22:50:16.002Z"
   },
   {
    "duration": 5,
    "start_time": "2024-08-03T22:50:17.608Z"
   },
   {
    "duration": 6,
    "start_time": "2024-08-03T22:51:28.281Z"
   },
   {
    "duration": 5,
    "start_time": "2024-08-03T22:51:28.689Z"
   },
   {
    "duration": 8,
    "start_time": "2024-08-03T22:51:37.521Z"
   },
   {
    "duration": 6,
    "start_time": "2024-08-03T22:51:37.874Z"
   },
   {
    "duration": 956,
    "start_time": "2024-08-03T22:53:29.364Z"
   },
   {
    "duration": 988,
    "start_time": "2024-08-03T22:53:58.318Z"
   },
   {
    "duration": 2494,
    "start_time": "2024-08-03T22:54:15.621Z"
   },
   {
    "duration": 1610,
    "start_time": "2024-08-03T22:54:18.117Z"
   },
   {
    "duration": 52,
    "start_time": "2024-08-03T22:54:19.729Z"
   },
   {
    "duration": 18,
    "start_time": "2024-08-03T22:54:19.783Z"
   },
   {
    "duration": 5,
    "start_time": "2024-08-03T22:54:19.803Z"
   },
   {
    "duration": 15,
    "start_time": "2024-08-03T22:54:19.809Z"
   },
   {
    "duration": 9,
    "start_time": "2024-08-03T22:54:19.825Z"
   },
   {
    "duration": 12,
    "start_time": "2024-08-03T22:54:19.835Z"
   },
   {
    "duration": 4,
    "start_time": "2024-08-03T22:54:19.848Z"
   },
   {
    "duration": 24,
    "start_time": "2024-08-03T22:54:19.853Z"
   },
   {
    "duration": 7,
    "start_time": "2024-08-03T22:54:19.878Z"
   },
   {
    "duration": 18,
    "start_time": "2024-08-03T22:54:19.886Z"
   },
   {
    "duration": 128,
    "start_time": "2024-08-03T22:54:19.905Z"
   },
   {
    "duration": 0,
    "start_time": "2024-08-03T22:54:20.035Z"
   },
   {
    "duration": 0,
    "start_time": "2024-08-03T22:54:20.036Z"
   },
   {
    "duration": 0,
    "start_time": "2024-08-03T22:54:20.037Z"
   },
   {
    "duration": 0,
    "start_time": "2024-08-03T22:54:20.038Z"
   },
   {
    "duration": 0,
    "start_time": "2024-08-03T22:54:20.039Z"
   },
   {
    "duration": 0,
    "start_time": "2024-08-03T22:54:20.045Z"
   },
   {
    "duration": 0,
    "start_time": "2024-08-03T22:54:20.046Z"
   },
   {
    "duration": 0,
    "start_time": "2024-08-03T22:54:20.047Z"
   },
   {
    "duration": 0,
    "start_time": "2024-08-03T22:54:20.048Z"
   },
   {
    "duration": 0,
    "start_time": "2024-08-03T22:54:20.049Z"
   },
   {
    "duration": 0,
    "start_time": "2024-08-03T22:54:20.050Z"
   },
   {
    "duration": 0,
    "start_time": "2024-08-03T22:54:20.052Z"
   },
   {
    "duration": 0,
    "start_time": "2024-08-03T22:54:20.052Z"
   },
   {
    "duration": 0,
    "start_time": "2024-08-03T22:54:20.054Z"
   },
   {
    "duration": 0,
    "start_time": "2024-08-03T22:54:20.054Z"
   },
   {
    "duration": 0,
    "start_time": "2024-08-03T22:54:20.055Z"
   },
   {
    "duration": 0,
    "start_time": "2024-08-03T22:54:20.056Z"
   },
   {
    "duration": 0,
    "start_time": "2024-08-03T22:54:20.058Z"
   },
   {
    "duration": 0,
    "start_time": "2024-08-03T22:54:20.059Z"
   },
   {
    "duration": 0,
    "start_time": "2024-08-03T22:54:20.060Z"
   },
   {
    "duration": 0,
    "start_time": "2024-08-03T22:54:20.061Z"
   },
   {
    "duration": 0,
    "start_time": "2024-08-03T22:54:20.062Z"
   },
   {
    "duration": 0,
    "start_time": "2024-08-03T22:54:20.063Z"
   },
   {
    "duration": 0,
    "start_time": "2024-08-03T22:54:20.064Z"
   },
   {
    "duration": 0,
    "start_time": "2024-08-03T22:54:20.065Z"
   },
   {
    "duration": 0,
    "start_time": "2024-08-03T22:54:20.066Z"
   },
   {
    "duration": 1555,
    "start_time": "2024-08-03T22:55:04.781Z"
   },
   {
    "duration": 18,
    "start_time": "2024-08-03T22:55:22.581Z"
   },
   {
    "duration": 9,
    "start_time": "2024-08-03T22:57:14.051Z"
   },
   {
    "duration": 2485,
    "start_time": "2024-08-03T22:57:37.291Z"
   },
   {
    "duration": 1498,
    "start_time": "2024-08-03T22:57:39.778Z"
   },
   {
    "duration": 53,
    "start_time": "2024-08-03T22:57:41.278Z"
   },
   {
    "duration": 17,
    "start_time": "2024-08-03T22:57:41.333Z"
   },
   {
    "duration": 5,
    "start_time": "2024-08-03T22:57:41.352Z"
   },
   {
    "duration": 4,
    "start_time": "2024-08-03T22:57:41.358Z"
   },
   {
    "duration": 9,
    "start_time": "2024-08-03T22:57:41.363Z"
   },
   {
    "duration": 9,
    "start_time": "2024-08-03T22:57:41.373Z"
   },
   {
    "duration": 3,
    "start_time": "2024-08-03T22:57:41.384Z"
   },
   {
    "duration": 14,
    "start_time": "2024-08-03T22:57:41.389Z"
   },
   {
    "duration": 6,
    "start_time": "2024-08-03T22:57:41.405Z"
   },
   {
    "duration": 6,
    "start_time": "2024-08-03T22:57:41.446Z"
   },
   {
    "duration": 8,
    "start_time": "2024-08-03T22:57:41.453Z"
   },
   {
    "duration": 366,
    "start_time": "2024-08-03T22:57:41.463Z"
   },
   {
    "duration": 116,
    "start_time": "2024-08-03T22:57:41.831Z"
   },
   {
    "duration": 0,
    "start_time": "2024-08-03T22:57:41.949Z"
   },
   {
    "duration": 0,
    "start_time": "2024-08-03T22:57:41.950Z"
   },
   {
    "duration": 0,
    "start_time": "2024-08-03T22:57:41.952Z"
   },
   {
    "duration": 0,
    "start_time": "2024-08-03T22:57:41.952Z"
   },
   {
    "duration": 0,
    "start_time": "2024-08-03T22:57:41.953Z"
   },
   {
    "duration": 0,
    "start_time": "2024-08-03T22:57:41.954Z"
   },
   {
    "duration": 0,
    "start_time": "2024-08-03T22:57:41.956Z"
   },
   {
    "duration": 0,
    "start_time": "2024-08-03T22:57:41.957Z"
   },
   {
    "duration": 0,
    "start_time": "2024-08-03T22:57:41.958Z"
   },
   {
    "duration": 0,
    "start_time": "2024-08-03T22:57:41.959Z"
   },
   {
    "duration": 0,
    "start_time": "2024-08-03T22:57:41.960Z"
   },
   {
    "duration": 0,
    "start_time": "2024-08-03T22:57:41.961Z"
   },
   {
    "duration": 0,
    "start_time": "2024-08-03T22:57:41.962Z"
   },
   {
    "duration": 0,
    "start_time": "2024-08-03T22:57:41.963Z"
   },
   {
    "duration": 0,
    "start_time": "2024-08-03T22:57:41.964Z"
   },
   {
    "duration": 0,
    "start_time": "2024-08-03T22:57:41.965Z"
   },
   {
    "duration": 0,
    "start_time": "2024-08-03T22:57:41.966Z"
   },
   {
    "duration": 0,
    "start_time": "2024-08-03T22:57:41.968Z"
   },
   {
    "duration": 1,
    "start_time": "2024-08-03T22:57:41.968Z"
   },
   {
    "duration": 0,
    "start_time": "2024-08-03T22:57:41.970Z"
   },
   {
    "duration": 0,
    "start_time": "2024-08-03T22:57:41.971Z"
   },
   {
    "duration": 0,
    "start_time": "2024-08-03T22:57:41.972Z"
   },
   {
    "duration": 0,
    "start_time": "2024-08-03T22:57:41.973Z"
   },
   {
    "duration": 2458,
    "start_time": "2024-08-03T22:59:12.042Z"
   },
   {
    "duration": 1451,
    "start_time": "2024-08-03T22:59:14.504Z"
   },
   {
    "duration": 62,
    "start_time": "2024-08-03T22:59:15.957Z"
   },
   {
    "duration": 20,
    "start_time": "2024-08-03T22:59:16.022Z"
   },
   {
    "duration": 13,
    "start_time": "2024-08-03T22:59:16.044Z"
   },
   {
    "duration": 8,
    "start_time": "2024-08-03T22:59:16.058Z"
   },
   {
    "duration": 26,
    "start_time": "2024-08-03T22:59:16.068Z"
   },
   {
    "duration": 11,
    "start_time": "2024-08-03T22:59:16.096Z"
   },
   {
    "duration": 4,
    "start_time": "2024-08-03T22:59:16.108Z"
   },
   {
    "duration": 23,
    "start_time": "2024-08-03T22:59:16.114Z"
   },
   {
    "duration": 7,
    "start_time": "2024-08-03T22:59:16.138Z"
   },
   {
    "duration": 6,
    "start_time": "2024-08-03T22:59:16.147Z"
   },
   {
    "duration": 135,
    "start_time": "2024-08-03T22:59:16.155Z"
   },
   {
    "duration": 0,
    "start_time": "2024-08-03T22:59:16.292Z"
   },
   {
    "duration": 0,
    "start_time": "2024-08-03T22:59:16.293Z"
   },
   {
    "duration": 0,
    "start_time": "2024-08-03T22:59:16.294Z"
   },
   {
    "duration": 0,
    "start_time": "2024-08-03T22:59:16.295Z"
   },
   {
    "duration": 0,
    "start_time": "2024-08-03T22:59:16.296Z"
   },
   {
    "duration": 0,
    "start_time": "2024-08-03T22:59:16.297Z"
   },
   {
    "duration": 0,
    "start_time": "2024-08-03T22:59:16.298Z"
   },
   {
    "duration": 0,
    "start_time": "2024-08-03T22:59:16.299Z"
   },
   {
    "duration": 0,
    "start_time": "2024-08-03T22:59:16.300Z"
   },
   {
    "duration": 0,
    "start_time": "2024-08-03T22:59:16.301Z"
   },
   {
    "duration": 0,
    "start_time": "2024-08-03T22:59:16.302Z"
   },
   {
    "duration": 0,
    "start_time": "2024-08-03T22:59:16.303Z"
   },
   {
    "duration": 0,
    "start_time": "2024-08-03T22:59:16.304Z"
   },
   {
    "duration": 0,
    "start_time": "2024-08-03T22:59:16.305Z"
   },
   {
    "duration": 0,
    "start_time": "2024-08-03T22:59:16.306Z"
   },
   {
    "duration": 0,
    "start_time": "2024-08-03T22:59:16.307Z"
   },
   {
    "duration": 0,
    "start_time": "2024-08-03T22:59:16.308Z"
   },
   {
    "duration": 0,
    "start_time": "2024-08-03T22:59:16.309Z"
   },
   {
    "duration": 0,
    "start_time": "2024-08-03T22:59:16.310Z"
   },
   {
    "duration": 0,
    "start_time": "2024-08-03T22:59:16.311Z"
   },
   {
    "duration": 0,
    "start_time": "2024-08-03T22:59:16.345Z"
   },
   {
    "duration": 0,
    "start_time": "2024-08-03T22:59:16.346Z"
   },
   {
    "duration": 0,
    "start_time": "2024-08-03T22:59:16.348Z"
   },
   {
    "duration": 0,
    "start_time": "2024-08-03T22:59:16.349Z"
   },
   {
    "duration": 0,
    "start_time": "2024-08-03T22:59:16.350Z"
   },
   {
    "duration": 7,
    "start_time": "2024-08-03T22:59:45.389Z"
   },
   {
    "duration": 12,
    "start_time": "2024-08-03T23:00:18.144Z"
   },
   {
    "duration": 286,
    "start_time": "2024-08-03T23:00:24.943Z"
   },
   {
    "duration": 388,
    "start_time": "2024-08-03T23:00:28.382Z"
   },
   {
    "duration": 9,
    "start_time": "2024-08-03T23:00:39.946Z"
   },
   {
    "duration": 306,
    "start_time": "2024-08-03T23:00:42.323Z"
   },
   {
    "duration": 17,
    "start_time": "2024-08-03T23:00:48.809Z"
   },
   {
    "duration": 10,
    "start_time": "2024-08-03T23:02:53.943Z"
   },
   {
    "duration": 12,
    "start_time": "2024-08-03T23:02:58.256Z"
   },
   {
    "duration": 2491,
    "start_time": "2024-08-03T23:03:04.199Z"
   },
   {
    "duration": 1490,
    "start_time": "2024-08-03T23:03:06.693Z"
   },
   {
    "duration": 67,
    "start_time": "2024-08-03T23:03:08.185Z"
   },
   {
    "duration": 25,
    "start_time": "2024-08-03T23:03:08.254Z"
   },
   {
    "duration": 6,
    "start_time": "2024-08-03T23:03:08.280Z"
   },
   {
    "duration": 15,
    "start_time": "2024-08-03T23:03:08.287Z"
   },
   {
    "duration": 24,
    "start_time": "2024-08-03T23:03:08.304Z"
   },
   {
    "duration": 30,
    "start_time": "2024-08-03T23:03:08.330Z"
   },
   {
    "duration": 4,
    "start_time": "2024-08-03T23:03:08.362Z"
   },
   {
    "duration": 16,
    "start_time": "2024-08-03T23:03:08.370Z"
   },
   {
    "duration": 8,
    "start_time": "2024-08-03T23:03:08.388Z"
   },
   {
    "duration": 20,
    "start_time": "2024-08-03T23:03:08.399Z"
   },
   {
    "duration": 8,
    "start_time": "2024-08-03T23:03:08.421Z"
   },
   {
    "duration": 152,
    "start_time": "2024-08-03T23:03:08.430Z"
   },
   {
    "duration": 0,
    "start_time": "2024-08-03T23:03:08.585Z"
   },
   {
    "duration": 0,
    "start_time": "2024-08-03T23:03:08.586Z"
   },
   {
    "duration": 0,
    "start_time": "2024-08-03T23:03:08.587Z"
   },
   {
    "duration": 0,
    "start_time": "2024-08-03T23:03:08.589Z"
   },
   {
    "duration": 0,
    "start_time": "2024-08-03T23:03:08.590Z"
   },
   {
    "duration": 0,
    "start_time": "2024-08-03T23:03:08.590Z"
   },
   {
    "duration": 0,
    "start_time": "2024-08-03T23:03:08.591Z"
   },
   {
    "duration": 0,
    "start_time": "2024-08-03T23:03:08.592Z"
   },
   {
    "duration": 0,
    "start_time": "2024-08-03T23:03:08.593Z"
   },
   {
    "duration": 0,
    "start_time": "2024-08-03T23:03:08.594Z"
   },
   {
    "duration": 0,
    "start_time": "2024-08-03T23:03:08.594Z"
   },
   {
    "duration": 0,
    "start_time": "2024-08-03T23:03:08.595Z"
   },
   {
    "duration": 0,
    "start_time": "2024-08-03T23:03:08.597Z"
   },
   {
    "duration": 0,
    "start_time": "2024-08-03T23:03:08.598Z"
   },
   {
    "duration": 0,
    "start_time": "2024-08-03T23:03:08.600Z"
   },
   {
    "duration": 0,
    "start_time": "2024-08-03T23:03:08.601Z"
   },
   {
    "duration": 0,
    "start_time": "2024-08-03T23:03:08.603Z"
   },
   {
    "duration": 0,
    "start_time": "2024-08-03T23:03:08.604Z"
   },
   {
    "duration": 0,
    "start_time": "2024-08-03T23:03:08.606Z"
   },
   {
    "duration": 0,
    "start_time": "2024-08-03T23:03:08.607Z"
   },
   {
    "duration": 0,
    "start_time": "2024-08-03T23:03:08.609Z"
   },
   {
    "duration": 0,
    "start_time": "2024-08-03T23:03:08.648Z"
   },
   {
    "duration": 0,
    "start_time": "2024-08-03T23:03:08.649Z"
   },
   {
    "duration": 0,
    "start_time": "2024-08-03T23:03:08.651Z"
   },
   {
    "duration": 0,
    "start_time": "2024-08-03T23:03:08.653Z"
   },
   {
    "duration": 11,
    "start_time": "2024-08-03T23:03:22.224Z"
   },
   {
    "duration": 281,
    "start_time": "2024-08-03T23:03:25.436Z"
   },
   {
    "duration": 384,
    "start_time": "2024-08-03T23:03:27.931Z"
   },
   {
    "duration": 2510,
    "start_time": "2024-08-03T23:03:33.220Z"
   },
   {
    "duration": 2245,
    "start_time": "2024-08-03T23:03:35.733Z"
   },
   {
    "duration": 52,
    "start_time": "2024-08-03T23:03:37.980Z"
   },
   {
    "duration": 19,
    "start_time": "2024-08-03T23:03:38.034Z"
   },
   {
    "duration": 5,
    "start_time": "2024-08-03T23:03:38.055Z"
   },
   {
    "duration": 29,
    "start_time": "2024-08-03T23:03:38.062Z"
   },
   {
    "duration": 12,
    "start_time": "2024-08-03T23:03:38.093Z"
   },
   {
    "duration": 15,
    "start_time": "2024-08-03T23:03:38.107Z"
   },
   {
    "duration": 3,
    "start_time": "2024-08-03T23:03:38.124Z"
   },
   {
    "duration": 22,
    "start_time": "2024-08-03T23:03:38.131Z"
   },
   {
    "duration": 7,
    "start_time": "2024-08-03T23:03:38.155Z"
   },
   {
    "duration": 12,
    "start_time": "2024-08-03T23:03:38.163Z"
   },
   {
    "duration": 10,
    "start_time": "2024-08-03T23:03:38.176Z"
   },
   {
    "duration": 12,
    "start_time": "2024-08-03T23:03:38.188Z"
   },
   {
    "duration": 415,
    "start_time": "2024-08-03T23:03:38.202Z"
   },
   {
    "duration": 328,
    "start_time": "2024-08-03T23:03:38.619Z"
   },
   {
    "duration": 170,
    "start_time": "2024-08-03T23:03:38.948Z"
   },
   {
    "duration": 172,
    "start_time": "2024-08-03T23:03:39.120Z"
   },
   {
    "duration": 329,
    "start_time": "2024-08-03T23:03:39.294Z"
   },
   {
    "duration": 167,
    "start_time": "2024-08-03T23:03:39.624Z"
   },
   {
    "duration": 54,
    "start_time": "2024-08-03T23:03:39.793Z"
   },
   {
    "duration": 4523,
    "start_time": "2024-08-03T23:03:39.849Z"
   },
   {
    "duration": 1343,
    "start_time": "2024-08-03T23:03:44.373Z"
   },
   {
    "duration": 3950,
    "start_time": "2024-08-03T23:03:45.718Z"
   },
   {
    "duration": 4,
    "start_time": "2024-08-03T23:03:49.669Z"
   },
   {
    "duration": 32,
    "start_time": "2024-08-03T23:03:49.675Z"
   },
   {
    "duration": 22,
    "start_time": "2024-08-03T23:03:49.709Z"
   },
   {
    "duration": 6,
    "start_time": "2024-08-03T23:03:49.735Z"
   },
   {
    "duration": 3,
    "start_time": "2024-08-03T23:03:49.743Z"
   },
   {
    "duration": 8,
    "start_time": "2024-08-03T23:03:49.747Z"
   },
   {
    "duration": 890,
    "start_time": "2024-08-03T23:03:49.757Z"
   },
   {
    "duration": 7,
    "start_time": "2024-08-03T23:03:50.649Z"
   },
   {
    "duration": 89,
    "start_time": "2024-08-03T23:03:50.658Z"
   },
   {
    "duration": 0,
    "start_time": "2024-08-03T23:03:50.749Z"
   },
   {
    "duration": 0,
    "start_time": "2024-08-03T23:03:50.750Z"
   },
   {
    "duration": 0,
    "start_time": "2024-08-03T23:03:50.751Z"
   },
   {
    "duration": 0,
    "start_time": "2024-08-03T23:03:50.753Z"
   },
   {
    "duration": 0,
    "start_time": "2024-08-03T23:03:50.754Z"
   },
   {
    "duration": 0,
    "start_time": "2024-08-03T23:03:50.755Z"
   },
   {
    "duration": 3,
    "start_time": "2024-08-03T23:06:40.974Z"
   },
   {
    "duration": 1875,
    "start_time": "2024-08-03T23:06:42.881Z"
   },
   {
    "duration": 10,
    "start_time": "2024-08-03T23:06:47.643Z"
   },
   {
    "duration": 2410,
    "start_time": "2024-08-03T23:09:21.876Z"
   },
   {
    "duration": 1431,
    "start_time": "2024-08-03T23:09:24.288Z"
   },
   {
    "duration": 54,
    "start_time": "2024-08-03T23:09:25.721Z"
   },
   {
    "duration": 21,
    "start_time": "2024-08-03T23:09:25.777Z"
   },
   {
    "duration": 7,
    "start_time": "2024-08-03T23:09:25.801Z"
   },
   {
    "duration": 23,
    "start_time": "2024-08-03T23:09:25.810Z"
   },
   {
    "duration": 37,
    "start_time": "2024-08-03T23:09:25.834Z"
   },
   {
    "duration": 25,
    "start_time": "2024-08-03T23:09:25.872Z"
   },
   {
    "duration": 30,
    "start_time": "2024-08-03T23:09:25.898Z"
   },
   {
    "duration": 34,
    "start_time": "2024-08-03T23:09:25.930Z"
   },
   {
    "duration": 21,
    "start_time": "2024-08-03T23:09:25.966Z"
   },
   {
    "duration": 29,
    "start_time": "2024-08-03T23:09:25.988Z"
   },
   {
    "duration": 26,
    "start_time": "2024-08-03T23:09:26.018Z"
   },
   {
    "duration": 36,
    "start_time": "2024-08-03T23:09:26.048Z"
   },
   {
    "duration": 367,
    "start_time": "2024-08-03T23:09:26.086Z"
   },
   {
    "duration": 318,
    "start_time": "2024-08-03T23:09:26.454Z"
   },
   {
    "duration": 172,
    "start_time": "2024-08-03T23:09:26.774Z"
   },
   {
    "duration": 182,
    "start_time": "2024-08-03T23:09:26.948Z"
   },
   {
    "duration": 324,
    "start_time": "2024-08-03T23:09:27.132Z"
   },
   {
    "duration": 176,
    "start_time": "2024-08-03T23:09:27.458Z"
   },
   {
    "duration": 46,
    "start_time": "2024-08-03T23:09:27.636Z"
   },
   {
    "duration": 4427,
    "start_time": "2024-08-03T23:09:27.683Z"
   },
   {
    "duration": 1354,
    "start_time": "2024-08-03T23:09:32.111Z"
   },
   {
    "duration": 3843,
    "start_time": "2024-08-03T23:09:33.467Z"
   },
   {
    "duration": 4,
    "start_time": "2024-08-03T23:09:37.312Z"
   },
   {
    "duration": 16,
    "start_time": "2024-08-03T23:09:37.317Z"
   },
   {
    "duration": 20,
    "start_time": "2024-08-03T23:09:37.335Z"
   },
   {
    "duration": 9,
    "start_time": "2024-08-03T23:09:37.356Z"
   },
   {
    "duration": 9,
    "start_time": "2024-08-03T23:09:37.367Z"
   },
   {
    "duration": 5,
    "start_time": "2024-08-03T23:09:37.377Z"
   },
   {
    "duration": 2165,
    "start_time": "2024-08-03T23:09:37.383Z"
   },
   {
    "duration": 10,
    "start_time": "2024-08-03T23:09:39.550Z"
   },
   {
    "duration": 59,
    "start_time": "2024-08-03T23:09:39.646Z"
   },
   {
    "duration": 0,
    "start_time": "2024-08-03T23:09:39.707Z"
   },
   {
    "duration": 0,
    "start_time": "2024-08-03T23:09:39.708Z"
   },
   {
    "duration": 0,
    "start_time": "2024-08-03T23:09:39.709Z"
   },
   {
    "duration": 0,
    "start_time": "2024-08-03T23:09:39.710Z"
   },
   {
    "duration": 0,
    "start_time": "2024-08-03T23:09:39.712Z"
   },
   {
    "duration": 0,
    "start_time": "2024-08-03T23:09:39.713Z"
   },
   {
    "duration": 3237,
    "start_time": "2024-08-03T23:10:23.698Z"
   },
   {
    "duration": 1491,
    "start_time": "2024-08-03T23:10:26.937Z"
   },
   {
    "duration": 53,
    "start_time": "2024-08-03T23:10:28.430Z"
   },
   {
    "duration": 19,
    "start_time": "2024-08-03T23:10:28.485Z"
   },
   {
    "duration": 72,
    "start_time": "2024-08-03T23:10:28.506Z"
   },
   {
    "duration": 5,
    "start_time": "2024-08-03T23:10:28.580Z"
   },
   {
    "duration": 6,
    "start_time": "2024-08-03T23:10:28.587Z"
   },
   {
    "duration": 12,
    "start_time": "2024-08-03T23:10:28.598Z"
   },
   {
    "duration": 6,
    "start_time": "2024-08-03T23:10:28.612Z"
   },
   {
    "duration": 37,
    "start_time": "2024-08-03T23:10:28.621Z"
   },
   {
    "duration": 10,
    "start_time": "2024-08-03T23:10:28.660Z"
   },
   {
    "duration": 17,
    "start_time": "2024-08-03T23:10:28.672Z"
   },
   {
    "duration": 26,
    "start_time": "2024-08-03T23:10:28.691Z"
   },
   {
    "duration": 31,
    "start_time": "2024-08-03T23:10:28.719Z"
   },
   {
    "duration": 333,
    "start_time": "2024-08-03T23:10:28.752Z"
   },
   {
    "duration": 318,
    "start_time": "2024-08-03T23:10:29.086Z"
   },
   {
    "duration": 171,
    "start_time": "2024-08-03T23:10:29.405Z"
   },
   {
    "duration": 204,
    "start_time": "2024-08-03T23:10:29.577Z"
   },
   {
    "duration": 303,
    "start_time": "2024-08-03T23:10:29.782Z"
   },
   {
    "duration": 172,
    "start_time": "2024-08-03T23:10:30.086Z"
   },
   {
    "duration": 64,
    "start_time": "2024-08-03T23:10:30.260Z"
   },
   {
    "duration": 5662,
    "start_time": "2024-08-03T23:10:30.325Z"
   },
   {
    "duration": 1334,
    "start_time": "2024-08-03T23:10:35.989Z"
   },
   {
    "duration": 3859,
    "start_time": "2024-08-03T23:10:37.325Z"
   },
   {
    "duration": 4,
    "start_time": "2024-08-03T23:10:41.186Z"
   },
   {
    "duration": 9,
    "start_time": "2024-08-03T23:10:41.192Z"
   },
   {
    "duration": 4,
    "start_time": "2024-08-03T23:10:41.203Z"
   },
   {
    "duration": 6,
    "start_time": "2024-08-03T23:10:41.210Z"
   },
   {
    "duration": 30,
    "start_time": "2024-08-03T23:10:41.217Z"
   },
   {
    "duration": 3,
    "start_time": "2024-08-03T23:10:41.249Z"
   },
   {
    "duration": 2002,
    "start_time": "2024-08-03T23:10:41.253Z"
   },
   {
    "duration": 95,
    "start_time": "2024-08-03T23:10:43.257Z"
   },
   {
    "duration": 58,
    "start_time": "2024-08-03T23:10:43.353Z"
   },
   {
    "duration": 0,
    "start_time": "2024-08-03T23:10:43.412Z"
   },
   {
    "duration": 0,
    "start_time": "2024-08-03T23:10:43.414Z"
   },
   {
    "duration": 0,
    "start_time": "2024-08-03T23:10:43.416Z"
   },
   {
    "duration": 0,
    "start_time": "2024-08-03T23:10:43.417Z"
   },
   {
    "duration": 0,
    "start_time": "2024-08-03T23:10:43.419Z"
   },
   {
    "duration": 0,
    "start_time": "2024-08-03T23:10:43.420Z"
   },
   {
    "duration": 3283,
    "start_time": "2024-08-03T23:12:16.396Z"
   },
   {
    "duration": 1483,
    "start_time": "2024-08-03T23:12:19.681Z"
   },
   {
    "duration": 53,
    "start_time": "2024-08-03T23:12:21.166Z"
   },
   {
    "duration": 18,
    "start_time": "2024-08-03T23:12:21.221Z"
   },
   {
    "duration": 5,
    "start_time": "2024-08-03T23:12:21.241Z"
   },
   {
    "duration": 14,
    "start_time": "2024-08-03T23:12:21.247Z"
   },
   {
    "duration": 21,
    "start_time": "2024-08-03T23:12:21.263Z"
   },
   {
    "duration": 24,
    "start_time": "2024-08-03T23:12:21.285Z"
   },
   {
    "duration": 24,
    "start_time": "2024-08-03T23:12:21.311Z"
   },
   {
    "duration": 40,
    "start_time": "2024-08-03T23:12:21.337Z"
   },
   {
    "duration": 37,
    "start_time": "2024-08-03T23:12:21.378Z"
   },
   {
    "duration": 32,
    "start_time": "2024-08-03T23:12:21.417Z"
   },
   {
    "duration": 30,
    "start_time": "2024-08-03T23:12:21.450Z"
   },
   {
    "duration": 12,
    "start_time": "2024-08-03T23:12:21.482Z"
   },
   {
    "duration": 394,
    "start_time": "2024-08-03T23:12:21.495Z"
   },
   {
    "duration": 304,
    "start_time": "2024-08-03T23:12:21.890Z"
   },
   {
    "duration": 168,
    "start_time": "2024-08-03T23:12:22.195Z"
   },
   {
    "duration": 171,
    "start_time": "2024-08-03T23:12:22.365Z"
   },
   {
    "duration": 339,
    "start_time": "2024-08-03T23:12:22.538Z"
   },
   {
    "duration": 166,
    "start_time": "2024-08-03T23:12:22.879Z"
   },
   {
    "duration": 131,
    "start_time": "2024-08-03T23:12:23.047Z"
   },
   {
    "duration": 4424,
    "start_time": "2024-08-03T23:12:23.179Z"
   },
   {
    "duration": 2186,
    "start_time": "2024-08-03T23:12:27.604Z"
   },
   {
    "duration": 3970,
    "start_time": "2024-08-03T23:12:29.792Z"
   },
   {
    "duration": 4,
    "start_time": "2024-08-03T23:12:33.764Z"
   },
   {
    "duration": 56,
    "start_time": "2024-08-03T23:12:33.770Z"
   },
   {
    "duration": 197,
    "start_time": "2024-08-03T23:12:33.828Z"
   },
   {
    "duration": 17,
    "start_time": "2024-08-03T23:12:34.027Z"
   },
   {
    "duration": 4,
    "start_time": "2024-08-03T23:12:34.046Z"
   },
   {
    "duration": 9,
    "start_time": "2024-08-03T23:12:34.052Z"
   },
   {
    "duration": 2091,
    "start_time": "2024-08-03T23:12:34.062Z"
   },
   {
    "duration": 89,
    "start_time": "2024-08-03T23:12:36.158Z"
   },
   {
    "duration": 54,
    "start_time": "2024-08-03T23:12:36.249Z"
   },
   {
    "duration": 0,
    "start_time": "2024-08-03T23:12:36.305Z"
   },
   {
    "duration": 0,
    "start_time": "2024-08-03T23:12:36.306Z"
   },
   {
    "duration": 0,
    "start_time": "2024-08-03T23:12:36.308Z"
   },
   {
    "duration": 0,
    "start_time": "2024-08-03T23:12:36.309Z"
   },
   {
    "duration": 0,
    "start_time": "2024-08-03T23:12:36.310Z"
   },
   {
    "duration": 0,
    "start_time": "2024-08-03T23:12:36.311Z"
   },
   {
    "duration": 2473,
    "start_time": "2024-08-03T23:12:54.032Z"
   },
   {
    "duration": 1617,
    "start_time": "2024-08-03T23:12:56.508Z"
   },
   {
    "duration": 58,
    "start_time": "2024-08-03T23:12:58.127Z"
   },
   {
    "duration": 21,
    "start_time": "2024-08-03T23:12:58.188Z"
   },
   {
    "duration": 5,
    "start_time": "2024-08-03T23:12:58.210Z"
   },
   {
    "duration": 12,
    "start_time": "2024-08-03T23:12:58.217Z"
   },
   {
    "duration": 7,
    "start_time": "2024-08-03T23:12:58.230Z"
   },
   {
    "duration": 12,
    "start_time": "2024-08-03T23:12:58.246Z"
   },
   {
    "duration": 3,
    "start_time": "2024-08-03T23:12:58.260Z"
   },
   {
    "duration": 16,
    "start_time": "2024-08-03T23:12:58.266Z"
   },
   {
    "duration": 394,
    "start_time": "2024-08-03T23:12:58.283Z"
   },
   {
    "duration": 312,
    "start_time": "2024-08-03T23:12:58.679Z"
   },
   {
    "duration": 175,
    "start_time": "2024-08-03T23:12:58.992Z"
   },
   {
    "duration": 182,
    "start_time": "2024-08-03T23:12:59.168Z"
   },
   {
    "duration": 298,
    "start_time": "2024-08-03T23:12:59.351Z"
   },
   {
    "duration": 181,
    "start_time": "2024-08-03T23:12:59.651Z"
   },
   {
    "duration": 65,
    "start_time": "2024-08-03T23:12:59.834Z"
   },
   {
    "duration": 5236,
    "start_time": "2024-08-03T23:12:59.900Z"
   },
   {
    "duration": 1335,
    "start_time": "2024-08-03T23:13:05.138Z"
   },
   {
    "duration": 3166,
    "start_time": "2024-08-03T23:13:06.475Z"
   },
   {
    "duration": 3,
    "start_time": "2024-08-03T23:13:09.643Z"
   },
   {
    "duration": 33,
    "start_time": "2024-08-03T23:13:09.648Z"
   },
   {
    "duration": 5,
    "start_time": "2024-08-03T23:13:09.683Z"
   },
   {
    "duration": 7,
    "start_time": "2024-08-03T23:13:09.690Z"
   },
   {
    "duration": 7,
    "start_time": "2024-08-03T23:13:09.699Z"
   },
   {
    "duration": 14,
    "start_time": "2024-08-03T23:13:09.707Z"
   },
   {
    "duration": 2430,
    "start_time": "2024-08-03T23:13:09.723Z"
   },
   {
    "duration": 94,
    "start_time": "2024-08-03T23:13:12.157Z"
   },
   {
    "duration": 69,
    "start_time": "2024-08-03T23:13:12.253Z"
   },
   {
    "duration": 0,
    "start_time": "2024-08-03T23:13:12.324Z"
   },
   {
    "duration": 0,
    "start_time": "2024-08-03T23:13:12.325Z"
   },
   {
    "duration": 0,
    "start_time": "2024-08-03T23:13:12.326Z"
   },
   {
    "duration": 0,
    "start_time": "2024-08-03T23:13:12.327Z"
   },
   {
    "duration": 0,
    "start_time": "2024-08-03T23:13:12.346Z"
   },
   {
    "duration": 0,
    "start_time": "2024-08-03T23:13:12.347Z"
   },
   {
    "duration": 13,
    "start_time": "2024-08-03T23:15:12.365Z"
   },
   {
    "duration": 2,
    "start_time": "2024-08-03T23:15:35.396Z"
   },
   {
    "duration": 77,
    "start_time": "2024-08-03T23:15:51.728Z"
   },
   {
    "duration": 11,
    "start_time": "2024-08-03T23:16:07.937Z"
   },
   {
    "duration": 2535,
    "start_time": "2024-08-03T23:16:59.604Z"
   },
   {
    "duration": 1484,
    "start_time": "2024-08-03T23:17:02.141Z"
   },
   {
    "duration": 53,
    "start_time": "2024-08-03T23:17:03.627Z"
   },
   {
    "duration": 18,
    "start_time": "2024-08-03T23:17:03.681Z"
   },
   {
    "duration": 5,
    "start_time": "2024-08-03T23:17:03.701Z"
   },
   {
    "duration": 22,
    "start_time": "2024-08-03T23:17:03.707Z"
   },
   {
    "duration": 22,
    "start_time": "2024-08-03T23:17:03.731Z"
   },
   {
    "duration": 55,
    "start_time": "2024-08-03T23:17:03.754Z"
   },
   {
    "duration": 14,
    "start_time": "2024-08-03T23:17:03.811Z"
   },
   {
    "duration": 19,
    "start_time": "2024-08-03T23:17:03.827Z"
   },
   {
    "duration": 420,
    "start_time": "2024-08-03T23:17:03.848Z"
   },
   {
    "duration": 343,
    "start_time": "2024-08-03T23:17:04.270Z"
   },
   {
    "duration": 184,
    "start_time": "2024-08-03T23:17:04.615Z"
   },
   {
    "duration": 175,
    "start_time": "2024-08-03T23:17:04.802Z"
   },
   {
    "duration": 304,
    "start_time": "2024-08-03T23:17:04.978Z"
   },
   {
    "duration": 171,
    "start_time": "2024-08-03T23:17:05.284Z"
   },
   {
    "duration": 42,
    "start_time": "2024-08-03T23:17:05.456Z"
   },
   {
    "duration": 5097,
    "start_time": "2024-08-03T23:17:05.500Z"
   },
   {
    "duration": 1347,
    "start_time": "2024-08-03T23:17:10.599Z"
   },
   {
    "duration": 3134,
    "start_time": "2024-08-03T23:17:11.948Z"
   },
   {
    "duration": 4,
    "start_time": "2024-08-03T23:17:15.083Z"
   },
   {
    "duration": 311,
    "start_time": "2024-08-03T23:17:15.088Z"
   },
   {
    "duration": 0,
    "start_time": "2024-08-03T23:17:15.400Z"
   },
   {
    "duration": 0,
    "start_time": "2024-08-03T23:17:15.402Z"
   },
   {
    "duration": 0,
    "start_time": "2024-08-03T23:17:15.403Z"
   },
   {
    "duration": 0,
    "start_time": "2024-08-03T23:17:15.404Z"
   },
   {
    "duration": 0,
    "start_time": "2024-08-03T23:17:15.406Z"
   },
   {
    "duration": 0,
    "start_time": "2024-08-03T23:17:15.407Z"
   },
   {
    "duration": 0,
    "start_time": "2024-08-03T23:17:15.408Z"
   },
   {
    "duration": 0,
    "start_time": "2024-08-03T23:17:15.409Z"
   },
   {
    "duration": 0,
    "start_time": "2024-08-03T23:17:15.410Z"
   },
   {
    "duration": 0,
    "start_time": "2024-08-03T23:17:15.411Z"
   },
   {
    "duration": 0,
    "start_time": "2024-08-03T23:17:15.412Z"
   },
   {
    "duration": 0,
    "start_time": "2024-08-03T23:17:15.413Z"
   },
   {
    "duration": 0,
    "start_time": "2024-08-03T23:17:15.414Z"
   },
   {
    "duration": 0,
    "start_time": "2024-08-03T23:17:15.446Z"
   },
   {
    "duration": 0,
    "start_time": "2024-08-03T23:17:15.447Z"
   },
   {
    "duration": 0,
    "start_time": "2024-08-03T23:17:15.448Z"
   },
   {
    "duration": 2,
    "start_time": "2024-08-03T23:17:37.799Z"
   },
   {
    "duration": 14,
    "start_time": "2024-08-03T23:17:39.159Z"
   },
   {
    "duration": 6,
    "start_time": "2024-08-03T23:18:30.358Z"
   },
   {
    "duration": 3074,
    "start_time": "2024-08-03T23:20:40.317Z"
   },
   {
    "duration": 1476,
    "start_time": "2024-08-03T23:20:43.394Z"
   },
   {
    "duration": 51,
    "start_time": "2024-08-03T23:20:44.875Z"
   },
   {
    "duration": 18,
    "start_time": "2024-08-03T23:20:44.927Z"
   },
   {
    "duration": 8,
    "start_time": "2024-08-03T23:20:44.946Z"
   },
   {
    "duration": 17,
    "start_time": "2024-08-03T23:20:44.955Z"
   },
   {
    "duration": 13,
    "start_time": "2024-08-03T23:20:44.974Z"
   },
   {
    "duration": 21,
    "start_time": "2024-08-03T23:20:44.988Z"
   },
   {
    "duration": 56,
    "start_time": "2024-08-03T23:20:45.012Z"
   },
   {
    "duration": 52,
    "start_time": "2024-08-03T23:20:45.069Z"
   },
   {
    "duration": 22,
    "start_time": "2024-08-03T23:20:45.122Z"
   },
   {
    "duration": 41,
    "start_time": "2024-08-03T23:20:45.146Z"
   },
   {
    "duration": 144,
    "start_time": "2024-08-03T23:20:45.189Z"
   },
   {
    "duration": 0,
    "start_time": "2024-08-03T23:20:45.335Z"
   },
   {
    "duration": 0,
    "start_time": "2024-08-03T23:20:45.336Z"
   },
   {
    "duration": 0,
    "start_time": "2024-08-03T23:20:45.337Z"
   },
   {
    "duration": 0,
    "start_time": "2024-08-03T23:20:45.338Z"
   },
   {
    "duration": 0,
    "start_time": "2024-08-03T23:20:45.339Z"
   },
   {
    "duration": 0,
    "start_time": "2024-08-03T23:20:45.340Z"
   },
   {
    "duration": 0,
    "start_time": "2024-08-03T23:20:45.341Z"
   },
   {
    "duration": 0,
    "start_time": "2024-08-03T23:20:45.345Z"
   },
   {
    "duration": 0,
    "start_time": "2024-08-03T23:20:45.346Z"
   },
   {
    "duration": 0,
    "start_time": "2024-08-03T23:20:45.347Z"
   },
   {
    "duration": 0,
    "start_time": "2024-08-03T23:20:45.349Z"
   },
   {
    "duration": 0,
    "start_time": "2024-08-03T23:20:45.350Z"
   },
   {
    "duration": 0,
    "start_time": "2024-08-03T23:20:45.351Z"
   },
   {
    "duration": 0,
    "start_time": "2024-08-03T23:20:45.352Z"
   },
   {
    "duration": 0,
    "start_time": "2024-08-03T23:20:45.353Z"
   },
   {
    "duration": 0,
    "start_time": "2024-08-03T23:20:45.354Z"
   },
   {
    "duration": 0,
    "start_time": "2024-08-03T23:20:45.355Z"
   },
   {
    "duration": 0,
    "start_time": "2024-08-03T23:20:45.356Z"
   },
   {
    "duration": 0,
    "start_time": "2024-08-03T23:20:45.357Z"
   },
   {
    "duration": 0,
    "start_time": "2024-08-03T23:20:45.358Z"
   },
   {
    "duration": 0,
    "start_time": "2024-08-03T23:20:45.360Z"
   },
   {
    "duration": 0,
    "start_time": "2024-08-03T23:20:45.361Z"
   },
   {
    "duration": 0,
    "start_time": "2024-08-03T23:20:45.362Z"
   },
   {
    "duration": 0,
    "start_time": "2024-08-03T23:20:45.363Z"
   },
   {
    "duration": 0,
    "start_time": "2024-08-03T23:20:45.364Z"
   },
   {
    "duration": 0,
    "start_time": "2024-08-03T23:20:45.365Z"
   },
   {
    "duration": 8,
    "start_time": "2024-08-03T23:21:12.713Z"
   },
   {
    "duration": 7,
    "start_time": "2024-08-03T23:21:13.331Z"
   },
   {
    "duration": 3081,
    "start_time": "2024-08-03T23:21:21.384Z"
   },
   {
    "duration": 2102,
    "start_time": "2024-08-03T23:21:24.467Z"
   },
   {
    "duration": 64,
    "start_time": "2024-08-03T23:21:26.571Z"
   },
   {
    "duration": 21,
    "start_time": "2024-08-03T23:21:26.636Z"
   },
   {
    "duration": 5,
    "start_time": "2024-08-03T23:21:26.659Z"
   },
   {
    "duration": 14,
    "start_time": "2024-08-03T23:21:26.666Z"
   },
   {
    "duration": 22,
    "start_time": "2024-08-03T23:21:26.682Z"
   },
   {
    "duration": 18,
    "start_time": "2024-08-03T23:21:26.705Z"
   },
   {
    "duration": 4,
    "start_time": "2024-08-03T23:21:26.725Z"
   },
   {
    "duration": 20,
    "start_time": "2024-08-03T23:21:26.730Z"
   },
   {
    "duration": 25,
    "start_time": "2024-08-03T23:21:26.752Z"
   },
   {
    "duration": 16,
    "start_time": "2024-08-03T23:21:26.779Z"
   },
   {
    "duration": 149,
    "start_time": "2024-08-03T23:21:26.797Z"
   },
   {
    "duration": 0,
    "start_time": "2024-08-03T23:21:26.948Z"
   },
   {
    "duration": 0,
    "start_time": "2024-08-03T23:21:26.950Z"
   },
   {
    "duration": 0,
    "start_time": "2024-08-03T23:21:26.951Z"
   },
   {
    "duration": 0,
    "start_time": "2024-08-03T23:21:26.952Z"
   },
   {
    "duration": 0,
    "start_time": "2024-08-03T23:21:26.953Z"
   },
   {
    "duration": 0,
    "start_time": "2024-08-03T23:21:26.954Z"
   },
   {
    "duration": 0,
    "start_time": "2024-08-03T23:21:26.955Z"
   },
   {
    "duration": 0,
    "start_time": "2024-08-03T23:21:26.956Z"
   },
   {
    "duration": 0,
    "start_time": "2024-08-03T23:21:26.957Z"
   },
   {
    "duration": 0,
    "start_time": "2024-08-03T23:21:26.958Z"
   },
   {
    "duration": 0,
    "start_time": "2024-08-03T23:21:26.959Z"
   },
   {
    "duration": 0,
    "start_time": "2024-08-03T23:21:26.960Z"
   },
   {
    "duration": 0,
    "start_time": "2024-08-03T23:21:26.960Z"
   },
   {
    "duration": 0,
    "start_time": "2024-08-03T23:21:26.961Z"
   },
   {
    "duration": 0,
    "start_time": "2024-08-03T23:21:26.962Z"
   },
   {
    "duration": 0,
    "start_time": "2024-08-03T23:21:26.963Z"
   },
   {
    "duration": 0,
    "start_time": "2024-08-03T23:21:26.964Z"
   },
   {
    "duration": 0,
    "start_time": "2024-08-03T23:21:26.965Z"
   },
   {
    "duration": 0,
    "start_time": "2024-08-03T23:21:26.966Z"
   },
   {
    "duration": 0,
    "start_time": "2024-08-03T23:21:26.967Z"
   },
   {
    "duration": 0,
    "start_time": "2024-08-03T23:21:26.968Z"
   },
   {
    "duration": 0,
    "start_time": "2024-08-03T23:21:26.969Z"
   },
   {
    "duration": 0,
    "start_time": "2024-08-03T23:21:26.970Z"
   },
   {
    "duration": 0,
    "start_time": "2024-08-03T23:21:26.971Z"
   },
   {
    "duration": 0,
    "start_time": "2024-08-03T23:21:26.972Z"
   },
   {
    "duration": 0,
    "start_time": "2024-08-03T23:21:26.973Z"
   },
   {
    "duration": 2467,
    "start_time": "2024-08-03T23:21:34.191Z"
   },
   {
    "duration": 1498,
    "start_time": "2024-08-03T23:21:36.660Z"
   },
   {
    "duration": 53,
    "start_time": "2024-08-03T23:21:38.160Z"
   },
   {
    "duration": 18,
    "start_time": "2024-08-03T23:21:38.215Z"
   },
   {
    "duration": 6,
    "start_time": "2024-08-03T23:21:38.234Z"
   },
   {
    "duration": 5,
    "start_time": "2024-08-03T23:21:38.243Z"
   },
   {
    "duration": 13,
    "start_time": "2024-08-03T23:21:38.250Z"
   },
   {
    "duration": 9,
    "start_time": "2024-08-03T23:21:38.266Z"
   },
   {
    "duration": 3,
    "start_time": "2024-08-03T23:21:38.277Z"
   },
   {
    "duration": 19,
    "start_time": "2024-08-03T23:21:38.283Z"
   },
   {
    "duration": 10,
    "start_time": "2024-08-03T23:21:38.304Z"
   },
   {
    "duration": 31,
    "start_time": "2024-08-03T23:21:38.316Z"
   },
   {
    "duration": 435,
    "start_time": "2024-08-03T23:21:38.349Z"
   },
   {
    "duration": 306,
    "start_time": "2024-08-03T23:21:38.787Z"
   },
   {
    "duration": 166,
    "start_time": "2024-08-03T23:21:39.095Z"
   },
   {
    "duration": 171,
    "start_time": "2024-08-03T23:21:39.262Z"
   },
   {
    "duration": 327,
    "start_time": "2024-08-03T23:21:39.435Z"
   },
   {
    "duration": 202,
    "start_time": "2024-08-03T23:21:39.765Z"
   },
   {
    "duration": 43,
    "start_time": "2024-08-03T23:21:39.969Z"
   },
   {
    "duration": 4523,
    "start_time": "2024-08-03T23:21:40.014Z"
   },
   {
    "duration": 1352,
    "start_time": "2024-08-03T23:21:44.539Z"
   },
   {
    "duration": 3853,
    "start_time": "2024-08-03T23:21:45.893Z"
   },
   {
    "duration": 4,
    "start_time": "2024-08-03T23:21:49.748Z"
   },
   {
    "duration": 10,
    "start_time": "2024-08-03T23:21:49.753Z"
   },
   {
    "duration": 10,
    "start_time": "2024-08-03T23:21:49.764Z"
   },
   {
    "duration": 6,
    "start_time": "2024-08-03T23:21:49.776Z"
   },
   {
    "duration": 7,
    "start_time": "2024-08-03T23:21:49.783Z"
   },
   {
    "duration": 10,
    "start_time": "2024-08-03T23:21:49.793Z"
   },
   {
    "duration": 15,
    "start_time": "2024-08-03T23:21:49.804Z"
   },
   {
    "duration": 1939,
    "start_time": "2024-08-03T23:21:49.820Z"
   },
   {
    "duration": 9,
    "start_time": "2024-08-03T23:21:51.847Z"
   },
   {
    "duration": 65,
    "start_time": "2024-08-03T23:21:51.858Z"
   },
   {
    "duration": 0,
    "start_time": "2024-08-03T23:21:51.925Z"
   },
   {
    "duration": 0,
    "start_time": "2024-08-03T23:21:51.928Z"
   },
   {
    "duration": 0,
    "start_time": "2024-08-03T23:21:51.929Z"
   },
   {
    "duration": 0,
    "start_time": "2024-08-03T23:21:51.931Z"
   },
   {
    "duration": 0,
    "start_time": "2024-08-03T23:21:51.932Z"
   },
   {
    "duration": 0,
    "start_time": "2024-08-03T23:21:51.934Z"
   },
   {
    "duration": 2522,
    "start_time": "2024-08-03T23:22:19.741Z"
   },
   {
    "duration": 1458,
    "start_time": "2024-08-03T23:22:22.265Z"
   },
   {
    "duration": 52,
    "start_time": "2024-08-03T23:22:23.725Z"
   },
   {
    "duration": 18,
    "start_time": "2024-08-03T23:22:23.778Z"
   },
   {
    "duration": 7,
    "start_time": "2024-08-03T23:22:23.798Z"
   },
   {
    "duration": 6,
    "start_time": "2024-08-03T23:22:23.806Z"
   },
   {
    "duration": 4,
    "start_time": "2024-08-03T23:22:23.814Z"
   },
   {
    "duration": 32,
    "start_time": "2024-08-03T23:22:23.819Z"
   },
   {
    "duration": 15,
    "start_time": "2024-08-03T23:22:23.852Z"
   },
   {
    "duration": 32,
    "start_time": "2024-08-03T23:22:23.868Z"
   },
   {
    "duration": 10,
    "start_time": "2024-08-03T23:22:23.902Z"
   },
   {
    "duration": 16,
    "start_time": "2024-08-03T23:22:23.913Z"
   },
   {
    "duration": 415,
    "start_time": "2024-08-03T23:22:23.930Z"
   },
   {
    "duration": 350,
    "start_time": "2024-08-03T23:22:24.348Z"
   },
   {
    "duration": 199,
    "start_time": "2024-08-03T23:22:24.700Z"
   },
   {
    "duration": 178,
    "start_time": "2024-08-03T23:22:24.900Z"
   },
   {
    "duration": 320,
    "start_time": "2024-08-03T23:22:25.080Z"
   },
   {
    "duration": 160,
    "start_time": "2024-08-03T23:22:25.402Z"
   },
   {
    "duration": 41,
    "start_time": "2024-08-03T23:22:25.563Z"
   },
   {
    "duration": 5200,
    "start_time": "2024-08-03T23:22:25.606Z"
   },
   {
    "duration": 1368,
    "start_time": "2024-08-03T23:22:30.808Z"
   },
   {
    "duration": 4008,
    "start_time": "2024-08-03T23:22:32.178Z"
   },
   {
    "duration": 5,
    "start_time": "2024-08-03T23:22:36.188Z"
   },
   {
    "duration": 32,
    "start_time": "2024-08-03T23:22:36.194Z"
   },
   {
    "duration": 35,
    "start_time": "2024-08-03T23:22:36.227Z"
   },
   {
    "duration": 29,
    "start_time": "2024-08-03T23:22:36.264Z"
   },
   {
    "duration": 10,
    "start_time": "2024-08-03T23:22:36.295Z"
   },
   {
    "duration": 19,
    "start_time": "2024-08-03T23:22:36.306Z"
   },
   {
    "duration": 29,
    "start_time": "2024-08-03T23:22:36.327Z"
   },
   {
    "duration": 2198,
    "start_time": "2024-08-03T23:22:36.358Z"
   },
   {
    "duration": 8,
    "start_time": "2024-08-03T23:22:38.646Z"
   },
   {
    "duration": 57,
    "start_time": "2024-08-03T23:22:38.656Z"
   },
   {
    "duration": 0,
    "start_time": "2024-08-03T23:22:38.714Z"
   },
   {
    "duration": 0,
    "start_time": "2024-08-03T23:22:38.716Z"
   },
   {
    "duration": 0,
    "start_time": "2024-08-03T23:22:38.717Z"
   },
   {
    "duration": 0,
    "start_time": "2024-08-03T23:22:38.746Z"
   },
   {
    "duration": 0,
    "start_time": "2024-08-03T23:22:38.747Z"
   },
   {
    "duration": 0,
    "start_time": "2024-08-03T23:22:38.748Z"
   },
   {
    "duration": 2071,
    "start_time": "2024-08-03T23:22:46.084Z"
   },
   {
    "duration": 1626,
    "start_time": "2024-08-03T23:22:54.121Z"
   },
   {
    "duration": 880,
    "start_time": "2024-08-03T23:23:08.267Z"
   },
   {
    "duration": 2413,
    "start_time": "2024-08-03T23:23:41.698Z"
   },
   {
    "duration": 1528,
    "start_time": "2024-08-03T23:23:44.114Z"
   },
   {
    "duration": 54,
    "start_time": "2024-08-03T23:23:45.645Z"
   },
   {
    "duration": 20,
    "start_time": "2024-08-03T23:23:45.701Z"
   },
   {
    "duration": 6,
    "start_time": "2024-08-03T23:23:45.723Z"
   },
   {
    "duration": 7,
    "start_time": "2024-08-03T23:23:45.731Z"
   },
   {
    "duration": 12,
    "start_time": "2024-08-03T23:23:45.739Z"
   },
   {
    "duration": 11,
    "start_time": "2024-08-03T23:23:45.753Z"
   },
   {
    "duration": 7,
    "start_time": "2024-08-03T23:23:45.766Z"
   },
   {
    "duration": 18,
    "start_time": "2024-08-03T23:23:45.775Z"
   },
   {
    "duration": 363,
    "start_time": "2024-08-03T23:23:45.794Z"
   },
   {
    "duration": 314,
    "start_time": "2024-08-03T23:23:46.158Z"
   },
   {
    "duration": 178,
    "start_time": "2024-08-03T23:23:46.474Z"
   },
   {
    "duration": 176,
    "start_time": "2024-08-03T23:23:46.654Z"
   },
   {
    "duration": 303,
    "start_time": "2024-08-03T23:23:46.832Z"
   },
   {
    "duration": 174,
    "start_time": "2024-08-03T23:23:47.137Z"
   },
   {
    "duration": 53,
    "start_time": "2024-08-03T23:23:47.312Z"
   },
   {
    "duration": 4440,
    "start_time": "2024-08-03T23:23:47.366Z"
   },
   {
    "duration": 1416,
    "start_time": "2024-08-03T23:23:51.808Z"
   },
   {
    "duration": 3945,
    "start_time": "2024-08-03T23:23:53.225Z"
   },
   {
    "duration": 4,
    "start_time": "2024-08-03T23:23:57.172Z"
   },
   {
    "duration": 11,
    "start_time": "2024-08-03T23:23:57.177Z"
   },
   {
    "duration": 15,
    "start_time": "2024-08-03T23:23:57.190Z"
   },
   {
    "duration": 20,
    "start_time": "2024-08-03T23:23:57.207Z"
   },
   {
    "duration": 6,
    "start_time": "2024-08-03T23:23:57.229Z"
   },
   {
    "duration": 15,
    "start_time": "2024-08-03T23:23:57.237Z"
   },
   {
    "duration": 32,
    "start_time": "2024-08-03T23:23:57.253Z"
   },
   {
    "duration": 2058,
    "start_time": "2024-08-03T23:23:57.290Z"
   },
   {
    "duration": 8,
    "start_time": "2024-08-03T23:23:59.351Z"
   },
   {
    "duration": 58,
    "start_time": "2024-08-03T23:23:59.445Z"
   },
   {
    "duration": 0,
    "start_time": "2024-08-03T23:23:59.505Z"
   },
   {
    "duration": 0,
    "start_time": "2024-08-03T23:23:59.506Z"
   },
   {
    "duration": 0,
    "start_time": "2024-08-03T23:23:59.507Z"
   },
   {
    "duration": 0,
    "start_time": "2024-08-03T23:23:59.508Z"
   },
   {
    "duration": 0,
    "start_time": "2024-08-03T23:23:59.509Z"
   },
   {
    "duration": 0,
    "start_time": "2024-08-03T23:23:59.511Z"
   },
   {
    "duration": 218209,
    "start_time": "2024-08-03T23:25:59.834Z"
   },
   {
    "duration": 116,
    "start_time": "2024-08-03T23:30:01.995Z"
   },
   {
    "duration": 22,
    "start_time": "2024-08-03T23:30:09.926Z"
   },
   {
    "duration": 2442,
    "start_time": "2024-08-03T23:36:23.633Z"
   },
   {
    "duration": 1546,
    "start_time": "2024-08-03T23:36:26.078Z"
   },
   {
    "duration": 53,
    "start_time": "2024-08-03T23:36:27.626Z"
   },
   {
    "duration": 18,
    "start_time": "2024-08-03T23:36:27.681Z"
   },
   {
    "duration": 5,
    "start_time": "2024-08-03T23:36:27.700Z"
   },
   {
    "duration": 10,
    "start_time": "2024-08-03T23:36:27.706Z"
   },
   {
    "duration": 22,
    "start_time": "2024-08-03T23:36:27.717Z"
   },
   {
    "duration": 13,
    "start_time": "2024-08-03T23:36:27.740Z"
   },
   {
    "duration": 4,
    "start_time": "2024-08-03T23:36:27.754Z"
   },
   {
    "duration": 16,
    "start_time": "2024-08-03T23:36:27.760Z"
   },
   {
    "duration": 387,
    "start_time": "2024-08-03T23:36:27.778Z"
   },
   {
    "duration": 332,
    "start_time": "2024-08-03T23:36:28.167Z"
   },
   {
    "duration": 194,
    "start_time": "2024-08-03T23:36:28.501Z"
   },
   {
    "duration": 171,
    "start_time": "2024-08-03T23:36:28.696Z"
   },
   {
    "duration": 301,
    "start_time": "2024-08-03T23:36:28.868Z"
   },
   {
    "duration": 167,
    "start_time": "2024-08-03T23:36:29.171Z"
   },
   {
    "duration": 45,
    "start_time": "2024-08-03T23:36:29.340Z"
   },
   {
    "duration": 4366,
    "start_time": "2024-08-03T23:36:29.387Z"
   },
   {
    "duration": 1299,
    "start_time": "2024-08-03T23:36:33.755Z"
   },
   {
    "duration": 3484,
    "start_time": "2024-08-03T23:36:35.056Z"
   },
   {
    "duration": 7,
    "start_time": "2024-08-03T23:36:38.542Z"
   },
   {
    "duration": 24,
    "start_time": "2024-08-03T23:36:38.551Z"
   },
   {
    "duration": 8,
    "start_time": "2024-08-03T23:36:38.577Z"
   },
   {
    "duration": 8,
    "start_time": "2024-08-03T23:36:38.587Z"
   },
   {
    "duration": 4,
    "start_time": "2024-08-03T23:36:38.597Z"
   },
   {
    "duration": 6,
    "start_time": "2024-08-03T23:36:38.602Z"
   },
   {
    "duration": 44,
    "start_time": "2024-08-03T23:36:38.609Z"
   },
   {
    "duration": 1998,
    "start_time": "2024-08-03T23:36:38.657Z"
   },
   {
    "duration": 2425,
    "start_time": "2024-08-03T23:38:11.826Z"
   },
   {
    "duration": 1516,
    "start_time": "2024-08-03T23:38:14.254Z"
   },
   {
    "duration": 52,
    "start_time": "2024-08-03T23:38:15.771Z"
   },
   {
    "duration": 17,
    "start_time": "2024-08-03T23:38:15.825Z"
   },
   {
    "duration": 5,
    "start_time": "2024-08-03T23:38:15.844Z"
   },
   {
    "duration": 52,
    "start_time": "2024-08-03T23:38:15.851Z"
   },
   {
    "duration": 4,
    "start_time": "2024-08-03T23:38:15.905Z"
   },
   {
    "duration": 11,
    "start_time": "2024-08-03T23:38:15.911Z"
   },
   {
    "duration": 7,
    "start_time": "2024-08-03T23:38:15.923Z"
   },
   {
    "duration": 17,
    "start_time": "2024-08-03T23:38:15.933Z"
   },
   {
    "duration": 321,
    "start_time": "2024-08-03T23:38:15.952Z"
   },
   {
    "duration": 321,
    "start_time": "2024-08-03T23:38:16.274Z"
   },
   {
    "duration": 172,
    "start_time": "2024-08-03T23:38:16.597Z"
   },
   {
    "duration": 182,
    "start_time": "2024-08-03T23:38:16.771Z"
   },
   {
    "duration": 337,
    "start_time": "2024-08-03T23:38:16.955Z"
   },
   {
    "duration": 169,
    "start_time": "2024-08-03T23:38:17.294Z"
   },
   {
    "duration": 41,
    "start_time": "2024-08-03T23:38:17.464Z"
   },
   {
    "duration": 4345,
    "start_time": "2024-08-03T23:38:17.506Z"
   },
   {
    "duration": 1322,
    "start_time": "2024-08-03T23:38:21.853Z"
   },
   {
    "duration": 3430,
    "start_time": "2024-08-03T23:38:23.177Z"
   },
   {
    "duration": 4,
    "start_time": "2024-08-03T23:38:26.608Z"
   },
   {
    "duration": 12,
    "start_time": "2024-08-03T23:38:26.613Z"
   },
   {
    "duration": 20,
    "start_time": "2024-08-03T23:38:26.626Z"
   },
   {
    "duration": 14,
    "start_time": "2024-08-03T23:38:26.648Z"
   },
   {
    "duration": 25,
    "start_time": "2024-08-03T23:38:26.663Z"
   },
   {
    "duration": 5,
    "start_time": "2024-08-03T23:38:26.689Z"
   },
   {
    "duration": 12,
    "start_time": "2024-08-03T23:38:26.695Z"
   },
   {
    "duration": 2153,
    "start_time": "2024-08-03T23:38:26.710Z"
   },
   {
    "duration": 2407,
    "start_time": "2024-08-03T23:38:48.734Z"
   },
   {
    "duration": 1531,
    "start_time": "2024-08-03T23:38:51.143Z"
   },
   {
    "duration": 52,
    "start_time": "2024-08-03T23:38:52.675Z"
   },
   {
    "duration": 17,
    "start_time": "2024-08-03T23:38:52.729Z"
   },
   {
    "duration": 9,
    "start_time": "2024-08-03T23:38:52.748Z"
   },
   {
    "duration": 8,
    "start_time": "2024-08-03T23:38:52.758Z"
   },
   {
    "duration": 13,
    "start_time": "2024-08-03T23:38:52.768Z"
   },
   {
    "duration": 20,
    "start_time": "2024-08-03T23:38:52.783Z"
   },
   {
    "duration": 3,
    "start_time": "2024-08-03T23:38:52.805Z"
   },
   {
    "duration": 16,
    "start_time": "2024-08-03T23:38:52.809Z"
   },
   {
    "duration": 358,
    "start_time": "2024-08-03T23:38:52.827Z"
   },
   {
    "duration": 347,
    "start_time": "2024-08-03T23:38:53.187Z"
   },
   {
    "duration": 178,
    "start_time": "2024-08-03T23:38:53.535Z"
   },
   {
    "duration": 178,
    "start_time": "2024-08-03T23:38:53.716Z"
   },
   {
    "duration": 298,
    "start_time": "2024-08-03T23:38:53.895Z"
   },
   {
    "duration": 174,
    "start_time": "2024-08-03T23:38:54.195Z"
   },
   {
    "duration": 42,
    "start_time": "2024-08-03T23:38:54.370Z"
   },
   {
    "duration": 4613,
    "start_time": "2024-08-03T23:38:54.414Z"
   },
   {
    "duration": 1341,
    "start_time": "2024-08-03T23:38:59.028Z"
   },
   {
    "duration": 3562,
    "start_time": "2024-08-03T23:39:00.370Z"
   },
   {
    "duration": 10,
    "start_time": "2024-08-03T23:39:03.935Z"
   },
   {
    "duration": 25,
    "start_time": "2024-08-03T23:39:03.947Z"
   },
   {
    "duration": 5,
    "start_time": "2024-08-03T23:39:03.974Z"
   },
   {
    "duration": 152,
    "start_time": "2024-08-03T23:39:03.980Z"
   },
   {
    "duration": 97,
    "start_time": "2024-08-03T23:39:04.134Z"
   },
   {
    "duration": 12,
    "start_time": "2024-08-03T23:39:04.233Z"
   },
   {
    "duration": 2006,
    "start_time": "2024-08-03T23:39:04.247Z"
   },
   {
    "duration": 2431,
    "start_time": "2024-08-03T23:39:30.573Z"
   },
   {
    "duration": 1475,
    "start_time": "2024-08-03T23:39:33.007Z"
   },
   {
    "duration": 54,
    "start_time": "2024-08-03T23:39:34.483Z"
   },
   {
    "duration": 21,
    "start_time": "2024-08-03T23:39:34.539Z"
   },
   {
    "duration": 5,
    "start_time": "2024-08-03T23:39:34.563Z"
   },
   {
    "duration": 4,
    "start_time": "2024-08-03T23:39:34.570Z"
   },
   {
    "duration": 5,
    "start_time": "2024-08-03T23:39:34.576Z"
   },
   {
    "duration": 13,
    "start_time": "2024-08-03T23:39:34.582Z"
   },
   {
    "duration": 4,
    "start_time": "2024-08-03T23:39:34.598Z"
   },
   {
    "duration": 48,
    "start_time": "2024-08-03T23:39:34.603Z"
   },
   {
    "duration": 348,
    "start_time": "2024-08-03T23:39:34.653Z"
   },
   {
    "duration": 340,
    "start_time": "2024-08-03T23:39:35.002Z"
   },
   {
    "duration": 169,
    "start_time": "2024-08-03T23:39:35.346Z"
   },
   {
    "duration": 176,
    "start_time": "2024-08-03T23:39:35.518Z"
   },
   {
    "duration": 299,
    "start_time": "2024-08-03T23:39:35.696Z"
   },
   {
    "duration": 169,
    "start_time": "2024-08-03T23:39:35.997Z"
   },
   {
    "duration": 124,
    "start_time": "2024-08-03T23:39:36.168Z"
   },
   {
    "duration": 4342,
    "start_time": "2024-08-03T23:39:36.294Z"
   },
   {
    "duration": 1327,
    "start_time": "2024-08-03T23:39:40.637Z"
   },
   {
    "duration": 3468,
    "start_time": "2024-08-03T23:39:41.965Z"
   },
   {
    "duration": 13,
    "start_time": "2024-08-03T23:39:45.435Z"
   },
   {
    "duration": 32,
    "start_time": "2024-08-03T23:39:45.449Z"
   },
   {
    "duration": 31,
    "start_time": "2024-08-03T23:39:45.483Z"
   },
   {
    "duration": 41,
    "start_time": "2024-08-03T23:39:45.515Z"
   },
   {
    "duration": 13,
    "start_time": "2024-08-03T23:39:45.558Z"
   },
   {
    "duration": 13,
    "start_time": "2024-08-03T23:39:45.572Z"
   },
   {
    "duration": 2068,
    "start_time": "2024-08-03T23:39:45.587Z"
   },
   {
    "duration": 6339,
    "start_time": "2024-08-03T23:39:47.746Z"
   },
   {
    "duration": 0,
    "start_time": "2024-08-03T23:39:54.087Z"
   },
   {
    "duration": 0,
    "start_time": "2024-08-03T23:39:54.088Z"
   },
   {
    "duration": 0,
    "start_time": "2024-08-03T23:39:54.089Z"
   },
   {
    "duration": 0,
    "start_time": "2024-08-03T23:39:54.091Z"
   },
   {
    "duration": 0,
    "start_time": "2024-08-03T23:39:54.092Z"
   },
   {
    "duration": 0,
    "start_time": "2024-08-03T23:39:54.093Z"
   },
   {
    "duration": 2560,
    "start_time": "2024-08-03T23:43:25.037Z"
   },
   {
    "duration": 1468,
    "start_time": "2024-08-03T23:43:27.599Z"
   },
   {
    "duration": 52,
    "start_time": "2024-08-03T23:43:29.069Z"
   },
   {
    "duration": 18,
    "start_time": "2024-08-03T23:43:29.123Z"
   },
   {
    "duration": 21,
    "start_time": "2024-08-03T23:43:29.142Z"
   },
   {
    "duration": 28,
    "start_time": "2024-08-03T23:43:29.164Z"
   },
   {
    "duration": 22,
    "start_time": "2024-08-03T23:43:29.193Z"
   },
   {
    "duration": 30,
    "start_time": "2024-08-03T23:43:29.216Z"
   },
   {
    "duration": 8,
    "start_time": "2024-08-03T23:43:29.248Z"
   },
   {
    "duration": 24,
    "start_time": "2024-08-03T23:43:29.258Z"
   },
   {
    "duration": 326,
    "start_time": "2024-08-03T23:43:29.283Z"
   },
   {
    "duration": 310,
    "start_time": "2024-08-03T23:43:29.610Z"
   },
   {
    "duration": 192,
    "start_time": "2024-08-03T23:43:29.922Z"
   },
   {
    "duration": 200,
    "start_time": "2024-08-03T23:43:30.116Z"
   },
   {
    "duration": 383,
    "start_time": "2024-08-03T23:43:30.318Z"
   },
   {
    "duration": 181,
    "start_time": "2024-08-03T23:43:30.702Z"
   },
   {
    "duration": 47,
    "start_time": "2024-08-03T23:43:30.884Z"
   },
   {
    "duration": 4385,
    "start_time": "2024-08-03T23:43:30.933Z"
   },
   {
    "duration": 1346,
    "start_time": "2024-08-03T23:43:35.320Z"
   },
   {
    "duration": 4284,
    "start_time": "2024-08-03T23:43:36.669Z"
   },
   {
    "duration": 4,
    "start_time": "2024-08-03T23:43:40.955Z"
   },
   {
    "duration": 5,
    "start_time": "2024-08-03T23:43:40.961Z"
   },
   {
    "duration": 13,
    "start_time": "2024-08-03T23:43:40.968Z"
   },
   {
    "duration": 7,
    "start_time": "2024-08-03T23:43:40.982Z"
   },
   {
    "duration": 161,
    "start_time": "2024-08-03T23:43:40.991Z"
   },
   {
    "duration": 0,
    "start_time": "2024-08-03T23:43:41.154Z"
   },
   {
    "duration": 0,
    "start_time": "2024-08-03T23:43:41.156Z"
   },
   {
    "duration": 0,
    "start_time": "2024-08-03T23:43:41.157Z"
   },
   {
    "duration": 0,
    "start_time": "2024-08-03T23:43:41.158Z"
   },
   {
    "duration": 0,
    "start_time": "2024-08-03T23:43:41.159Z"
   },
   {
    "duration": 0,
    "start_time": "2024-08-03T23:43:41.160Z"
   },
   {
    "duration": 0,
    "start_time": "2024-08-03T23:43:41.162Z"
   },
   {
    "duration": 0,
    "start_time": "2024-08-03T23:43:41.163Z"
   },
   {
    "duration": 0,
    "start_time": "2024-08-03T23:43:41.164Z"
   },
   {
    "duration": 0,
    "start_time": "2024-08-03T23:43:41.165Z"
   },
   {
    "duration": 0,
    "start_time": "2024-08-03T23:43:41.166Z"
   },
   {
    "duration": 0,
    "start_time": "2024-08-03T23:43:41.167Z"
   },
   {
    "duration": 0,
    "start_time": "2024-08-03T23:43:41.169Z"
   },
   {
    "duration": 0,
    "start_time": "2024-08-03T23:43:41.169Z"
   },
   {
    "duration": 0,
    "start_time": "2024-08-03T23:43:41.170Z"
   },
   {
    "duration": 0,
    "start_time": "2024-08-03T23:43:41.171Z"
   },
   {
    "duration": 0,
    "start_time": "2024-08-03T23:43:41.172Z"
   },
   {
    "duration": 0,
    "start_time": "2024-08-03T23:43:41.173Z"
   },
   {
    "duration": 0,
    "start_time": "2024-08-03T23:43:41.175Z"
   },
   {
    "duration": 0,
    "start_time": "2024-08-03T23:43:41.176Z"
   },
   {
    "duration": 0,
    "start_time": "2024-08-03T23:43:41.177Z"
   },
   {
    "duration": 0,
    "start_time": "2024-08-03T23:43:41.178Z"
   },
   {
    "duration": 0,
    "start_time": "2024-08-03T23:43:41.179Z"
   },
   {
    "duration": 0,
    "start_time": "2024-08-03T23:43:41.180Z"
   },
   {
    "duration": 0,
    "start_time": "2024-08-03T23:43:41.181Z"
   },
   {
    "duration": 0,
    "start_time": "2024-08-03T23:43:41.182Z"
   },
   {
    "duration": 3,
    "start_time": "2024-08-03T23:44:08.338Z"
   },
   {
    "duration": 449,
    "start_time": "2024-08-03T23:44:09.308Z"
   },
   {
    "duration": 7,
    "start_time": "2024-08-03T23:44:09.759Z"
   },
   {
    "duration": 3,
    "start_time": "2024-08-03T23:44:09.918Z"
   },
   {
    "duration": 5889,
    "start_time": "2024-08-03T23:44:10.185Z"
   },
   {
    "duration": 0,
    "start_time": "2024-08-03T23:44:16.076Z"
   },
   {
    "duration": 0,
    "start_time": "2024-08-03T23:44:16.077Z"
   },
   {
    "duration": 0,
    "start_time": "2024-08-03T23:44:16.078Z"
   },
   {
    "duration": 9,
    "start_time": "2024-08-03T23:44:16.238Z"
   },
   {
    "duration": 10,
    "start_time": "2024-08-03T23:44:16.508Z"
   },
   {
    "duration": 2482,
    "start_time": "2024-08-03T23:44:32.463Z"
   },
   {
    "duration": 1464,
    "start_time": "2024-08-03T23:44:34.947Z"
   },
   {
    "duration": 52,
    "start_time": "2024-08-03T23:44:36.413Z"
   },
   {
    "duration": 19,
    "start_time": "2024-08-03T23:44:36.468Z"
   },
   {
    "duration": 5,
    "start_time": "2024-08-03T23:44:36.488Z"
   },
   {
    "duration": 9,
    "start_time": "2024-08-03T23:44:36.494Z"
   },
   {
    "duration": 6,
    "start_time": "2024-08-03T23:44:36.505Z"
   },
   {
    "duration": 35,
    "start_time": "2024-08-03T23:44:36.513Z"
   },
   {
    "duration": 5,
    "start_time": "2024-08-03T23:44:36.551Z"
   },
   {
    "duration": 21,
    "start_time": "2024-08-03T23:44:36.559Z"
   },
   {
    "duration": 371,
    "start_time": "2024-08-03T23:44:36.582Z"
   },
   {
    "duration": 342,
    "start_time": "2024-08-03T23:44:36.955Z"
   },
   {
    "duration": 174,
    "start_time": "2024-08-03T23:44:37.299Z"
   },
   {
    "duration": 183,
    "start_time": "2024-08-03T23:44:37.475Z"
   },
   {
    "duration": 292,
    "start_time": "2024-08-03T23:44:37.660Z"
   },
   {
    "duration": 167,
    "start_time": "2024-08-03T23:44:37.954Z"
   },
   {
    "duration": 54,
    "start_time": "2024-08-03T23:44:38.122Z"
   },
   {
    "duration": 4440,
    "start_time": "2024-08-03T23:44:38.177Z"
   },
   {
    "duration": 1335,
    "start_time": "2024-08-03T23:44:42.619Z"
   },
   {
    "duration": 3577,
    "start_time": "2024-08-03T23:44:43.956Z"
   },
   {
    "duration": 10,
    "start_time": "2024-08-03T23:44:47.536Z"
   },
   {
    "duration": 4,
    "start_time": "2024-08-03T23:44:47.548Z"
   },
   {
    "duration": 10,
    "start_time": "2024-08-03T23:44:47.553Z"
   },
   {
    "duration": 4,
    "start_time": "2024-08-03T23:44:47.565Z"
   },
   {
    "duration": 29,
    "start_time": "2024-08-03T23:44:47.571Z"
   },
   {
    "duration": 451,
    "start_time": "2024-08-03T23:44:47.602Z"
   },
   {
    "duration": 8,
    "start_time": "2024-08-03T23:44:48.055Z"
   },
   {
    "duration": 4,
    "start_time": "2024-08-03T23:44:48.066Z"
   },
   {
    "duration": 6092,
    "start_time": "2024-08-03T23:44:48.071Z"
   },
   {
    "duration": 0,
    "start_time": "2024-08-03T23:44:54.164Z"
   },
   {
    "duration": 0,
    "start_time": "2024-08-03T23:44:54.166Z"
   },
   {
    "duration": 0,
    "start_time": "2024-08-03T23:44:54.167Z"
   },
   {
    "duration": 0,
    "start_time": "2024-08-03T23:44:54.168Z"
   },
   {
    "duration": 0,
    "start_time": "2024-08-03T23:44:54.169Z"
   },
   {
    "duration": 0,
    "start_time": "2024-08-03T23:44:54.170Z"
   },
   {
    "duration": 0,
    "start_time": "2024-08-03T23:44:54.171Z"
   },
   {
    "duration": 0,
    "start_time": "2024-08-03T23:44:54.172Z"
   },
   {
    "duration": 0,
    "start_time": "2024-08-03T23:44:54.174Z"
   },
   {
    "duration": 0,
    "start_time": "2024-08-03T23:44:54.175Z"
   },
   {
    "duration": 0,
    "start_time": "2024-08-03T23:44:54.176Z"
   },
   {
    "duration": 0,
    "start_time": "2024-08-03T23:44:54.177Z"
   },
   {
    "duration": 0,
    "start_time": "2024-08-03T23:44:54.178Z"
   },
   {
    "duration": 0,
    "start_time": "2024-08-03T23:44:54.179Z"
   },
   {
    "duration": 0,
    "start_time": "2024-08-03T23:44:54.180Z"
   },
   {
    "duration": 0,
    "start_time": "2024-08-03T23:44:54.181Z"
   },
   {
    "duration": 0,
    "start_time": "2024-08-03T23:44:54.182Z"
   },
   {
    "duration": 0,
    "start_time": "2024-08-03T23:44:54.183Z"
   },
   {
    "duration": 0,
    "start_time": "2024-08-03T23:44:54.184Z"
   },
   {
    "duration": 0,
    "start_time": "2024-08-03T23:44:54.185Z"
   },
   {
    "duration": 0,
    "start_time": "2024-08-03T23:44:54.186Z"
   },
   {
    "duration": 0,
    "start_time": "2024-08-03T23:44:54.187Z"
   },
   {
    "duration": 5774,
    "start_time": "2024-08-03T23:45:44.108Z"
   },
   {
    "duration": 2530,
    "start_time": "2024-08-03T23:46:42.821Z"
   },
   {
    "duration": 1488,
    "start_time": "2024-08-03T23:46:45.353Z"
   },
   {
    "duration": 53,
    "start_time": "2024-08-03T23:46:46.843Z"
   },
   {
    "duration": 18,
    "start_time": "2024-08-03T23:46:46.898Z"
   },
   {
    "duration": 26,
    "start_time": "2024-08-03T23:46:46.918Z"
   },
   {
    "duration": 10,
    "start_time": "2024-08-03T23:46:46.946Z"
   },
   {
    "duration": 12,
    "start_time": "2024-08-03T23:46:46.957Z"
   },
   {
    "duration": 15,
    "start_time": "2024-08-03T23:46:46.970Z"
   },
   {
    "duration": 15,
    "start_time": "2024-08-03T23:46:46.987Z"
   },
   {
    "duration": 37,
    "start_time": "2024-08-03T23:46:47.005Z"
   },
   {
    "duration": 349,
    "start_time": "2024-08-03T23:46:47.043Z"
   },
   {
    "duration": 322,
    "start_time": "2024-08-03T23:46:47.394Z"
   },
   {
    "duration": 179,
    "start_time": "2024-08-03T23:46:47.718Z"
   },
   {
    "duration": 179,
    "start_time": "2024-08-03T23:46:47.899Z"
   },
   {
    "duration": 313,
    "start_time": "2024-08-03T23:46:48.080Z"
   },
   {
    "duration": 196,
    "start_time": "2024-08-03T23:46:48.394Z"
   },
   {
    "duration": 5,
    "start_time": "2024-08-03T23:46:48.592Z"
   },
   {
    "duration": 16,
    "start_time": "2024-08-03T23:46:48.599Z"
   },
   {
    "duration": 13,
    "start_time": "2024-08-03T23:46:48.617Z"
   },
   {
    "duration": 6,
    "start_time": "2024-08-03T23:46:48.632Z"
   },
   {
    "duration": 7,
    "start_time": "2024-08-03T23:46:48.640Z"
   },
   {
    "duration": 17,
    "start_time": "2024-08-03T23:46:48.648Z"
   },
   {
    "duration": 18,
    "start_time": "2024-08-03T23:46:48.668Z"
   },
   {
    "duration": 5,
    "start_time": "2024-08-03T23:46:48.687Z"
   },
   {
    "duration": 3,
    "start_time": "2024-08-03T23:46:48.694Z"
   },
   {
    "duration": 436,
    "start_time": "2024-08-03T23:46:48.699Z"
   },
   {
    "duration": 9,
    "start_time": "2024-08-03T23:46:49.137Z"
   },
   {
    "duration": 13,
    "start_time": "2024-08-03T23:46:49.150Z"
   },
   {
    "duration": 6694,
    "start_time": "2024-08-03T23:46:49.164Z"
   },
   {
    "duration": 0,
    "start_time": "2024-08-03T23:46:55.860Z"
   },
   {
    "duration": 0,
    "start_time": "2024-08-03T23:46:55.861Z"
   },
   {
    "duration": 0,
    "start_time": "2024-08-03T23:46:55.862Z"
   },
   {
    "duration": 0,
    "start_time": "2024-08-03T23:46:55.863Z"
   },
   {
    "duration": 0,
    "start_time": "2024-08-03T23:46:55.864Z"
   },
   {
    "duration": 0,
    "start_time": "2024-08-03T23:46:55.865Z"
   },
   {
    "duration": 0,
    "start_time": "2024-08-03T23:46:55.865Z"
   },
   {
    "duration": 0,
    "start_time": "2024-08-03T23:46:55.866Z"
   },
   {
    "duration": 0,
    "start_time": "2024-08-03T23:46:55.867Z"
   },
   {
    "duration": 0,
    "start_time": "2024-08-03T23:46:55.868Z"
   },
   {
    "duration": 0,
    "start_time": "2024-08-03T23:46:55.869Z"
   },
   {
    "duration": 0,
    "start_time": "2024-08-03T23:46:55.870Z"
   },
   {
    "duration": 0,
    "start_time": "2024-08-03T23:46:55.871Z"
   },
   {
    "duration": 0,
    "start_time": "2024-08-03T23:46:55.872Z"
   },
   {
    "duration": 1,
    "start_time": "2024-08-03T23:46:55.872Z"
   },
   {
    "duration": 0,
    "start_time": "2024-08-03T23:46:55.873Z"
   },
   {
    "duration": 0,
    "start_time": "2024-08-03T23:46:55.875Z"
   },
   {
    "duration": 0,
    "start_time": "2024-08-03T23:46:55.875Z"
   },
   {
    "duration": 0,
    "start_time": "2024-08-03T23:46:55.876Z"
   },
   {
    "duration": 0,
    "start_time": "2024-08-03T23:46:55.877Z"
   },
   {
    "duration": 0,
    "start_time": "2024-08-03T23:46:55.878Z"
   },
   {
    "duration": 0,
    "start_time": "2024-08-03T23:46:55.878Z"
   },
   {
    "duration": 3,
    "start_time": "2024-08-03T23:47:20.892Z"
   },
   {
    "duration": 185997,
    "start_time": "2024-08-03T23:47:21.856Z"
   },
   {
    "duration": 7,
    "start_time": "2024-08-03T23:50:53.242Z"
   },
   {
    "duration": 11,
    "start_time": "2024-08-03T23:50:55.609Z"
   },
   {
    "duration": 25,
    "start_time": "2024-08-03T23:51:19.657Z"
   },
   {
    "duration": 3,
    "start_time": "2024-08-03T23:51:27.490Z"
   },
   {
    "duration": 12978,
    "start_time": "2024-08-03T23:51:28.979Z"
   },
   {
    "duration": 6,
    "start_time": "2024-08-03T23:51:41.959Z"
   },
   {
    "duration": 28,
    "start_time": "2024-08-03T23:51:41.967Z"
   },
   {
    "duration": 0,
    "start_time": "2024-08-03T23:51:41.997Z"
   },
   {
    "duration": 17,
    "start_time": "2024-08-03T23:51:50.787Z"
   },
   {
    "duration": 16,
    "start_time": "2024-08-03T23:53:36.549Z"
   },
   {
    "duration": 10,
    "start_time": "2024-08-03T23:53:53.306Z"
   },
   {
    "duration": 8,
    "start_time": "2024-08-03T23:54:19.734Z"
   },
   {
    "duration": 9,
    "start_time": "2024-08-03T23:54:36.218Z"
   },
   {
    "duration": 2542,
    "start_time": "2024-08-04T00:01:59.800Z"
   },
   {
    "duration": 1545,
    "start_time": "2024-08-04T00:02:02.345Z"
   },
   {
    "duration": 54,
    "start_time": "2024-08-04T00:02:03.894Z"
   },
   {
    "duration": 22,
    "start_time": "2024-08-04T00:02:03.950Z"
   },
   {
    "duration": 6,
    "start_time": "2024-08-04T00:02:03.973Z"
   },
   {
    "duration": 11,
    "start_time": "2024-08-04T00:02:03.980Z"
   },
   {
    "duration": 15,
    "start_time": "2024-08-04T00:02:03.992Z"
   },
   {
    "duration": 78,
    "start_time": "2024-08-04T00:02:04.009Z"
   },
   {
    "duration": 65,
    "start_time": "2024-08-04T00:02:04.089Z"
   },
   {
    "duration": 25,
    "start_time": "2024-08-04T00:02:04.156Z"
   },
   {
    "duration": 378,
    "start_time": "2024-08-04T00:02:04.183Z"
   },
   {
    "duration": 329,
    "start_time": "2024-08-04T00:02:04.563Z"
   },
   {
    "duration": 171,
    "start_time": "2024-08-04T00:02:04.895Z"
   },
   {
    "duration": 178,
    "start_time": "2024-08-04T00:02:05.067Z"
   },
   {
    "duration": 304,
    "start_time": "2024-08-04T00:02:05.247Z"
   },
   {
    "duration": 167,
    "start_time": "2024-08-04T00:02:05.553Z"
   },
   {
    "duration": 5,
    "start_time": "2024-08-04T00:02:05.721Z"
   },
   {
    "duration": 16,
    "start_time": "2024-08-04T00:02:05.728Z"
   },
   {
    "duration": 19,
    "start_time": "2024-08-04T00:02:05.745Z"
   },
   {
    "duration": 8,
    "start_time": "2024-08-04T00:02:05.765Z"
   },
   {
    "duration": 10,
    "start_time": "2024-08-04T00:02:05.775Z"
   },
   {
    "duration": 12,
    "start_time": "2024-08-04T00:02:05.787Z"
   },
   {
    "duration": 19,
    "start_time": "2024-08-04T00:02:05.801Z"
   },
   {
    "duration": 6,
    "start_time": "2024-08-04T00:02:05.822Z"
   },
   {
    "duration": 6,
    "start_time": "2024-08-04T00:02:05.829Z"
   },
   {
    "duration": 9,
    "start_time": "2024-08-04T00:02:05.837Z"
   },
   {
    "duration": 135,
    "start_time": "2024-08-04T00:02:05.848Z"
   },
   {
    "duration": 0,
    "start_time": "2024-08-04T00:02:05.984Z"
   },
   {
    "duration": 0,
    "start_time": "2024-08-04T00:02:05.985Z"
   },
   {
    "duration": 0,
    "start_time": "2024-08-04T00:02:05.986Z"
   },
   {
    "duration": 0,
    "start_time": "2024-08-04T00:02:05.987Z"
   },
   {
    "duration": 0,
    "start_time": "2024-08-04T00:02:05.988Z"
   },
   {
    "duration": 0,
    "start_time": "2024-08-04T00:02:05.989Z"
   },
   {
    "duration": 0,
    "start_time": "2024-08-04T00:02:05.990Z"
   },
   {
    "duration": 0,
    "start_time": "2024-08-04T00:02:05.991Z"
   },
   {
    "duration": 0,
    "start_time": "2024-08-04T00:02:05.992Z"
   },
   {
    "duration": 0,
    "start_time": "2024-08-04T00:02:05.993Z"
   },
   {
    "duration": 8,
    "start_time": "2024-08-04T00:02:15.691Z"
   },
   {
    "duration": 3,
    "start_time": "2024-08-04T00:02:18.165Z"
   },
   {
    "duration": 12,
    "start_time": "2024-08-04T00:02:24.004Z"
   },
   {
    "duration": 3,
    "start_time": "2024-08-04T00:02:28.956Z"
   },
   {
    "duration": 12,
    "start_time": "2024-08-04T00:02:30.072Z"
   },
   {
    "duration": 8,
    "start_time": "2024-08-04T00:03:39.267Z"
   },
   {
    "duration": 3,
    "start_time": "2024-08-04T00:03:43.485Z"
   },
   {
    "duration": 2,
    "start_time": "2024-08-04T00:03:44.386Z"
   },
   {
    "duration": 133,
    "start_time": "2024-08-04T00:03:46.699Z"
   },
   {
    "duration": 2492,
    "start_time": "2024-08-04T00:07:36.509Z"
   },
   {
    "duration": 1471,
    "start_time": "2024-08-04T00:07:39.004Z"
   },
   {
    "duration": 51,
    "start_time": "2024-08-04T00:07:40.477Z"
   },
   {
    "duration": 19,
    "start_time": "2024-08-04T00:07:40.530Z"
   },
   {
    "duration": 6,
    "start_time": "2024-08-04T00:07:40.551Z"
   },
   {
    "duration": 4,
    "start_time": "2024-08-04T00:07:40.559Z"
   },
   {
    "duration": 14,
    "start_time": "2024-08-04T00:07:40.564Z"
   },
   {
    "duration": 11,
    "start_time": "2024-08-04T00:07:40.580Z"
   },
   {
    "duration": 12,
    "start_time": "2024-08-04T00:07:40.593Z"
   },
   {
    "duration": 43,
    "start_time": "2024-08-04T00:07:40.608Z"
   },
   {
    "duration": 340,
    "start_time": "2024-08-04T00:07:40.653Z"
   },
   {
    "duration": 314,
    "start_time": "2024-08-04T00:07:40.994Z"
   },
   {
    "duration": 168,
    "start_time": "2024-08-04T00:07:41.310Z"
   },
   {
    "duration": 176,
    "start_time": "2024-08-04T00:07:41.480Z"
   },
   {
    "duration": 330,
    "start_time": "2024-08-04T00:07:41.657Z"
   },
   {
    "duration": 167,
    "start_time": "2024-08-04T00:07:41.989Z"
   },
   {
    "duration": 5,
    "start_time": "2024-08-04T00:07:42.159Z"
   },
   {
    "duration": 19,
    "start_time": "2024-08-04T00:07:42.166Z"
   },
   {
    "duration": 34,
    "start_time": "2024-08-04T00:07:42.187Z"
   },
   {
    "duration": 16,
    "start_time": "2024-08-04T00:07:42.223Z"
   },
   {
    "duration": 18,
    "start_time": "2024-08-04T00:07:42.241Z"
   },
   {
    "duration": 12,
    "start_time": "2024-08-04T00:07:42.260Z"
   },
   {
    "duration": 36,
    "start_time": "2024-08-04T00:07:42.274Z"
   },
   {
    "duration": 18,
    "start_time": "2024-08-04T00:07:42.311Z"
   },
   {
    "duration": 27,
    "start_time": "2024-08-04T00:07:42.331Z"
   },
   {
    "duration": 31,
    "start_time": "2024-08-04T00:07:42.360Z"
   },
   {
    "duration": 31,
    "start_time": "2024-08-04T00:07:42.393Z"
   },
   {
    "duration": 146,
    "start_time": "2024-08-04T00:07:42.427Z"
   },
   {
    "duration": 0,
    "start_time": "2024-08-04T00:07:42.575Z"
   },
   {
    "duration": 0,
    "start_time": "2024-08-04T00:07:42.576Z"
   },
   {
    "duration": 0,
    "start_time": "2024-08-04T00:07:42.577Z"
   },
   {
    "duration": 0,
    "start_time": "2024-08-04T00:07:42.578Z"
   },
   {
    "duration": 0,
    "start_time": "2024-08-04T00:07:42.580Z"
   },
   {
    "duration": 0,
    "start_time": "2024-08-04T00:07:42.581Z"
   },
   {
    "duration": 0,
    "start_time": "2024-08-04T00:07:42.582Z"
   },
   {
    "duration": 2422,
    "start_time": "2024-08-04T00:08:15.453Z"
   },
   {
    "duration": 1480,
    "start_time": "2024-08-04T00:08:17.878Z"
   },
   {
    "duration": 51,
    "start_time": "2024-08-04T00:08:19.359Z"
   },
   {
    "duration": 18,
    "start_time": "2024-08-04T00:08:19.411Z"
   },
   {
    "duration": 5,
    "start_time": "2024-08-04T00:08:19.431Z"
   },
   {
    "duration": 10,
    "start_time": "2024-08-04T00:08:19.437Z"
   },
   {
    "duration": 9,
    "start_time": "2024-08-04T00:08:19.449Z"
   },
   {
    "duration": 9,
    "start_time": "2024-08-04T00:08:19.460Z"
   },
   {
    "duration": 3,
    "start_time": "2024-08-04T00:08:19.470Z"
   },
   {
    "duration": 18,
    "start_time": "2024-08-04T00:08:19.474Z"
   },
   {
    "duration": 328,
    "start_time": "2024-08-04T00:08:19.493Z"
   },
   {
    "duration": 301,
    "start_time": "2024-08-04T00:08:19.823Z"
   },
   {
    "duration": 177,
    "start_time": "2024-08-04T00:08:20.125Z"
   },
   {
    "duration": 183,
    "start_time": "2024-08-04T00:08:20.305Z"
   },
   {
    "duration": 321,
    "start_time": "2024-08-04T00:08:20.489Z"
   },
   {
    "duration": 169,
    "start_time": "2024-08-04T00:08:20.812Z"
   },
   {
    "duration": 5,
    "start_time": "2024-08-04T00:08:20.983Z"
   },
   {
    "duration": 7,
    "start_time": "2024-08-04T00:08:20.989Z"
   },
   {
    "duration": 6,
    "start_time": "2024-08-04T00:08:20.998Z"
   },
   {
    "duration": 7,
    "start_time": "2024-08-04T00:08:21.005Z"
   },
   {
    "duration": 5,
    "start_time": "2024-08-04T00:08:21.013Z"
   },
   {
    "duration": 7,
    "start_time": "2024-08-04T00:08:21.020Z"
   },
   {
    "duration": 18,
    "start_time": "2024-08-04T00:08:21.028Z"
   },
   {
    "duration": 8,
    "start_time": "2024-08-04T00:08:21.048Z"
   },
   {
    "duration": 17,
    "start_time": "2024-08-04T00:08:21.058Z"
   },
   {
    "duration": 10,
    "start_time": "2024-08-04T00:08:21.076Z"
   },
   {
    "duration": 5,
    "start_time": "2024-08-04T00:08:21.087Z"
   },
   {
    "duration": 263,
    "start_time": "2024-08-04T00:08:21.093Z"
   },
   {
    "duration": 0,
    "start_time": "2024-08-04T00:08:21.358Z"
   },
   {
    "duration": 0,
    "start_time": "2024-08-04T00:08:21.359Z"
   },
   {
    "duration": 0,
    "start_time": "2024-08-04T00:08:21.360Z"
   },
   {
    "duration": 0,
    "start_time": "2024-08-04T00:08:21.362Z"
   },
   {
    "duration": 0,
    "start_time": "2024-08-04T00:08:21.363Z"
   },
   {
    "duration": 0,
    "start_time": "2024-08-04T00:08:21.364Z"
   },
   {
    "duration": 0,
    "start_time": "2024-08-04T00:08:21.365Z"
   },
   {
    "duration": 2491,
    "start_time": "2024-08-04T00:09:21.517Z"
   },
   {
    "duration": 1458,
    "start_time": "2024-08-04T00:09:24.010Z"
   },
   {
    "duration": 50,
    "start_time": "2024-08-04T00:09:25.469Z"
   },
   {
    "duration": 19,
    "start_time": "2024-08-04T00:09:25.522Z"
   },
   {
    "duration": 19,
    "start_time": "2024-08-04T00:09:25.543Z"
   },
   {
    "duration": 4,
    "start_time": "2024-08-04T00:09:25.564Z"
   },
   {
    "duration": 6,
    "start_time": "2024-08-04T00:09:25.569Z"
   },
   {
    "duration": 26,
    "start_time": "2024-08-04T00:09:25.576Z"
   },
   {
    "duration": 8,
    "start_time": "2024-08-04T00:09:25.604Z"
   },
   {
    "duration": 25,
    "start_time": "2024-08-04T00:09:25.614Z"
   },
   {
    "duration": 340,
    "start_time": "2024-08-04T00:09:25.641Z"
   },
   {
    "duration": 331,
    "start_time": "2024-08-04T00:09:25.982Z"
   },
   {
    "duration": 180,
    "start_time": "2024-08-04T00:09:26.315Z"
   },
   {
    "duration": 223,
    "start_time": "2024-08-04T00:09:26.497Z"
   },
   {
    "duration": 300,
    "start_time": "2024-08-04T00:09:26.721Z"
   },
   {
    "duration": 166,
    "start_time": "2024-08-04T00:09:27.022Z"
   },
   {
    "duration": 5,
    "start_time": "2024-08-04T00:09:27.189Z"
   },
   {
    "duration": 38,
    "start_time": "2024-08-04T00:09:27.195Z"
   },
   {
    "duration": 29,
    "start_time": "2024-08-04T00:09:27.234Z"
   },
   {
    "duration": 6,
    "start_time": "2024-08-04T00:09:27.265Z"
   },
   {
    "duration": 15,
    "start_time": "2024-08-04T00:09:27.273Z"
   },
   {
    "duration": 6,
    "start_time": "2024-08-04T00:09:27.289Z"
   },
   {
    "duration": 20,
    "start_time": "2024-08-04T00:09:27.297Z"
   },
   {
    "duration": 29,
    "start_time": "2024-08-04T00:09:27.318Z"
   },
   {
    "duration": 5,
    "start_time": "2024-08-04T00:09:27.348Z"
   },
   {
    "duration": 11,
    "start_time": "2024-08-04T00:09:27.355Z"
   },
   {
    "duration": 48,
    "start_time": "2024-08-04T00:09:27.367Z"
   },
   {
    "duration": 250,
    "start_time": "2024-08-04T00:09:27.418Z"
   },
   {
    "duration": 0,
    "start_time": "2024-08-04T00:09:27.670Z"
   },
   {
    "duration": 0,
    "start_time": "2024-08-04T00:09:27.671Z"
   },
   {
    "duration": 0,
    "start_time": "2024-08-04T00:09:27.672Z"
   },
   {
    "duration": 0,
    "start_time": "2024-08-04T00:09:27.673Z"
   },
   {
    "duration": 0,
    "start_time": "2024-08-04T00:09:27.674Z"
   },
   {
    "duration": 0,
    "start_time": "2024-08-04T00:09:27.675Z"
   },
   {
    "duration": 0,
    "start_time": "2024-08-04T00:09:27.676Z"
   },
   {
    "duration": 2471,
    "start_time": "2024-08-04T00:10:23.614Z"
   },
   {
    "duration": 1515,
    "start_time": "2024-08-04T00:10:26.088Z"
   },
   {
    "duration": 49,
    "start_time": "2024-08-04T00:10:27.605Z"
   },
   {
    "duration": 17,
    "start_time": "2024-08-04T00:10:27.656Z"
   },
   {
    "duration": 5,
    "start_time": "2024-08-04T00:10:27.675Z"
   },
   {
    "duration": 17,
    "start_time": "2024-08-04T00:10:27.682Z"
   },
   {
    "duration": 21,
    "start_time": "2024-08-04T00:10:27.700Z"
   },
   {
    "duration": 10,
    "start_time": "2024-08-04T00:10:27.722Z"
   },
   {
    "duration": 12,
    "start_time": "2024-08-04T00:10:27.733Z"
   },
   {
    "duration": 22,
    "start_time": "2024-08-04T00:10:27.748Z"
   },
   {
    "duration": 361,
    "start_time": "2024-08-04T00:10:27.772Z"
   },
   {
    "duration": 338,
    "start_time": "2024-08-04T00:10:28.134Z"
   },
   {
    "duration": 214,
    "start_time": "2024-08-04T00:10:28.473Z"
   },
   {
    "duration": 198,
    "start_time": "2024-08-04T00:10:28.689Z"
   },
   {
    "duration": 298,
    "start_time": "2024-08-04T00:10:28.888Z"
   },
   {
    "duration": 174,
    "start_time": "2024-08-04T00:10:29.188Z"
   },
   {
    "duration": 107,
    "start_time": "2024-08-04T00:10:29.363Z"
   },
   {
    "duration": 2,
    "start_time": "2024-08-04T00:10:29.472Z"
   },
   {
    "duration": 19,
    "start_time": "2024-08-04T00:10:29.475Z"
   },
   {
    "duration": 4,
    "start_time": "2024-08-04T00:10:29.496Z"
   },
   {
    "duration": 8,
    "start_time": "2024-08-04T00:10:29.502Z"
   },
   {
    "duration": 15,
    "start_time": "2024-08-04T00:10:29.511Z"
   },
   {
    "duration": 11,
    "start_time": "2024-08-04T00:10:29.528Z"
   },
   {
    "duration": 25,
    "start_time": "2024-08-04T00:10:29.540Z"
   },
   {
    "duration": 9,
    "start_time": "2024-08-04T00:10:29.567Z"
   },
   {
    "duration": 14,
    "start_time": "2024-08-04T00:10:29.578Z"
   },
   {
    "duration": 6,
    "start_time": "2024-08-04T00:10:29.594Z"
   },
   {
    "duration": 8044,
    "start_time": "2024-08-04T00:10:29.604Z"
   },
   {
    "duration": 141710,
    "start_time": "2024-08-04T00:10:37.650Z"
   },
   {
    "duration": 0,
    "start_time": "2024-08-04T00:12:59.362Z"
   },
   {
    "duration": 0,
    "start_time": "2024-08-04T00:12:59.363Z"
   },
   {
    "duration": 0,
    "start_time": "2024-08-04T00:12:59.364Z"
   },
   {
    "duration": 0,
    "start_time": "2024-08-04T00:12:59.365Z"
   },
   {
    "duration": 0,
    "start_time": "2024-08-04T00:12:59.367Z"
   },
   {
    "duration": 0,
    "start_time": "2024-08-04T00:12:59.368Z"
   },
   {
    "duration": 9,
    "start_time": "2024-08-04T00:13:17.958Z"
   },
   {
    "duration": 13,
    "start_time": "2024-08-04T00:13:55.464Z"
   },
   {
    "duration": 2540,
    "start_time": "2024-08-04T00:14:43.019Z"
   },
   {
    "duration": 1521,
    "start_time": "2024-08-04T00:14:45.562Z"
   },
   {
    "duration": 53,
    "start_time": "2024-08-04T00:14:47.085Z"
   },
   {
    "duration": 22,
    "start_time": "2024-08-04T00:14:47.140Z"
   },
   {
    "duration": 48,
    "start_time": "2024-08-04T00:14:47.165Z"
   },
   {
    "duration": 18,
    "start_time": "2024-08-04T00:14:47.214Z"
   },
   {
    "duration": 7,
    "start_time": "2024-08-04T00:14:47.235Z"
   },
   {
    "duration": 17,
    "start_time": "2024-08-04T00:14:47.244Z"
   },
   {
    "duration": 5,
    "start_time": "2024-08-04T00:14:47.264Z"
   },
   {
    "duration": 33,
    "start_time": "2024-08-04T00:14:47.271Z"
   },
   {
    "duration": 379,
    "start_time": "2024-08-04T00:14:47.306Z"
   },
   {
    "duration": 334,
    "start_time": "2024-08-04T00:14:47.686Z"
   },
   {
    "duration": 177,
    "start_time": "2024-08-04T00:14:48.022Z"
   },
   {
    "duration": 194,
    "start_time": "2024-08-04T00:14:48.201Z"
   },
   {
    "duration": 359,
    "start_time": "2024-08-04T00:14:48.397Z"
   },
   {
    "duration": 167,
    "start_time": "2024-08-04T00:14:48.757Z"
   },
   {
    "duration": 113,
    "start_time": "2024-08-04T00:14:48.926Z"
   },
   {
    "duration": 5,
    "start_time": "2024-08-04T00:14:49.041Z"
   },
   {
    "duration": 13,
    "start_time": "2024-08-04T00:14:49.047Z"
   },
   {
    "duration": 6,
    "start_time": "2024-08-04T00:14:49.062Z"
   },
   {
    "duration": 7,
    "start_time": "2024-08-04T00:14:49.069Z"
   },
   {
    "duration": 6,
    "start_time": "2024-08-04T00:14:49.078Z"
   },
   {
    "duration": 8,
    "start_time": "2024-08-04T00:14:49.086Z"
   },
   {
    "duration": 26,
    "start_time": "2024-08-04T00:14:49.096Z"
   },
   {
    "duration": 28,
    "start_time": "2024-08-04T00:14:49.124Z"
   },
   {
    "duration": 13,
    "start_time": "2024-08-04T00:14:49.154Z"
   },
   {
    "duration": 6,
    "start_time": "2024-08-04T00:14:49.169Z"
   },
   {
    "duration": 6279,
    "start_time": "2024-08-04T00:14:49.177Z"
   },
   {
    "duration": 298164,
    "start_time": "2024-08-04T00:14:55.459Z"
   },
   {
    "duration": 0,
    "start_time": "2024-08-04T00:19:53.626Z"
   },
   {
    "duration": 0,
    "start_time": "2024-08-04T00:19:53.628Z"
   },
   {
    "duration": 0,
    "start_time": "2024-08-04T00:19:53.629Z"
   },
   {
    "duration": 0,
    "start_time": "2024-08-04T00:19:53.631Z"
   },
   {
    "duration": 0,
    "start_time": "2024-08-04T00:19:53.632Z"
   },
   {
    "duration": 0,
    "start_time": "2024-08-04T00:19:53.633Z"
   },
   {
    "duration": 13762,
    "start_time": "2024-08-04T00:20:35.017Z"
   },
   {
    "duration": 10,
    "start_time": "2024-08-04T00:20:48.782Z"
   },
   {
    "duration": 48857,
    "start_time": "2024-08-04T00:21:51.818Z"
   },
   {
    "duration": 14,
    "start_time": "2024-08-04T00:22:43.538Z"
   },
   {
    "duration": 352229,
    "start_time": "2024-08-04T00:22:53.238Z"
   },
   {
    "duration": 7,
    "start_time": "2024-08-04T00:28:45.469Z"
   },
   {
    "duration": 38,
    "start_time": "2024-08-04T00:29:33.403Z"
   },
   {
    "duration": 3,
    "start_time": "2024-08-04T00:29:45.143Z"
   },
   {
    "duration": 2430,
    "start_time": "2024-08-04T00:31:00.215Z"
   },
   {
    "duration": 2204,
    "start_time": "2024-08-04T00:31:02.648Z"
   },
   {
    "duration": 50,
    "start_time": "2024-08-04T00:31:04.854Z"
   },
   {
    "duration": 17,
    "start_time": "2024-08-04T00:31:04.905Z"
   },
   {
    "duration": 4,
    "start_time": "2024-08-04T00:31:04.924Z"
   },
   {
    "duration": 18,
    "start_time": "2024-08-04T00:31:04.930Z"
   },
   {
    "duration": 4,
    "start_time": "2024-08-04T00:31:04.950Z"
   },
   {
    "duration": 10,
    "start_time": "2024-08-04T00:31:04.955Z"
   },
   {
    "duration": 5,
    "start_time": "2024-08-04T00:31:04.967Z"
   },
   {
    "duration": 14,
    "start_time": "2024-08-04T00:31:04.973Z"
   },
   {
    "duration": 352,
    "start_time": "2024-08-04T00:31:04.989Z"
   },
   {
    "duration": 310,
    "start_time": "2024-08-04T00:31:05.343Z"
   },
   {
    "duration": 186,
    "start_time": "2024-08-04T00:31:05.655Z"
   },
   {
    "duration": 180,
    "start_time": "2024-08-04T00:31:05.847Z"
   },
   {
    "duration": 310,
    "start_time": "2024-08-04T00:31:06.029Z"
   },
   {
    "duration": 170,
    "start_time": "2024-08-04T00:31:06.341Z"
   },
   {
    "duration": 122,
    "start_time": "2024-08-04T00:31:06.513Z"
   },
   {
    "duration": 27,
    "start_time": "2024-08-04T00:31:06.637Z"
   },
   {
    "duration": 4,
    "start_time": "2024-08-04T00:31:06.666Z"
   },
   {
    "duration": 16,
    "start_time": "2024-08-04T00:31:06.671Z"
   },
   {
    "duration": 21,
    "start_time": "2024-08-04T00:31:06.689Z"
   },
   {
    "duration": 5,
    "start_time": "2024-08-04T00:31:06.712Z"
   },
   {
    "duration": 14,
    "start_time": "2024-08-04T00:31:06.719Z"
   },
   {
    "duration": 7,
    "start_time": "2024-08-04T00:31:06.734Z"
   },
   {
    "duration": 7211,
    "start_time": "2024-08-04T00:31:06.743Z"
   },
   {
    "duration": 14380,
    "start_time": "2024-08-04T00:31:13.956Z"
   },
   {
    "duration": 3512,
    "start_time": "2024-08-04T00:32:55.726Z"
   },
   {
    "duration": 1538,
    "start_time": "2024-08-04T00:32:59.240Z"
   },
   {
    "duration": 53,
    "start_time": "2024-08-04T00:33:00.779Z"
   },
   {
    "duration": 190,
    "start_time": "2024-08-04T00:33:00.834Z"
   },
   {
    "duration": 13,
    "start_time": "2024-08-04T00:33:01.026Z"
   },
   {
    "duration": 33,
    "start_time": "2024-08-04T00:33:01.040Z"
   },
   {
    "duration": 35,
    "start_time": "2024-08-04T00:33:01.075Z"
   },
   {
    "duration": 32,
    "start_time": "2024-08-04T00:33:01.112Z"
   },
   {
    "duration": 20,
    "start_time": "2024-08-04T00:33:01.145Z"
   },
   {
    "duration": 28,
    "start_time": "2024-08-04T00:33:01.168Z"
   },
   {
    "duration": 343,
    "start_time": "2024-08-04T00:33:01.198Z"
   },
   {
    "duration": 343,
    "start_time": "2024-08-04T00:33:01.543Z"
   },
   {
    "duration": 186,
    "start_time": "2024-08-04T00:33:01.887Z"
   },
   {
    "duration": 187,
    "start_time": "2024-08-04T00:33:02.075Z"
   },
   {
    "duration": 328,
    "start_time": "2024-08-04T00:33:02.263Z"
   },
   {
    "duration": 246,
    "start_time": "2024-08-04T00:33:02.593Z"
   },
   {
    "duration": 60,
    "start_time": "2024-08-04T00:33:02.840Z"
   },
   {
    "duration": 84,
    "start_time": "2024-08-04T00:33:02.902Z"
   },
   {
    "duration": 15,
    "start_time": "2024-08-04T00:33:02.988Z"
   },
   {
    "duration": 41,
    "start_time": "2024-08-04T00:33:03.005Z"
   },
   {
    "duration": 26,
    "start_time": "2024-08-04T00:33:03.048Z"
   },
   {
    "duration": 21,
    "start_time": "2024-08-04T00:33:03.076Z"
   },
   {
    "duration": 15,
    "start_time": "2024-08-04T00:33:03.098Z"
   },
   {
    "duration": 20,
    "start_time": "2024-08-04T00:33:03.115Z"
   },
   {
    "duration": 1822,
    "start_time": "2024-08-04T00:33:03.137Z"
   },
   {
    "duration": 13210,
    "start_time": "2024-08-04T00:33:04.961Z"
   },
   {
    "duration": 24980,
    "start_time": "2024-08-04T00:33:18.172Z"
   },
   {
    "duration": 7,
    "start_time": "2024-08-04T00:33:43.157Z"
   },
   {
    "duration": 2113,
    "start_time": "2024-08-04T00:33:43.165Z"
   },
   {
    "duration": 76078,
    "start_time": "2024-08-04T00:33:45.280Z"
   },
   {
    "duration": 13,
    "start_time": "2024-08-04T00:35:01.360Z"
   },
   {
    "duration": 145,
    "start_time": "2024-08-04T00:35:01.374Z"
   },
   {
    "duration": 19,
    "start_time": "2024-08-04T00:36:05.481Z"
   },
   {
    "duration": 22,
    "start_time": "2024-08-04T00:36:05.862Z"
   },
   {
    "duration": 3221,
    "start_time": "2024-08-04T00:40:10.099Z"
   },
   {
    "duration": 1511,
    "start_time": "2024-08-04T00:40:13.322Z"
   },
   {
    "duration": 51,
    "start_time": "2024-08-04T00:40:14.835Z"
   },
   {
    "duration": 17,
    "start_time": "2024-08-04T00:40:14.888Z"
   },
   {
    "duration": 17,
    "start_time": "2024-08-04T00:40:14.906Z"
   },
   {
    "duration": 5,
    "start_time": "2024-08-04T00:40:14.924Z"
   },
   {
    "duration": 5,
    "start_time": "2024-08-04T00:40:14.930Z"
   },
   {
    "duration": 9,
    "start_time": "2024-08-04T00:40:14.937Z"
   },
   {
    "duration": 4,
    "start_time": "2024-08-04T00:40:14.947Z"
   },
   {
    "duration": 26,
    "start_time": "2024-08-04T00:40:14.953Z"
   },
   {
    "duration": 348,
    "start_time": "2024-08-04T00:40:14.981Z"
   },
   {
    "duration": 323,
    "start_time": "2024-08-04T00:40:15.331Z"
   },
   {
    "duration": 179,
    "start_time": "2024-08-04T00:40:15.656Z"
   },
   {
    "duration": 170,
    "start_time": "2024-08-04T00:40:15.837Z"
   },
   {
    "duration": 305,
    "start_time": "2024-08-04T00:40:16.008Z"
   },
   {
    "duration": 171,
    "start_time": "2024-08-04T00:40:16.315Z"
   },
   {
    "duration": 17,
    "start_time": "2024-08-04T00:40:16.488Z"
   },
   {
    "duration": 19,
    "start_time": "2024-08-04T00:40:16.506Z"
   },
   {
    "duration": 21,
    "start_time": "2024-08-04T00:40:16.526Z"
   },
   {
    "duration": 5,
    "start_time": "2024-08-04T00:40:16.548Z"
   },
   {
    "duration": 11,
    "start_time": "2024-08-04T00:40:16.554Z"
   },
   {
    "duration": 5,
    "start_time": "2024-08-04T00:40:16.567Z"
   },
   {
    "duration": 9,
    "start_time": "2024-08-04T00:40:16.573Z"
   },
   {
    "duration": 49,
    "start_time": "2024-08-04T00:40:16.583Z"
   },
   {
    "duration": 2519,
    "start_time": "2024-08-04T00:40:16.634Z"
   },
   {
    "duration": 11789,
    "start_time": "2024-08-04T00:40:19.155Z"
   },
   {
    "duration": 0,
    "start_time": "2024-08-04T00:40:30.946Z"
   },
   {
    "duration": 0,
    "start_time": "2024-08-04T00:40:30.947Z"
   },
   {
    "duration": 0,
    "start_time": "2024-08-04T00:40:30.948Z"
   },
   {
    "duration": 1,
    "start_time": "2024-08-04T00:40:30.949Z"
   },
   {
    "duration": 0,
    "start_time": "2024-08-04T00:40:30.951Z"
   },
   {
    "duration": 0,
    "start_time": "2024-08-04T00:40:30.952Z"
   },
   {
    "duration": 6,
    "start_time": "2024-08-04T00:40:55.294Z"
   },
   {
    "duration": 2465,
    "start_time": "2024-08-04T00:41:31.242Z"
   },
   {
    "duration": 1614,
    "start_time": "2024-08-04T00:41:33.710Z"
   },
   {
    "duration": 51,
    "start_time": "2024-08-04T00:41:35.326Z"
   },
   {
    "duration": 19,
    "start_time": "2024-08-04T00:41:35.379Z"
   },
   {
    "duration": 11,
    "start_time": "2024-08-04T00:41:35.400Z"
   },
   {
    "duration": 7,
    "start_time": "2024-08-04T00:41:35.412Z"
   },
   {
    "duration": 12,
    "start_time": "2024-08-04T00:41:35.420Z"
   },
   {
    "duration": 8,
    "start_time": "2024-08-04T00:41:35.446Z"
   },
   {
    "duration": 23,
    "start_time": "2024-08-04T00:41:35.456Z"
   },
   {
    "duration": 21,
    "start_time": "2024-08-04T00:41:35.481Z"
   },
   {
    "duration": 338,
    "start_time": "2024-08-04T00:41:35.503Z"
   },
   {
    "duration": 319,
    "start_time": "2024-08-04T00:41:35.842Z"
   },
   {
    "duration": 169,
    "start_time": "2024-08-04T00:41:36.163Z"
   },
   {
    "duration": 314,
    "start_time": "2024-08-04T00:41:36.335Z"
   },
   {
    "duration": 614,
    "start_time": "2024-08-04T00:41:36.651Z"
   },
   {
    "duration": 381,
    "start_time": "2024-08-04T00:41:37.267Z"
   },
   {
    "duration": 19,
    "start_time": "2024-08-04T00:41:37.650Z"
   },
   {
    "duration": 81,
    "start_time": "2024-08-04T00:41:37.670Z"
   },
   {
    "duration": 3,
    "start_time": "2024-08-04T00:41:37.753Z"
   },
   {
    "duration": 10,
    "start_time": "2024-08-04T00:41:37.758Z"
   },
   {
    "duration": 13,
    "start_time": "2024-08-04T00:41:37.769Z"
   },
   {
    "duration": 5,
    "start_time": "2024-08-04T00:41:37.783Z"
   },
   {
    "duration": 57,
    "start_time": "2024-08-04T00:41:37.789Z"
   },
   {
    "duration": 7,
    "start_time": "2024-08-04T00:41:37.847Z"
   },
   {
    "duration": 2098,
    "start_time": "2024-08-04T00:41:37.855Z"
   },
   {
    "duration": 98,
    "start_time": "2024-08-04T00:41:39.956Z"
   },
   {
    "duration": 4858,
    "start_time": "2024-08-04T00:41:40.055Z"
   },
   {
    "duration": 0,
    "start_time": "2024-08-04T00:41:44.914Z"
   },
   {
    "duration": 0,
    "start_time": "2024-08-04T00:41:44.916Z"
   },
   {
    "duration": 0,
    "start_time": "2024-08-04T00:41:44.917Z"
   },
   {
    "duration": 0,
    "start_time": "2024-08-04T00:41:44.918Z"
   },
   {
    "duration": 0,
    "start_time": "2024-08-04T00:41:44.919Z"
   },
   {
    "duration": 2514,
    "start_time": "2024-08-04T00:45:02.879Z"
   },
   {
    "duration": 1489,
    "start_time": "2024-08-04T00:45:05.396Z"
   },
   {
    "duration": 53,
    "start_time": "2024-08-04T00:45:06.887Z"
   },
   {
    "duration": 19,
    "start_time": "2024-08-04T00:45:06.942Z"
   },
   {
    "duration": 5,
    "start_time": "2024-08-04T00:45:06.962Z"
   },
   {
    "duration": 8,
    "start_time": "2024-08-04T00:45:06.968Z"
   },
   {
    "duration": 5,
    "start_time": "2024-08-04T00:45:06.977Z"
   },
   {
    "duration": 10,
    "start_time": "2024-08-04T00:45:06.983Z"
   },
   {
    "duration": 3,
    "start_time": "2024-08-04T00:45:06.995Z"
   },
   {
    "duration": 46,
    "start_time": "2024-08-04T00:45:07.001Z"
   },
   {
    "duration": 328,
    "start_time": "2024-08-04T00:45:07.048Z"
   },
   {
    "duration": 310,
    "start_time": "2024-08-04T00:45:07.378Z"
   },
   {
    "duration": 360,
    "start_time": "2024-08-04T00:45:07.690Z"
   },
   {
    "duration": 337,
    "start_time": "2024-08-04T00:45:08.052Z"
   },
   {
    "duration": 683,
    "start_time": "2024-08-04T00:45:08.390Z"
   },
   {
    "duration": 216,
    "start_time": "2024-08-04T00:45:09.075Z"
   },
   {
    "duration": 12,
    "start_time": "2024-08-04T00:45:09.293Z"
   },
   {
    "duration": 24,
    "start_time": "2024-08-04T00:45:09.306Z"
   },
   {
    "duration": 22,
    "start_time": "2024-08-04T00:45:09.332Z"
   },
   {
    "duration": 7,
    "start_time": "2024-08-04T00:45:09.355Z"
   },
   {
    "duration": 9,
    "start_time": "2024-08-04T00:45:09.363Z"
   },
   {
    "duration": 5,
    "start_time": "2024-08-04T00:45:09.373Z"
   },
   {
    "duration": 10,
    "start_time": "2024-08-04T00:45:09.379Z"
   },
   {
    "duration": 11,
    "start_time": "2024-08-04T00:45:09.390Z"
   },
   {
    "duration": 1645,
    "start_time": "2024-08-04T00:45:09.402Z"
   },
   {
    "duration": 8,
    "start_time": "2024-08-04T00:45:11.050Z"
   },
   {
    "duration": 2526,
    "start_time": "2024-08-04T00:45:25.518Z"
   },
   {
    "duration": 1535,
    "start_time": "2024-08-04T00:45:28.046Z"
   },
   {
    "duration": 51,
    "start_time": "2024-08-04T00:45:29.583Z"
   },
   {
    "duration": 17,
    "start_time": "2024-08-04T00:45:29.636Z"
   },
   {
    "duration": 27,
    "start_time": "2024-08-04T00:45:29.654Z"
   },
   {
    "duration": 12,
    "start_time": "2024-08-04T00:45:29.683Z"
   },
   {
    "duration": 12,
    "start_time": "2024-08-04T00:45:29.696Z"
   },
   {
    "duration": 21,
    "start_time": "2024-08-04T00:45:29.710Z"
   },
   {
    "duration": 19,
    "start_time": "2024-08-04T00:45:29.733Z"
   },
   {
    "duration": 20,
    "start_time": "2024-08-04T00:45:29.755Z"
   },
   {
    "duration": 337,
    "start_time": "2024-08-04T00:45:29.776Z"
   },
   {
    "duration": 325,
    "start_time": "2024-08-04T00:45:30.115Z"
   },
   {
    "duration": 208,
    "start_time": "2024-08-04T00:45:30.445Z"
   },
   {
    "duration": 220,
    "start_time": "2024-08-04T00:45:30.655Z"
   },
   {
    "duration": 327,
    "start_time": "2024-08-04T00:45:30.877Z"
   },
   {
    "duration": 180,
    "start_time": "2024-08-04T00:45:31.206Z"
   },
   {
    "duration": 20,
    "start_time": "2024-08-04T00:45:31.388Z"
   },
   {
    "duration": 331,
    "start_time": "2024-08-04T00:45:31.410Z"
   },
   {
    "duration": 179,
    "start_time": "2024-08-04T00:45:31.743Z"
   },
   {
    "duration": 94,
    "start_time": "2024-08-04T00:45:31.924Z"
   },
   {
    "duration": 256,
    "start_time": "2024-08-04T00:45:32.020Z"
   },
   {
    "duration": 46,
    "start_time": "2024-08-04T00:45:32.277Z"
   },
   {
    "duration": 24,
    "start_time": "2024-08-04T00:45:32.324Z"
   },
   {
    "duration": 34,
    "start_time": "2024-08-04T00:45:32.350Z"
   },
   {
    "duration": 2269,
    "start_time": "2024-08-04T00:45:32.386Z"
   },
   {
    "duration": 10,
    "start_time": "2024-08-04T00:45:34.747Z"
   },
   {
    "duration": 14326,
    "start_time": "2024-08-04T00:45:34.847Z"
   },
   {
    "duration": 2452,
    "start_time": "2024-08-04T00:46:06.964Z"
   },
   {
    "duration": 1556,
    "start_time": "2024-08-04T00:46:09.418Z"
   },
   {
    "duration": 52,
    "start_time": "2024-08-04T00:46:10.976Z"
   },
   {
    "duration": 17,
    "start_time": "2024-08-04T00:46:11.030Z"
   },
   {
    "duration": 5,
    "start_time": "2024-08-04T00:46:11.049Z"
   },
   {
    "duration": 13,
    "start_time": "2024-08-04T00:46:11.056Z"
   },
   {
    "duration": 6,
    "start_time": "2024-08-04T00:46:11.071Z"
   },
   {
    "duration": 9,
    "start_time": "2024-08-04T00:46:11.079Z"
   },
   {
    "duration": 4,
    "start_time": "2024-08-04T00:46:11.089Z"
   },
   {
    "duration": 29,
    "start_time": "2024-08-04T00:46:11.094Z"
   },
   {
    "duration": 332,
    "start_time": "2024-08-04T00:46:11.125Z"
   },
   {
    "duration": 303,
    "start_time": "2024-08-04T00:46:11.458Z"
   },
   {
    "duration": 171,
    "start_time": "2024-08-04T00:46:11.763Z"
   },
   {
    "duration": 177,
    "start_time": "2024-08-04T00:46:11.937Z"
   },
   {
    "duration": 308,
    "start_time": "2024-08-04T00:46:12.116Z"
   },
   {
    "duration": 178,
    "start_time": "2024-08-04T00:46:12.426Z"
   },
   {
    "duration": 20,
    "start_time": "2024-08-04T00:46:12.606Z"
   },
   {
    "duration": 38,
    "start_time": "2024-08-04T00:46:12.628Z"
   },
   {
    "duration": 5,
    "start_time": "2024-08-04T00:46:12.668Z"
   },
   {
    "duration": 12,
    "start_time": "2024-08-04T00:46:12.675Z"
   },
   {
    "duration": 25,
    "start_time": "2024-08-04T00:46:12.689Z"
   },
   {
    "duration": 5,
    "start_time": "2024-08-04T00:46:12.716Z"
   },
   {
    "duration": 14,
    "start_time": "2024-08-04T00:46:12.723Z"
   },
   {
    "duration": 33,
    "start_time": "2024-08-04T00:46:12.739Z"
   },
   {
    "duration": 2179,
    "start_time": "2024-08-04T00:46:12.774Z"
   },
   {
    "duration": 98,
    "start_time": "2024-08-04T00:46:14.955Z"
   },
   {
    "duration": 12853,
    "start_time": "2024-08-04T00:46:15.055Z"
   },
   {
    "duration": 2694,
    "start_time": "2024-08-04T00:46:55.028Z"
   },
   {
    "duration": 1571,
    "start_time": "2024-08-04T00:46:57.725Z"
   },
   {
    "duration": 51,
    "start_time": "2024-08-04T00:46:59.299Z"
   },
   {
    "duration": 37,
    "start_time": "2024-08-04T00:46:59.352Z"
   },
   {
    "duration": 22,
    "start_time": "2024-08-04T00:46:59.390Z"
   },
   {
    "duration": 8,
    "start_time": "2024-08-04T00:46:59.414Z"
   },
   {
    "duration": 8,
    "start_time": "2024-08-04T00:46:59.424Z"
   },
   {
    "duration": 17,
    "start_time": "2024-08-04T00:46:59.434Z"
   },
   {
    "duration": 4,
    "start_time": "2024-08-04T00:46:59.453Z"
   },
   {
    "duration": 18,
    "start_time": "2024-08-04T00:46:59.460Z"
   },
   {
    "duration": 349,
    "start_time": "2024-08-04T00:46:59.480Z"
   },
   {
    "duration": 339,
    "start_time": "2024-08-04T00:46:59.830Z"
   },
   {
    "duration": 195,
    "start_time": "2024-08-04T00:47:00.171Z"
   },
   {
    "duration": 200,
    "start_time": "2024-08-04T00:47:00.367Z"
   },
   {
    "duration": 411,
    "start_time": "2024-08-04T00:47:00.577Z"
   },
   {
    "duration": 180,
    "start_time": "2024-08-04T00:47:00.990Z"
   },
   {
    "duration": 31,
    "start_time": "2024-08-04T00:47:01.172Z"
   },
   {
    "duration": 72,
    "start_time": "2024-08-04T00:47:01.205Z"
   },
   {
    "duration": 5,
    "start_time": "2024-08-04T00:47:01.281Z"
   },
   {
    "duration": 185,
    "start_time": "2024-08-04T00:47:01.288Z"
   },
   {
    "duration": 180,
    "start_time": "2024-08-04T00:47:01.475Z"
   },
   {
    "duration": 78,
    "start_time": "2024-08-04T00:47:01.656Z"
   },
   {
    "duration": 68,
    "start_time": "2024-08-04T00:47:01.736Z"
   },
   {
    "duration": 85,
    "start_time": "2024-08-04T00:47:01.806Z"
   },
   {
    "duration": 1960,
    "start_time": "2024-08-04T00:47:01.893Z"
   },
   {
    "duration": 96,
    "start_time": "2024-08-04T00:47:03.855Z"
   },
   {
    "duration": 13597,
    "start_time": "2024-08-04T00:47:03.954Z"
   },
   {
    "duration": 2489,
    "start_time": "2024-08-04T00:47:37.566Z"
   },
   {
    "duration": 1579,
    "start_time": "2024-08-04T00:47:40.057Z"
   },
   {
    "duration": 54,
    "start_time": "2024-08-04T00:47:41.637Z"
   },
   {
    "duration": 18,
    "start_time": "2024-08-04T00:47:41.692Z"
   },
   {
    "duration": 5,
    "start_time": "2024-08-04T00:47:41.712Z"
   },
   {
    "duration": 4,
    "start_time": "2024-08-04T00:47:41.718Z"
   },
   {
    "duration": 5,
    "start_time": "2024-08-04T00:47:41.723Z"
   },
   {
    "duration": 17,
    "start_time": "2024-08-04T00:47:41.729Z"
   },
   {
    "duration": 4,
    "start_time": "2024-08-04T00:47:41.748Z"
   },
   {
    "duration": 15,
    "start_time": "2024-08-04T00:47:41.755Z"
   },
   {
    "duration": 342,
    "start_time": "2024-08-04T00:47:41.771Z"
   },
   {
    "duration": 323,
    "start_time": "2024-08-04T00:47:42.114Z"
   },
   {
    "duration": 181,
    "start_time": "2024-08-04T00:47:42.438Z"
   },
   {
    "duration": 174,
    "start_time": "2024-08-04T00:47:42.620Z"
   },
   {
    "duration": 337,
    "start_time": "2024-08-04T00:47:42.796Z"
   },
   {
    "duration": 173,
    "start_time": "2024-08-04T00:47:43.135Z"
   },
   {
    "duration": 36,
    "start_time": "2024-08-04T00:47:43.310Z"
   },
   {
    "duration": 25,
    "start_time": "2024-08-04T00:47:43.348Z"
   },
   {
    "duration": 4,
    "start_time": "2024-08-04T00:47:43.376Z"
   },
   {
    "duration": 6,
    "start_time": "2024-08-04T00:47:43.381Z"
   },
   {
    "duration": 16,
    "start_time": "2024-08-04T00:47:43.388Z"
   },
   {
    "duration": 5,
    "start_time": "2024-08-04T00:47:43.406Z"
   },
   {
    "duration": 52,
    "start_time": "2024-08-04T00:47:43.412Z"
   },
   {
    "duration": 5,
    "start_time": "2024-08-04T00:47:43.465Z"
   },
   {
    "duration": 2081,
    "start_time": "2024-08-04T00:47:43.471Z"
   },
   {
    "duration": 95,
    "start_time": "2024-08-04T00:47:45.555Z"
   },
   {
    "duration": 13765,
    "start_time": "2024-08-04T00:47:45.653Z"
   },
   {
    "duration": 75795,
    "start_time": "2024-08-04T00:47:59.422Z"
   },
   {
    "duration": 4872,
    "start_time": "2024-08-04T00:49:15.219Z"
   },
   {
    "duration": 89063,
    "start_time": "2024-08-04T00:49:20.093Z"
   },
   {
    "duration": 13,
    "start_time": "2024-08-04T00:50:49.157Z"
   },
   {
    "duration": 90,
    "start_time": "2024-08-04T00:50:49.172Z"
   },
   {
    "duration": 10,
    "start_time": "2024-08-04T00:51:15.855Z"
   },
   {
    "duration": 8,
    "start_time": "2024-08-04T00:51:41.095Z"
   },
   {
    "duration": 119,
    "start_time": "2024-08-04T00:53:30.738Z"
   },
   {
    "duration": 5,
    "start_time": "2024-08-04T00:53:49.174Z"
   },
   {
    "duration": 15,
    "start_time": "2024-08-04T00:53:52.320Z"
   },
   {
    "duration": 5,
    "start_time": "2024-08-04T00:54:03.355Z"
   },
   {
    "duration": 10,
    "start_time": "2024-08-04T00:54:56.215Z"
   },
   {
    "duration": 5,
    "start_time": "2024-08-04T00:55:03.594Z"
   },
   {
    "duration": 15,
    "start_time": "2024-08-04T00:57:07.280Z"
   },
   {
    "duration": 239,
    "start_time": "2024-08-04T00:57:27.823Z"
   },
   {
    "duration": 234,
    "start_time": "2024-08-04T00:58:27.256Z"
   },
   {
    "duration": 2455,
    "start_time": "2024-08-04T01:03:41.901Z"
   },
   {
    "duration": 1724,
    "start_time": "2024-08-04T01:03:44.359Z"
   },
   {
    "duration": 52,
    "start_time": "2024-08-04T01:03:46.085Z"
   },
   {
    "duration": 19,
    "start_time": "2024-08-04T01:03:46.139Z"
   },
   {
    "duration": 21,
    "start_time": "2024-08-04T01:03:46.160Z"
   },
   {
    "duration": 14,
    "start_time": "2024-08-04T01:03:46.183Z"
   },
   {
    "duration": 4,
    "start_time": "2024-08-04T01:03:46.199Z"
   },
   {
    "duration": 10,
    "start_time": "2024-08-04T01:03:46.205Z"
   },
   {
    "duration": 4,
    "start_time": "2024-08-04T01:03:46.216Z"
   },
   {
    "duration": 31,
    "start_time": "2024-08-04T01:03:46.224Z"
   },
   {
    "duration": 352,
    "start_time": "2024-08-04T01:03:46.257Z"
   },
   {
    "duration": 333,
    "start_time": "2024-08-04T01:03:46.610Z"
   },
   {
    "duration": 173,
    "start_time": "2024-08-04T01:03:46.945Z"
   },
   {
    "duration": 179,
    "start_time": "2024-08-04T01:03:47.120Z"
   },
   {
    "duration": 299,
    "start_time": "2024-08-04T01:03:47.300Z"
   },
   {
    "duration": 163,
    "start_time": "2024-08-04T01:03:47.601Z"
   },
   {
    "duration": 24,
    "start_time": "2024-08-04T01:03:47.765Z"
   },
   {
    "duration": 24,
    "start_time": "2024-08-04T01:03:47.791Z"
   },
   {
    "duration": 3,
    "start_time": "2024-08-04T01:03:47.817Z"
   },
   {
    "duration": 27,
    "start_time": "2024-08-04T01:03:47.821Z"
   },
   {
    "duration": 17,
    "start_time": "2024-08-04T01:03:47.849Z"
   },
   {
    "duration": 5,
    "start_time": "2024-08-04T01:03:47.868Z"
   },
   {
    "duration": 7,
    "start_time": "2024-08-04T01:03:47.876Z"
   },
   {
    "duration": 5,
    "start_time": "2024-08-04T01:03:47.885Z"
   },
   {
    "duration": 2262,
    "start_time": "2024-08-04T01:03:47.892Z"
   },
   {
    "duration": 96,
    "start_time": "2024-08-04T01:03:50.156Z"
   },
   {
    "duration": 13656,
    "start_time": "2024-08-04T01:03:50.254Z"
   },
   {
    "duration": 76622,
    "start_time": "2024-08-04T01:04:03.914Z"
   },
   {
    "duration": 4803,
    "start_time": "2024-08-04T01:05:20.539Z"
   },
   {
    "duration": 88510,
    "start_time": "2024-08-04T01:05:25.346Z"
   },
   {
    "duration": 11,
    "start_time": "2024-08-04T01:06:53.858Z"
   },
   {
    "duration": 22,
    "start_time": "2024-08-04T01:06:53.871Z"
   },
   {
    "duration": 22,
    "start_time": "2024-08-04T01:06:53.895Z"
   },
   {
    "duration": 246,
    "start_time": "2024-08-04T01:06:53.946Z"
   },
   {
    "duration": 2482,
    "start_time": "2024-08-04T01:08:39.242Z"
   },
   {
    "duration": 1535,
    "start_time": "2024-08-04T01:08:41.726Z"
   },
   {
    "duration": 53,
    "start_time": "2024-08-04T01:08:43.263Z"
   },
   {
    "duration": 20,
    "start_time": "2024-08-04T01:08:43.318Z"
   },
   {
    "duration": 30,
    "start_time": "2024-08-04T01:08:43.340Z"
   },
   {
    "duration": 13,
    "start_time": "2024-08-04T01:08:43.372Z"
   },
   {
    "duration": 32,
    "start_time": "2024-08-04T01:08:43.388Z"
   },
   {
    "duration": 17,
    "start_time": "2024-08-04T01:08:43.422Z"
   },
   {
    "duration": 16,
    "start_time": "2024-08-04T01:08:43.441Z"
   },
   {
    "duration": 40,
    "start_time": "2024-08-04T01:08:43.459Z"
   },
   {
    "duration": 332,
    "start_time": "2024-08-04T01:08:43.501Z"
   },
   {
    "duration": 349,
    "start_time": "2024-08-04T01:08:43.835Z"
   },
   {
    "duration": 175,
    "start_time": "2024-08-04T01:08:44.186Z"
   },
   {
    "duration": 185,
    "start_time": "2024-08-04T01:08:44.363Z"
   },
   {
    "duration": 314,
    "start_time": "2024-08-04T01:08:44.550Z"
   },
   {
    "duration": 171,
    "start_time": "2024-08-04T01:08:44.866Z"
   },
   {
    "duration": 27,
    "start_time": "2024-08-04T01:08:45.039Z"
   },
   {
    "duration": 55,
    "start_time": "2024-08-04T01:08:45.068Z"
   },
   {
    "duration": 80,
    "start_time": "2024-08-04T01:08:45.124Z"
   },
   {
    "duration": 20,
    "start_time": "2024-08-04T01:08:45.206Z"
   },
   {
    "duration": 53,
    "start_time": "2024-08-04T01:08:45.228Z"
   },
   {
    "duration": 47,
    "start_time": "2024-08-04T01:08:45.283Z"
   },
   {
    "duration": 92,
    "start_time": "2024-08-04T01:08:45.331Z"
   },
   {
    "duration": 52,
    "start_time": "2024-08-04T01:08:45.425Z"
   },
   {
    "duration": 2175,
    "start_time": "2024-08-04T01:08:45.479Z"
   },
   {
    "duration": 14137,
    "start_time": "2024-08-04T01:08:47.656Z"
   },
   {
    "duration": 76015,
    "start_time": "2024-08-04T01:09:01.795Z"
   },
   {
    "duration": 4894,
    "start_time": "2024-08-04T01:10:17.814Z"
   },
   {
    "duration": 91437,
    "start_time": "2024-08-04T01:10:22.710Z"
   },
   {
    "duration": 13,
    "start_time": "2024-08-04T01:11:54.149Z"
   },
   {
    "duration": 31,
    "start_time": "2024-08-04T01:11:54.164Z"
   },
   {
    "duration": 20,
    "start_time": "2024-08-04T01:11:54.196Z"
   },
   {
    "duration": 250,
    "start_time": "2024-08-04T01:11:54.217Z"
   },
   {
    "duration": 3479,
    "start_time": "2024-10-18T14:49:36.762Z"
   },
   {
    "duration": 1813,
    "start_time": "2024-10-18T14:49:40.243Z"
   },
   {
    "duration": 104,
    "start_time": "2024-10-18T14:49:42.058Z"
   },
   {
    "duration": 19,
    "start_time": "2024-10-18T14:49:42.165Z"
   },
   {
    "duration": 5,
    "start_time": "2024-10-18T14:49:42.186Z"
   },
   {
    "duration": 57,
    "start_time": "2024-10-18T14:49:42.193Z"
   },
   {
    "duration": 5,
    "start_time": "2024-10-18T14:49:42.251Z"
   },
   {
    "duration": 22,
    "start_time": "2024-10-18T14:49:42.257Z"
   },
   {
    "duration": 4,
    "start_time": "2024-10-18T14:49:42.280Z"
   },
   {
    "duration": 21,
    "start_time": "2024-10-18T14:49:42.287Z"
   },
   {
    "duration": 358,
    "start_time": "2024-10-18T14:49:42.309Z"
   },
   {
    "duration": 334,
    "start_time": "2024-10-18T14:49:42.669Z"
   },
   {
    "duration": 187,
    "start_time": "2024-10-18T14:49:43.005Z"
   },
   {
    "duration": 186,
    "start_time": "2024-10-18T14:49:43.193Z"
   },
   {
    "duration": 357,
    "start_time": "2024-10-18T14:49:43.381Z"
   },
   {
    "duration": 216,
    "start_time": "2024-10-18T14:49:43.740Z"
   },
   {
    "duration": 25,
    "start_time": "2024-10-18T14:49:43.958Z"
   },
   {
    "duration": 43,
    "start_time": "2024-10-18T14:49:43.985Z"
   },
   {
    "duration": 40,
    "start_time": "2024-10-18T14:49:44.029Z"
   },
   {
    "duration": 38,
    "start_time": "2024-10-18T14:49:44.071Z"
   },
   {
    "duration": 6,
    "start_time": "2024-10-18T14:49:44.111Z"
   },
   {
    "duration": 14,
    "start_time": "2024-10-18T14:49:44.118Z"
   },
   {
    "duration": 9,
    "start_time": "2024-10-18T14:49:44.133Z"
   },
   {
    "duration": 2478,
    "start_time": "2024-10-18T14:49:44.144Z"
   },
   {
    "duration": 13301,
    "start_time": "2024-10-18T14:49:46.625Z"
   },
   {
    "duration": 77934,
    "start_time": "2024-10-18T14:49:59.927Z"
   },
   {
    "duration": 5196,
    "start_time": "2024-10-18T14:51:17.863Z"
   },
   {
    "duration": 75869,
    "start_time": "2024-10-18T14:51:23.063Z"
   },
   {
    "duration": 13,
    "start_time": "2024-10-18T14:52:38.934Z"
   },
   {
    "duration": 8,
    "start_time": "2024-10-18T14:52:39.022Z"
   },
   {
    "duration": 9,
    "start_time": "2024-10-18T14:52:39.031Z"
   },
   {
    "duration": 264,
    "start_time": "2024-10-18T14:52:39.042Z"
   }
  ],
  "kernelspec": {
   "display_name": "Python 3 (ipykernel)",
   "language": "python",
   "name": "python3"
  },
  "language_info": {
   "codemirror_mode": {
    "name": "ipython",
    "version": 3
   },
   "file_extension": ".py",
   "mimetype": "text/x-python",
   "name": "python",
   "nbconvert_exporter": "python",
   "pygments_lexer": "ipython3",
   "version": "3.9.5"
  },
  "toc": {
   "base_numbering": 1,
   "nav_menu": {},
   "number_sections": true,
   "sideBar": true,
   "skip_h1_title": true,
   "title_cell": "Содержание",
   "title_sidebar": "Contents",
   "toc_cell": true,
   "toc_position": {
    "height": "calc(100% - 180px)",
    "left": "10px",
    "top": "150px",
    "width": "334px"
   },
   "toc_section_display": true,
   "toc_window_display": false
  }
 },
 "nbformat": 4,
 "nbformat_minor": 2
}
